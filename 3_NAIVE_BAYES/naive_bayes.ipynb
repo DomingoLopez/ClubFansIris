{
 "cells": [
  {
   "cell_type": "markdown",
   "metadata": {},
   "source": [
    "### Universidad de Granada | ETSIIT | Escuela Internacional de Posgrado\n",
    "---\n",
    "# **Proyecto Final**: Naïve Bayes\n",
    "---\n",
    "**Asignatura:** Minería de Datos: Preprocesamiento y Clasificación\n",
    "\n",
    "**Autor:** Lugli, Valentino Glauco · YB0819879"
   ]
  },
  {
   "cell_type": "markdown",
   "metadata": {},
   "source": [
    "# Librerías y Datos"
   ]
  },
  {
   "cell_type": "code",
   "execution_count": 7,
   "metadata": {},
   "outputs": [],
   "source": [
    "import pandas as pd\n",
    "import seaborn as sns\n",
    "import matplotlib.pyplot as plt\n",
    "import os\n",
    "import numpy as np\n",
    "from scipy import stats\n",
    "from tabulate import tabulate\n",
    "import pickle\n",
    "import optuna\n",
    "import datetime\n",
    "\n",
    "from sklearn.model_selection import train_test_split\n",
    "from sklearn.naive_bayes import GaussianNB, MultinomialNB, ComplementNB, BernoulliNB, CategoricalNB\n",
    "from sklearn.metrics import classification_report, confusion_matrix\n",
    "from sklearn.decomposition import PCA\n",
    "from sklearn.preprocessing import StandardScaler, MinMaxScaler, KBinsDiscretizer, Normalizer, QuantileTransformer, PowerTransformer\n",
    "from sklearn.feature_selection import SelectKBest, SelectPercentile, f_classif\n",
    "from sklearn.neighbors import LocalOutlierFactor\n",
    "\n",
    "\n",
    "from imblearn.under_sampling import NearMiss, RandomUnderSampler\n",
    "from imblearn.over_sampling import SMOTE"
   ]
  },
  {
   "cell_type": "code",
   "execution_count": 8,
   "metadata": {},
   "outputs": [],
   "source": [
    "df_credit = pd.read_csv(\"../data_preprocess/train_preprocess.csv\").drop(columns=[\"ID\"])\n",
    "\n",
    "df_credit_x = df_credit.drop(columns=[\"RATE\"])\n",
    "df_credit_y = df_credit[\"RATE\"]\n",
    "\n",
    "df_test = pd.read_csv(\"../data_preprocess/test_preprocess.csv\")\n",
    "X_test     = df_test.drop(columns=[\"ID\"])\n",
    "X_test_ids = df_test[\"ID\"]"
   ]
  },
  {
   "cell_type": "markdown",
   "metadata": {},
   "source": [
    "# Preprocesado"
   ]
  },
  {
   "cell_type": "markdown",
   "metadata": {},
   "source": [
    "## Funciones"
   ]
  },
  {
   "cell_type": "code",
   "execution_count": 27,
   "metadata": {},
   "outputs": [],
   "source": [
    "def naive_bayes_fits(results, x_train, y_train, x_val, y_val, show_cf = True):\n",
    "\n",
    "    for model in results:\n",
    "\n",
    "        y_pred_train = results[model][\"model\"].fit(x_train, y_train).predict(x_train)\n",
    "        y_pred_val   = results[model][\"model\"].predict(x_val)\n",
    "        results[model][\"train_stats\"] = classification_report(y_train, y_pred_train, output_dict=True, zero_division=0)\n",
    "        results[model][\"val_stats\"]  = classification_report(y_val, y_pred_val, output_dict=True, zero_division=0)\n",
    "        results[model][\"val_conf\"]  = confusion_matrix(y_val, y_pred_val)\n",
    "        results[model][\"val_pred\"]  = y_pred_val\n",
    "        results[model][\"train_pred\"]  = y_pred_train   \n",
    "\n",
    "    naive_bayes_stats(results, show_cf=show_cf)\n",
    "\n",
    "    return results\n",
    "\n",
    "def naive_bayes_stats(results, show_cf = True, figsize = (18, 4)):\n",
    "    \n",
    "    header = [\"Variant\", \"F1 Score\", \"Train Acc\", \"Test Acc\", \"Parameters\"]\n",
    "    body = []\n",
    "    matrices = []\n",
    "\n",
    "    for m in results:\n",
    "        if(\"params\" not in results[m].keys()):\n",
    "            results[m][\"params\"] = \"\"\n",
    "            \n",
    "        body.append([m, results[m][\"val_stats\"][\"macro avg\"][\"f1-score\"], results[m][\"train_stats\"][\"accuracy\"] * 100, results[m][\"val_stats\"][\"accuracy\"] * 100, results[m][\"params\"]])\n",
    "        matrices.append(results[m][\"val_conf\"])\n",
    "    print(tabulate(body, headers=header, floatfmt=\".4f\"))\n",
    "\n",
    "    if(show_cf):\n",
    "        fig, axes = plt.subplots(nrows=1, ncols=len(matrices), figsize = figsize)\n",
    "\n",
    "        tick_labels = [\"A\", \"B\", \"C\", \"D\"]\n",
    "\n",
    "        if(len(matrices) > 1):\n",
    "            axes = axes.flatten()\n",
    "        else:\n",
    "            curr_ax = axes\n",
    "\n",
    "        for i, model in enumerate(results):\n",
    "            if(len(matrices) > 1):\n",
    "                curr_ax = axes[i]\n",
    "\n",
    "            sns.heatmap(matrices[i], ax=curr_ax, annot=True, xticklabels=tick_labels, yticklabels=tick_labels)\n",
    "            curr_ax.title.set_text(model)\n",
    "            curr_ax.set_xlabel(\"Predicted\") \n",
    "            curr_ax.set_ylabel(\"Real\") \n",
    "\n",
    "        plt.tight_layout()\n",
    "        plt.show()\n",
    "\n",
    "def to_kaggle(pred, id, path=\".\", fname=\"kaggle_out\"):\n",
    "    kaggle_dict = {\"ID\" : id, \"RATE\" : pred}\n",
    "    pd.DataFrame(data=kaggle_dict).to_csv(\"{}/{}.csv\".format(path, fname), index=False)\n",
    "\n",
    "def get_kaggle_pred(model, data, id, path=\".\", fname=\"kaggle_out\"):\n",
    "    model_pred = model.predict(data)\n",
    "    to_kaggle(model_pred, id, path=path, fname=fname)"
   ]
  },
  {
   "cell_type": "code",
   "execution_count": 11,
   "metadata": {},
   "outputs": [],
   "source": [
    "def set_scaler(scaler, X_train_in, X_val_in, X_test_in):\n",
    "    scaler.fit(X_train_in)\n",
    "\n",
    "    X_train_out = pd.DataFrame(scaler.transform(X_train_in), columns=X_train_in.columns)\n",
    "    X_val_out   = pd.DataFrame(scaler.transform(X_val_in), columns=X_train_in.columns)\n",
    "    X_test_out  = pd.DataFrame(scaler.transform(X_test_in), columns=X_train_in.columns)\n",
    "\n",
    "    return X_train_out, X_val_out, X_test_out\n",
    "\n",
    "\n",
    "def set_PCA(X_train_in, X_val_in, X_test_in, ratio):\n",
    "    explained_variance_ratio = 0\n",
    "    i = 0\n",
    "    while(explained_variance_ratio < ratio):\n",
    "        i += 1\n",
    "        pca = PCA(n_components=i)\n",
    "        pca.fit(X_train_in)\n",
    "        explained_variance_ratio = np.sum(pca.explained_variance_ratio_)\n",
    "\n",
    "    X_train_out = pd.DataFrame(pca.transform(X_train_in))\n",
    "    X_val_out   = pd.DataFrame(pca.transform(X_val_in))\n",
    "    X_test_out  = pd.DataFrame(pca.transform(X_test_in))\n",
    "\n",
    "    return X_train_out, X_val_out, X_test_out\n",
    "\n",
    "def discretize(X_train_in, X_val_in, X_test_in, bins, enconder, strat):\n",
    "    discretizer = KBinsDiscretizer(n_bins=bins, encode=enconder, strategy=strat)\n",
    "\n",
    "    X_train_out = pd.DataFrame(discretizer.fit_transform(X_train_in), columns=discretizer.get_feature_names_out())\n",
    "    X_val_out   = pd.DataFrame(discretizer.transform(X_val_in), columns=discretizer.get_feature_names_out())\n",
    "    X_test_out  = pd.DataFrame(discretizer.transform(X_test_in), columns=discretizer.get_feature_names_out())\n",
    "\n",
    "    return X_train_out, X_val_out, X_test_out\n",
    " \n",
    "def feature_perc(X_train_in, y_train_in, X_val_in, X_test_in, percent):\n",
    "    fs = SelectPercentile(score_func=f_classif, percentile=percent)\n",
    "\n",
    "    X_train_out = pd.DataFrame(fs.fit_transform(X_train_in, y_train_in))\n",
    "    X_val_out   = pd.DataFrame(fs.transform(X_val_in))\n",
    "    X_test_out  = pd.DataFrame(fs.transform(X_test_in))\n",
    "\n",
    "    return X_train_out, X_val_out, X_test_out\n",
    "\n",
    "def feature_top(X_train_in, y_train_in, X_val_in, X_test_in, k):\n",
    "    fs = SelectKBest(score_func=f_classif, k=k)\n",
    "\n",
    "    X_train_out = pd.DataFrame(fs.fit_transform(X_train_in, y_train_in))\n",
    "    X_val_out   = pd.DataFrame(fs.transform(X_val_in))\n",
    "    X_test_out  = pd.DataFrame(fs.transform(X_test_in))\n",
    "\n",
    "    return X_train_out, X_val_out, X_test_out\n",
    "\n",
    "def get_lof(X_train_in, y_train_in, neigh):\n",
    "    lof = LocalOutlierFactor(n_neighbors=neigh)\n",
    "    yhat = lof.fit_predict(X_train_in)\n",
    "\n",
    "    mask = yhat != -1\n",
    "    X_train_out, y_train_out = X_train_in[mask], y_train_in[mask]  \n",
    "\n",
    "    return X_train_out, y_train_out\n",
    "\n",
    "def down_sample(X_train_in, y_train_in, neigh):\n",
    "    X_train_out, y_train_out = NearMiss(version=2, n_neighbors=neigh).fit_resample(X_train_in, y_train_in)\n",
    "\n",
    "    return X_train_out, y_train_out\n",
    "\n",
    "def up_sample(X_train_in, y_train_in, neigh):\n",
    "    sm = SMOTE(random_state=16, k_neighbors=neigh)\n",
    "    X_train_out, y_train_out = sm.fit_resample(X_train_in, y_train_in)\n",
    "\n",
    "    return X_train_out, y_train_out\n",
    "\n",
    "def get_collinear_features(x, threshold):\n",
    "    '''\n",
    "    Objective:\n",
    "        Remove collinear features in a dataframe with a correlation coefficient\n",
    "        greater than the threshold. Removing collinear features can help a model \n",
    "        to generalize and improves the interpretability of the model.\n",
    "\n",
    "    Inputs: \n",
    "        x: features dataframe\n",
    "        threshold: features with correlations greater than this value are removed\n",
    "\n",
    "    Output: \n",
    "        dataframe that contains only the non-highly-collinear features\n",
    "    '''\n",
    "\n",
    "    # Calculate the correlation matrix\n",
    "    corr_matrix = x.corr()\n",
    "    iters = range(len(corr_matrix.columns) - 1)\n",
    "    drop_cols = []\n",
    "\n",
    "    # Iterate through the correlation matrix and compare correlations\n",
    "    for i in iters:\n",
    "        for j in range(i+1):\n",
    "            item = corr_matrix.iloc[j:(j+1), (i+1):(i+2)]\n",
    "            col = item.columns\n",
    "            row = item.index\n",
    "            val = abs(item.values)\n",
    "\n",
    "            # If correlation exceeds the threshold\n",
    "            if val >= threshold:\n",
    "                # Print the correlated features and the correlation value\n",
    "                # print(col.values[0], \"|\", row.values[0], \"|\", round(val[0][0], 2))\n",
    "                drop_cols.append(col.values[0])\n",
    "\n",
    "    # Drop one of each pair of correlated columns\n",
    "    drops = set(drop_cols)\n",
    "    # print('Correlated Columns are: {}'.format(sorted(drops)))\n",
    "    return drops\n",
    "\n",
    "def delete_corr(X_train_in, X_val_in, X_test_in, corr_val):\n",
    "    collinear_cols = get_collinear_features(X_train_in, corr_val)\n",
    "    X_train_out = X_train_in.drop(columns=collinear_cols)\n",
    "    X_val_out   = X_val_in.drop(columns=collinear_cols)\n",
    "    X_test_out  = X_test_in.drop(columns=collinear_cols)\n",
    "\n",
    "    return X_train_out, X_val_out, X_test_out"
   ]
  },
  {
   "cell_type": "markdown",
   "metadata": {},
   "source": [
    "# Optuna"
   ]
  },
  {
   "cell_type": "code",
   "execution_count": 13,
   "metadata": {},
   "outputs": [],
   "source": [
    "class TuningParams:\n",
    "    def __init__(self, X_data, y_data, X_test) -> None:\n",
    "        self.X_train, self.X_val, self.y_train, self.y_val = train_test_split(X_data, \n",
    "                                                            y_data, stratify=y_data, \n",
    "                                                            test_size=0.2, \n",
    "                                                            random_state=16)\n",
    "        self.X_test = X_test.drop(columns=[\"ID\"])\n",
    "        self.X_test_ids = X_test[\"ID\"]\n",
    "        self.trial = {}\n",
    "\n",
    "        self.scalers = {\"std\" : StandardScaler(), \n",
    "                        \"norm\" : Normalizer(), \n",
    "                        \"quan\" : QuantileTransformer(n_quantiles=600), \n",
    "                        \"power\" : PowerTransformer()}\n",
    "\n",
    "    def objective_function(self, trial):\n",
    "        X_train = self.X_train\n",
    "        y_train = self.y_train\n",
    "        X_val   = self.X_val\n",
    "        y_val   = self.y_val\n",
    "        X_test  = self.X_test\n",
    "\n",
    "        # Standarization\n",
    "        scaler = trial.suggest_categorical(\"scaler\", [\"std\", \"norm\", \"quan\", \"power\"])\n",
    "        X_train, X_val, X_test = set_scaler(self.scalers[scaler], X_train, X_val, X_test)\n",
    "\n",
    "        # LOF\n",
    "        do_LOF = trial.suggest_categorical(\"lof\", [True, False])\n",
    "\n",
    "        if(do_LOF):\n",
    "            neigs = trial.suggest_int(\"lof_neighs\", 10, 30)\n",
    "            X_train, y_train = get_lof(X_train, y_train, neigs)\n",
    "\n",
    "        # Feature Selection\n",
    "        do_feat_sel = trial.suggest_categorical(\"feature_selection\", [True, False])\n",
    "\n",
    "        if(do_feat_sel):\n",
    "            sel_type = trial.suggest_categorical(\"feat_sel_type\", [\"top\", \"perc\"])\n",
    "\n",
    "            if(sel_type == \"top\"):\n",
    "                trial.set_user_attr(\"num_cols\", len(X_train.columns))\n",
    "                best_k = trial.suggest_int(\"top_k\", 5, 25)\n",
    "                X_train, X_val, X_test = feature_top(X_train, y_train, X_val, X_test, best_k)\n",
    "            else:\n",
    "                perc = trial.suggest_int(\"perc\", 5, 25)\n",
    "                X_train, X_val, X_test = feature_perc(X_train, y_train, X_val, X_test, perc)\n",
    "\n",
    "        # Correlated Columns\n",
    "        delete_correlated = trial.suggest_categorical(\"delete_correlated\", [True, False])\n",
    "        if(delete_correlated):\n",
    "            corr_val = trial.suggest_float(\"corr_value\", 0.5, 0.8)\n",
    "            X_train, X_val, X_test = delete_corr(X_train, X_val, X_test, corr_val)\n",
    "        \n",
    "        # PCA\n",
    "        do_PCA = trial.suggest_categorical(\"pca\", [True, False])\n",
    "\n",
    "        if(do_PCA):\n",
    "            ratio = trial.suggest_float(\"pca_ratio\", 0.5, 0.95)\n",
    "            X_train, X_val, X_test = set_PCA(X_train, X_val, X_test, ratio)\n",
    "\n",
    "        # Under/Oversampling\n",
    "        do_resampling = trial.suggest_categorical(\"resample\", [True, False])\n",
    "\n",
    "        if(do_resampling):\n",
    "            kind = trial.suggest_categorical(\"kind\", [\"up\", \"down\"])\n",
    "            if(kind == \"up\"):\n",
    "                neigs = trial.suggest_int(\"up_neighs\", 2, 10)\n",
    "                X_train, y_train = up_sample(X_train, y_train, neigs)\n",
    "            else:\n",
    "                neigs = trial.suggest_int(\"down_neighs\", 2, 10)\n",
    "                X_train, y_train = down_sample(X_train, y_train, neigs)\n",
    "\n",
    "        # Fitting and testing...\n",
    "        nb_type = trial.suggest_categorical(\"nb_type\", [\"gauss\", \"discrete\"])\n",
    "        if(nb_type == \"gauss\"):\n",
    "            model = GaussianNB()\n",
    "        \n",
    "        if(nb_type == \"discrete\"):\n",
    "            discr_bins = trial.suggest_int(\"discr_bins\", 10, 20)\n",
    "            discr_encoder = trial.suggest_categorical(\"discr_encoder\", [\"onehot-dense\", \"ordinal\"])\n",
    "            discr_strat = trial.suggest_categorical(\"discr_strat\", [\"uniform\", \"quantile\"])\n",
    "\n",
    "            try:\n",
    "                X_train, X_val, X_test = discretize(X_train, X_val, X_test, discr_bins, discr_encoder, discr_strat)\n",
    "            except Exception:\n",
    "                return -1\n",
    "            \n",
    "            model = CategoricalNB(force_alpha=True)\n",
    "\n",
    "        try:\n",
    "            y_train_pred = model.fit(X_train, y_train).predict(X_train)\n",
    "            y_val_pred   = model.predict(X_val)\n",
    "            y_test_pred  = model.predict(X_test)\n",
    "        except Exception:\n",
    "            return -1\n",
    "\n",
    "        self.trial[trial.number] = {}\n",
    "        self.trial[trial.number][\"train_stats\"] = classification_report(y_train, y_train_pred, output_dict=True, zero_division=0)\n",
    "        self.trial[trial.number][\"val_stats\"]   = classification_report(y_val, y_val_pred, output_dict=True, zero_division=0)\n",
    "        self.trial[trial.number][\"val_conf\"]    = confusion_matrix(y_val, y_val_pred)\n",
    "        self.trial[trial.number][\"train_pred\"]  = y_train_pred\n",
    "        self.trial[trial.number][\"val_pred\"]    = y_val_pred\n",
    "        # self.trial[trial.number][\"X_test\"]      = X_test\n",
    "        self.trial[trial.number][\"test_pred\"]   = y_test_pred\n",
    "        self.trial[trial.number][\"model\"]       = model\n",
    "        \n",
    "        act_acc = self.trial[trial.number][\"val_stats\"][\"accuracy\"]\n",
    "        act_f1  = self.trial[trial.number][\"val_stats\"][\"macro avg\"][\"f1-score\"]\n",
    "\n",
    "        fitness = np.mean([act_acc, act_f1])\n",
    "\n",
    "        self.trial[trial.number][\"fitness\"] = fitness\n",
    "\n",
    "        return fitness\n",
    "\n",
    "    def get_trial_test(self, num_trial):\n",
    "        return self.trial[num_trial]\n",
    "    \n",
    "    def get_k_best_trials(self, study, k=5, save_kaggle=False, show_cf=True, path=\".\"):\n",
    "        trials = study.best_trials[:k]\n",
    "        results = {}\n",
    "        for t in trials:\n",
    "            act_name = \"{}__{}\".format(study.study_name, t.number)\n",
    "            act_result = self.get_trial_test(t.number)\n",
    "            act_result[\"params\"] = t.params\n",
    "\n",
    "            results[act_name] = act_result\n",
    "            if(save_kaggle):\n",
    "                to_kaggle(act_result[\"test_pred\"], self.X_test_ids, path=path, fname = act_name)\n",
    "\n",
    "        naive_bayes_stats(results, show_cf=show_cf)\n",
    "        return results"
   ]
  },
  {
   "cell_type": "code",
   "execution_count": 14,
   "metadata": {},
   "outputs": [],
   "source": [
    "BNTuning = TuningParams(df_credit_x, df_credit_y, df_test)"
   ]
  },
  {
   "cell_type": "code",
   "execution_count": null,
   "metadata": {},
   "outputs": [],
   "source": [
    "study = optuna.create_study(direction=\"maximize\",\n",
    "                            study_name=\"tuning__{}\".format(datetime.datetime.now().strftime(\"%Y%m%d-%H%M%S\")))\n",
    "\n",
    "study.optimize(BNTuning.objective_function, n_trials=1000)"
   ]
  },
  {
   "cell_type": "code",
   "execution_count": 266,
   "metadata": {},
   "outputs": [
    {
     "name": "stdout",
     "output_type": "stream",
     "text": [
      "Variant                         F1 Score    Train Acc    Test Acc  Parameters\n",
      "----------------------------  ----------  -----------  ----------  ------------------------------------------------------------------------------------------------------------------------------------------------------------------------------------------------------------------------------------------------------------\n",
      "tuning__20240109-182612__925      0.6521      67.9558     65.9341  {'scaler': 'quan', 'lof': False, 'feature_selection': True, 'feat_sel_type': 'top', 'top_k': 13, 'delete_correlated': False, 'pca': False, 'resample': False, 'nb_type': 'discrete', 'discr_bins': 16, 'discr_encoder': 'ordinal', 'discr_strat': 'uniform'}\n",
      "tuning__20240109-182612__926      0.6521      67.9558     65.9341  {'scaler': 'quan', 'lof': False, 'feature_selection': True, 'feat_sel_type': 'top', 'top_k': 13, 'delete_correlated': False, 'pca': False, 'resample': False, 'nb_type': 'discrete', 'discr_bins': 16, 'discr_encoder': 'ordinal', 'discr_strat': 'uniform'}\n",
      "tuning__20240109-182612__927      0.6521      67.9558     65.9341  {'scaler': 'quan', 'lof': False, 'feature_selection': True, 'feat_sel_type': 'top', 'top_k': 13, 'delete_correlated': False, 'pca': False, 'resample': False, 'nb_type': 'discrete', 'discr_bins': 16, 'discr_encoder': 'ordinal', 'discr_strat': 'uniform'}\n",
      "tuning__20240109-182612__928      0.6521      67.9558     65.9341  {'scaler': 'quan', 'lof': False, 'feature_selection': True, 'feat_sel_type': 'top', 'top_k': 13, 'delete_correlated': False, 'pca': False, 'resample': False, 'nb_type': 'discrete', 'discr_bins': 16, 'discr_encoder': 'ordinal', 'discr_strat': 'uniform'}\n",
      "tuning__20240109-182612__929      0.6521      67.9558     65.9341  {'scaler': 'quan', 'lof': False, 'feature_selection': True, 'feat_sel_type': 'top', 'top_k': 13, 'delete_correlated': False, 'pca': False, 'resample': False, 'nb_type': 'discrete', 'discr_bins': 16, 'discr_encoder': 'ordinal', 'discr_strat': 'uniform'}\n"
     ]
    },
    {
     "data": {
      "image/png": "[encoded data removed]",
      "text/plain": [
       "<Figure size 1800x400 with 10 Axes>"
      ]
     },
     "metadata": {},
     "output_type": "display_data"
    }
   ],
   "source": [
    "out = BNTuning.get_k_best_trials(study, k=1, save_kaggle=True);"
   ]
  },
  {
   "cell_type": "markdown",
   "metadata": {},
   "source": [
    "# Mejores parámetros"
   ]
  },
  {
   "cell_type": "markdown",
   "metadata": {},
   "source": [
    "```\n",
    "{'scaler': 'quan', \n",
    "'lof': False, \n",
    "'feature_selection': True, \n",
    "'feat_sel_type': 'top', \n",
    "'top_k': 13, \n",
    "'delete_correlated': False, \n",
    "'pca': False, \n",
    "'resample': False, \n",
    "'nb_type': 'discrete', \n",
    "'discr_bins': 16, \n",
    "'discr_encoder': 'ordinal', \n",
    "'discr_strat': 'uniform'}\n",
    "```"
   ]
  },
  {
   "cell_type": "code",
   "execution_count": 17,
   "metadata": {},
   "outputs": [],
   "source": [
    "X_train, X_val, y_train, y_val= train_test_split(df_credit_x, \n",
    "                                                   df_credit_y, stratify=df_credit_y, \n",
    "                                                   test_size=0.2, \n",
    "                                                   random_state=16)"
   ]
  },
  {
   "cell_type": "code",
   "execution_count": 18,
   "metadata": {},
   "outputs": [],
   "source": [
    "scaler = QuantileTransformer(n_quantiles=600)\n",
    "X_train_1, X_val_1, X_test_1 = set_scaler(scaler, X_train, X_val, X_test)"
   ]
  },
  {
   "cell_type": "code",
   "execution_count": 19,
   "metadata": {},
   "outputs": [],
   "source": [
    "X_train_2, X_val_2, X_test_2 = feature_top(X_train_1, y_train, X_val_1, X_test_1, 13)"
   ]
  },
  {
   "cell_type": "code",
   "execution_count": 20,
   "metadata": {},
   "outputs": [
    {
     "name": "stderr",
     "output_type": "stream",
     "text": [
      "/media/valentino/Irithyll1/repos/ClubFansIris/env/lib/python3.10/site-packages/sklearn/preprocessing/_discretization.py:248: FutureWarning: In version 1.5 onwards, subsample=200_000 will be used by default. Set subsample explicitly to silence this warning in the mean time. Set subsample=None to disable subsampling explicitly.\n",
      "  warnings.warn(\n"
     ]
    }
   ],
   "source": [
    "X_train_3, X_val_3, X_test_3 = discretize(X_train_2, X_val_2, X_test_2, 16, \"ordinal\", \"uniform\")"
   ]
  },
  {
   "cell_type": "code",
   "execution_count": 31,
   "metadata": {},
   "outputs": [],
   "source": [
    "results = {\n",
    "    # \"gaussian\" : {\"model\" : GaussianNB()},\n",
    "    # \"multinom\" : {\"model\" : MultinomialNB(force_alpha=True)},\n",
    "    # \"complement\" : {\"model\" : ComplementNB(force_alpha=True)},\n",
    "    # \"bernoulli\" : {\"model\" : BernoulliNB(force_alpha=True)},\n",
    "    \"Best Model\" : {\"model\" : CategoricalNB(force_alpha=True)},\n",
    "    # \"categorical_2\" : {\"model\" : CategoricalNB(force_alpha=True, fit_prior=False)},\n",
    "    # \"categorical_4\" : {\"model\" : CategoricalNB(force_alpha=True, alpha=0.75)}\n",
    "}"
   ]
  },
  {
   "cell_type": "code",
   "execution_count": 32,
   "metadata": {},
   "outputs": [
    {
     "name": "stdout",
     "output_type": "stream",
     "text": [
      "Variant       F1 Score    Train Acc    Test Acc  Parameters\n",
      "----------  ----------  -----------  ----------  ------------\n",
      "Best Model      0.6521      67.9558     65.9341\n"
     ]
    },
    {
     "data": {
      "image/png": "[encoded data removed]",
      "text/plain": [
       "<Figure size 1800x400 with 2 Axes>"
      ]
     },
     "metadata": {},
     "output_type": "display_data"
    }
   ],
   "source": [
    "res_og = naive_bayes_fits(results, X_train_3, y_train, X_val_3, y_val)"
   ]
  },
  {
   "cell_type": "code",
   "execution_count": 36,
   "metadata": {},
   "outputs": [
    {
     "name": "stdout",
     "output_type": "stream",
     "text": [
      "Variant       F1 Score    Train Acc    Test Acc  Parameters\n",
      "----------  ----------  -----------  ----------  ------------\n",
      "Best Model      0.6521      67.9558     65.9341\n"
     ]
    },
    {
     "data": {
      "image/png": "[encoded data removed]",
      "text/plain": [
       "<Figure size 500x500 with 2 Axes>"
      ]
     },
     "metadata": {},
     "output_type": "display_data"
    }
   ],
   "source": [
    "naive_bayes_stats(res_og, figsize=(5, 5))"
   ]
  }
 ],
 "metadata": {
  "kernelspec": {
   "display_name": "env",
   "language": "python",
   "name": "python3"
  },
  "language_info": {
   "codemirror_mode": {
    "name": "ipython",
    "version": 3
   },
   "file_extension": ".py",
   "mimetype": "text/x-python",
   "name": "python",
   "nbconvert_exporter": "python",
   "pygments_lexer": "ipython3",
   "version": "3.10.12"
  }
 },
 "nbformat": 4,
 "nbformat_minor": 2
}
