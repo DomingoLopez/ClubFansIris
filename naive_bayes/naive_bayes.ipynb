{
 "cells": [
  {
   "cell_type": "markdown",
   "metadata": {},
   "source": [
    "### Universidad de Granada | ETSIIT | Escuela Internacional de Posgrado\n",
    "---\n",
    "# **Proyecto Final**: Naïve Bayes\n",
    "---\n",
    "**Asignatura:** Minería de Datos: Preprocesamiento y Clasificación\n",
    "\n",
    "**Autor:** Lugli, Valentino Glauco · YB0819879"
   ]
  },
  {
   "cell_type": "markdown",
   "metadata": {},
   "source": [
    "# Librerías y Datos"
   ]
  },
  {
   "cell_type": "code",
   "execution_count": 151,
   "metadata": {},
   "outputs": [],
   "source": [
    "import pandas as pd\n",
    "import seaborn as sns\n",
    "import matplotlib.pyplot as plt\n",
    "import os\n",
    "import numpy as np\n",
    "from scipy import stats\n",
    "from tabulate import tabulate\n",
    "import pickle\n",
    "import optuna\n",
    "import datetime\n",
    "\n",
    "from sklearn.model_selection import train_test_split, cross_val_score\n",
    "from sklearn.naive_bayes import GaussianNB, MultinomialNB, ComplementNB, BernoulliNB, CategoricalNB\n",
    "from sklearn.metrics import classification_report, confusion_matrix, accuracy_score\n",
    "from sklearn.decomposition import PCA\n",
    "from sklearn.preprocessing import StandardScaler, MinMaxScaler, KBinsDiscretizer, Normalizer, QuantileTransformer, PowerTransformer\n",
    "from sklearn.feature_selection import SelectKBest, SelectPercentile, f_classif\n",
    "from sklearn.neighbors import LocalOutlierFactor\n",
    "\n",
    "\n",
    "\n",
    "from imblearn.under_sampling import NearMiss, RandomUnderSampler\n",
    "from imblearn.over_sampling import SMOTE"
   ]
  },
  {
   "cell_type": "code",
   "execution_count": 168,
   "metadata": {},
   "outputs": [],
   "source": [
    "df_credit = pd.read_csv(\"../data_preprocess/train_preprocess.csv\").drop(columns=[\"ID\"])\n",
    "\n",
    "df_credit_x = df_credit.drop(columns=[\"RATE\"])\n",
    "df_credit_y = df_credit[\"RATE\"]\n",
    "\n",
    "df_test = pd.read_csv(\"../data_preprocess/test_preprocess.csv\")\n",
    "X_test     = df_test.drop(columns=[\"ID\"])\n",
    "X_test_ids = df_test[\"ID\"]"
   ]
  },
  {
   "cell_type": "code",
   "execution_count": 166,
   "metadata": {},
   "outputs": [],
   "source": [
    "X_train, X_val, y_train, y_val= train_test_split(df_credit_x, \n",
    "                                                   df_credit_y, stratify=df_credit_y, \n",
    "                                                   test_size=0.2, \n",
    "                                                   random_state=16)\n",
    "\n",
    "scaler = StandardScaler()\n",
    "scaler.fit(X_train)\n",
    "\n",
    "X_train = pd.DataFrame(scaler.transform(X_train), columns=df_credit_x.columns)\n",
    "X_val = pd.DataFrame(scaler.transform(X_val), columns=df_credit_x.columns)\n",
    "X_test = pd.DataFrame(scaler.transform(X_test), columns=df_credit_x.columns)\n",
    "\n",
    "# minmax = MinMaxScaler()\n",
    "# minmax.fit(X_train)\n",
    "\n",
    "# X_train = minmax.transform(X_train)\n",
    "# X_val = minmax.transform(X_val)"
   ]
  },
  {
   "cell_type": "markdown",
   "metadata": {},
   "source": [
    "# Preprocesado"
   ]
  },
  {
   "cell_type": "markdown",
   "metadata": {},
   "source": [
    "## Funciones"
   ]
  },
  {
   "cell_type": "code",
   "execution_count": 220,
   "metadata": {},
   "outputs": [],
   "source": [
    "def naive_bayes_fits(results, x_train, y_train, x_val, y_val, show_cf = True):\n",
    "\n",
    "    for model in results:\n",
    "\n",
    "        y_pred_train = results[model][\"model\"].fit(x_train, y_train).predict(x_train)\n",
    "        y_pred_val   = results[model][\"model\"].predict(x_val)\n",
    "        results[model][\"train_stats\"] = classification_report(y_train, y_pred_train, output_dict=True, zero_division=0)\n",
    "        results[model][\"val_stats\"]  = classification_report(y_val, y_pred_val, output_dict=True, zero_division=0)\n",
    "        results[model][\"val_conf\"]  = confusion_matrix(y_val, y_pred_val)\n",
    "        results[model][\"val_pred\"]  = y_pred_val\n",
    "        results[model][\"train_pred\"]  = y_pred_train   \n",
    "\n",
    "    # print(tabulate(body, headers=header, floatfmt=\".4f\"))\n",
    "    naive_bayes_stats(results, show_cf=show_cf)\n",
    "\n",
    "    return results\n",
    "\n",
    "def naive_bayes_stats(results, show_cf = True):\n",
    "    \n",
    "    header = [\"Variant\", \"F1 Score\", \"Train Acc\", \"Test Acc\", \"Parameters\"]\n",
    "    body = []\n",
    "    matrices = []\n",
    "\n",
    "    for m in results:\n",
    "        body.append([m, results[m][\"val_stats\"][\"macro avg\"][\"f1-score\"], results[m][\"train_stats\"][\"accuracy\"] * 100, results[m][\"val_stats\"][\"accuracy\"] * 100, results[m][\"params\"]])\n",
    "        matrices.append(results[m][\"val_conf\"])\n",
    "    print(tabulate(body, headers=header, floatfmt=\".4f\"))\n",
    "\n",
    "    if(show_cf):\n",
    "        fig, axes = plt.subplots(nrows=1, ncols=len(matrices), figsize=(18, 4))\n",
    "\n",
    "        tick_labels = [\"A\", \"B\", \"C\", \"D\"]\n",
    "\n",
    "        if(len(matrices) > 1):\n",
    "            axes = axes.flatten()\n",
    "        else:\n",
    "            curr_ax = axes\n",
    "\n",
    "        for i, model in enumerate(results):\n",
    "            if(len(matrices) > 1):\n",
    "                curr_ax = axes[i]\n",
    "\n",
    "            sns.heatmap(matrices[i], ax=curr_ax, annot=True, xticklabels=tick_labels, yticklabels=tick_labels)\n",
    "            curr_ax.title.set_text(model)\n",
    "            curr_ax.set_xlabel(\"Predicted\") \n",
    "            curr_ax.set_ylabel(\"Real\") \n",
    "\n",
    "        plt.tight_layout()\n",
    "        plt.show()\n",
    "\n",
    "def to_kaggle(pred, id, path=\".\", fname=\"kaggle_out\"):\n",
    "    kaggle_dict = {\"ID\" : id, \"RATE\" : pred}\n",
    "    pd.DataFrame(data=kaggle_dict).to_csv(\"{}/{}.csv\".format(path, fname), index=False)\n",
    "\n",
    "def get_kaggle_pred(model, data, id, path=\".\", fname=\"kaggle_out\"):\n",
    "    model_pred = model.predict(data)\n",
    "    to_kaggle(model_pred, id, path=path, fname=fname)"
   ]
  },
  {
   "cell_type": "code",
   "execution_count": 9,
   "metadata": {},
   "outputs": [],
   "source": [
    "def set_scaler(scaler, X_train_in, X_val_in, X_test_in):\n",
    "    scaler.fit(X_train_in)\n",
    "\n",
    "    X_train_out = pd.DataFrame(scaler.transform(X_train_in), columns=X_train_in.columns)\n",
    "    X_val_out   = pd.DataFrame(scaler.transform(X_val_in), columns=X_train_in.columns)\n",
    "    X_test_out  = pd.DataFrame(scaler.transform(X_test_in), columns=X_train_in.columns)\n",
    "\n",
    "    return X_train_out, X_val_out, X_test_out\n",
    "\n",
    "\n",
    "def set_PCA(X_train_in, X_val_in, X_test_in, ratio):\n",
    "    explained_variance_ratio = 0\n",
    "    i = 0\n",
    "    while(explained_variance_ratio < ratio):\n",
    "        i += 1\n",
    "        pca = PCA(n_components=i)\n",
    "        pca.fit(X_train_in)\n",
    "        explained_variance_ratio = np.sum(pca.explained_variance_ratio_)\n",
    "\n",
    "    X_train_out = pd.DataFrame(pca.transform(X_train_in))\n",
    "    X_val_out   = pd.DataFrame(pca.transform(X_val_in))\n",
    "    X_test_out  = pd.DataFrame(pca.transform(X_test_in))\n",
    "\n",
    "    return X_train_out, X_val_out, X_test_out\n",
    "\n",
    "def discretize(X_train_in, X_val_in, X_test_in, bins, enconder, strat):\n",
    "    discretizer = KBinsDiscretizer(n_bins=bins, encode=enconder, strategy=strat)\n",
    "\n",
    "    X_train_out = pd.DataFrame(discretizer.fit_transform(X_train_in), columns=discretizer.get_feature_names_out())\n",
    "    X_val_out   = pd.DataFrame(discretizer.transform(X_val_in), columns=discretizer.get_feature_names_out())\n",
    "    X_test_out  = pd.DataFrame(discretizer.transform(X_test_in), columns=discretizer.get_feature_names_out())\n",
    "\n",
    "    return X_train_out, X_val_out, X_test_out\n",
    " \n",
    "def feature_perc(X_train_in, y_train_in, X_val_in, X_test_in, percent):\n",
    "    fs = SelectPercentile(score_func=f_classif, percentile=percent)\n",
    "\n",
    "    X_train_out = pd.DataFrame(fs.fit_transform(X_train_in, y_train_in))\n",
    "    X_val_out   = pd.DataFrame(fs.transform(X_val_in))\n",
    "    X_test_out  = pd.DataFrame(fs.transform(X_test_in))\n",
    "\n",
    "    return X_train_out, X_val_out, X_test_out\n",
    "\n",
    "def feature_top(X_train_in, y_train_in, X_val_in, X_test_in, k):\n",
    "    fs = SelectKBest(score_func=f_classif, k=k)\n",
    "\n",
    "    X_train_out = pd.DataFrame(fs.fit_transform(X_train_in, y_train_in))\n",
    "    X_val_out   = pd.DataFrame(fs.transform(X_val_in))\n",
    "    X_test_out  = pd.DataFrame(fs.transform(X_test_in))\n",
    "\n",
    "    return X_train_out, X_val_out, X_test_out\n",
    "\n",
    "def get_lof(X_train_in, y_train_in, neigh):\n",
    "    lof = LocalOutlierFactor(n_neighbors=neigh)\n",
    "    yhat = lof.fit_predict(X_train_in)\n",
    "\n",
    "    mask = yhat != -1\n",
    "    X_train_out, y_train_out = X_train_in[mask], y_train_in[mask]  \n",
    "\n",
    "    return X_train_out, y_train_out\n",
    "\n",
    "def down_sample(X_train_in, y_train_in, neigh):\n",
    "    X_train_out, y_train_out = NearMiss(version=2, n_neighbors=neigh).fit_resample(X_train_in, y_train_in)\n",
    "\n",
    "    return X_train_out, y_train_out\n",
    "\n",
    "def up_sample(X_train_in, y_train_in, neigh):\n",
    "    sm = SMOTE(random_state=16, k_neighbors=neigh)\n",
    "    X_train_out, y_train_out = sm.fit_resample(X_train_in, y_train_in)\n",
    "\n",
    "    return X_train_out, y_train_out\n",
    "\n",
    "def get_collinear_features(x, threshold):\n",
    "    '''\n",
    "    Objective:\n",
    "        Remove collinear features in a dataframe with a correlation coefficient\n",
    "        greater than the threshold. Removing collinear features can help a model \n",
    "        to generalize and improves the interpretability of the model.\n",
    "\n",
    "    Inputs: \n",
    "        x: features dataframe\n",
    "        threshold: features with correlations greater than this value are removed\n",
    "\n",
    "    Output: \n",
    "        dataframe that contains only the non-highly-collinear features\n",
    "    '''\n",
    "\n",
    "    # Calculate the correlation matrix\n",
    "    corr_matrix = x.corr()\n",
    "    iters = range(len(corr_matrix.columns) - 1)\n",
    "    drop_cols = []\n",
    "\n",
    "    # Iterate through the correlation matrix and compare correlations\n",
    "    for i in iters:\n",
    "        for j in range(i+1):\n",
    "            item = corr_matrix.iloc[j:(j+1), (i+1):(i+2)]\n",
    "            col = item.columns\n",
    "            row = item.index\n",
    "            val = abs(item.values)\n",
    "\n",
    "            # If correlation exceeds the threshold\n",
    "            if val >= threshold:\n",
    "                # Print the correlated features and the correlation value\n",
    "                # print(col.values[0], \"|\", row.values[0], \"|\", round(val[0][0], 2))\n",
    "                drop_cols.append(col.values[0])\n",
    "\n",
    "    # Drop one of each pair of correlated columns\n",
    "    drops = set(drop_cols)\n",
    "    # print('Correlated Columns are: {}'.format(sorted(drops)))\n",
    "    return drops\n",
    "\n",
    "def delete_corr(X_train_in, X_val_in, X_test_in, corr_val):\n",
    "    collinear_cols = get_collinear_features(X_train_in, corr_val)\n",
    "    X_train_out = X_train_in.drop(columns=collinear_cols)\n",
    "    X_val_out   = X_val_in.drop(columns=collinear_cols)\n",
    "    X_test_out  = X_test_in.drop(columns=collinear_cols)\n",
    "\n",
    "    return X_train_out, X_val_out, X_test_out"
   ]
  },
  {
   "cell_type": "markdown",
   "metadata": {},
   "source": [
    "```\n",
    "{'lof': True,\n",
    " 'lof_neighs': 15,\n",
    " 'feature_selection': False,\n",
    " 'delete_correlated': True,\n",
    " 'corr_value': 0.7838936589877111,\n",
    " 'pca': True,\n",
    " 'pca_ratio': 0.7098326847003088,\n",
    " 'resample': False}\n",
    "```"
   ]
  },
  {
   "cell_type": "code",
   "execution_count": 116,
   "metadata": {},
   "outputs": [],
   "source": [
    "lof = LocalOutlierFactor(n_neighbors=15)\n",
    "yhat = lof.fit_predict(X_train)\n",
    "\n",
    "mask = yhat != -1\n",
    "\n",
    "X_train_1 = X_train[mask]\n",
    "y_train_1 = y_train[mask]"
   ]
  },
  {
   "cell_type": "code",
   "execution_count": 117,
   "metadata": {},
   "outputs": [],
   "source": [
    "X_train_2, X_val_1, X_test_1 = delete_corr(X_train_1, X_val, X_test, 0.7838936589877111)"
   ]
  },
  {
   "cell_type": "code",
   "execution_count": 20,
   "metadata": {},
   "outputs": [
    {
     "data": {
      "text/html": [
       "<div>\n",
       "<style scoped>\n",
       "    .dataframe tbody tr th:only-of-type {\n",
       "        vertical-align: middle;\n",
       "    }\n",
       "\n",
       "    .dataframe tbody tr th {\n",
       "        vertical-align: top;\n",
       "    }\n",
       "\n",
       "    .dataframe thead th {\n",
       "        text-align: right;\n",
       "    }\n",
       "</style>\n",
       "<table border=\"1\" class=\"dataframe\">\n",
       "  <thead>\n",
       "    <tr style=\"text-align: right;\">\n",
       "      <th></th>\n",
       "      <th>X1</th>\n",
       "      <th>X8</th>\n",
       "      <th>X9</th>\n",
       "      <th>X12</th>\n",
       "      <th>X13</th>\n",
       "      <th>X14</th>\n",
       "      <th>X15</th>\n",
       "      <th>X16</th>\n",
       "      <th>X19</th>\n",
       "      <th>X20</th>\n",
       "      <th>X23</th>\n",
       "      <th>X24</th>\n",
       "      <th>X25</th>\n",
       "      <th>X26</th>\n",
       "      <th>X29</th>\n",
       "      <th>X30</th>\n",
       "      <th>X31</th>\n",
       "      <th>X36</th>\n",
       "    </tr>\n",
       "  </thead>\n",
       "  <tbody>\n",
       "    <tr>\n",
       "      <th>0</th>\n",
       "      <td>-0.198614</td>\n",
       "      <td>-0.139497</td>\n",
       "      <td>-0.559916</td>\n",
       "      <td>0.165659</td>\n",
       "      <td>0.660477</td>\n",
       "      <td>0.456883</td>\n",
       "      <td>0.905748</td>\n",
       "      <td>-0.897897</td>\n",
       "      <td>-0.198972</td>\n",
       "      <td>-0.814099</td>\n",
       "      <td>-1.194710</td>\n",
       "      <td>-0.242814</td>\n",
       "      <td>1.025179</td>\n",
       "      <td>-0.082709</td>\n",
       "      <td>0.545539</td>\n",
       "      <td>0.204271</td>\n",
       "      <td>-0.000378</td>\n",
       "      <td>-0.376774</td>\n",
       "    </tr>\n",
       "    <tr>\n",
       "      <th>1</th>\n",
       "      <td>-0.323854</td>\n",
       "      <td>-0.109671</td>\n",
       "      <td>-0.936513</td>\n",
       "      <td>0.030525</td>\n",
       "      <td>-0.426793</td>\n",
       "      <td>0.117521</td>\n",
       "      <td>0.443270</td>\n",
       "      <td>-0.757244</td>\n",
       "      <td>0.010970</td>\n",
       "      <td>1.758295</td>\n",
       "      <td>-1.178976</td>\n",
       "      <td>-0.242814</td>\n",
       "      <td>-0.975440</td>\n",
       "      <td>0.044394</td>\n",
       "      <td>-0.088368</td>\n",
       "      <td>0.204271</td>\n",
       "      <td>-0.012294</td>\n",
       "      <td>-0.405306</td>\n",
       "    </tr>\n",
       "    <tr>\n",
       "      <th>2</th>\n",
       "      <td>-0.288844</td>\n",
       "      <td>-0.128116</td>\n",
       "      <td>-0.773814</td>\n",
       "      <td>-0.274956</td>\n",
       "      <td>-1.106337</td>\n",
       "      <td>-0.344747</td>\n",
       "      <td>0.022479</td>\n",
       "      <td>1.673418</td>\n",
       "      <td>3.576798</td>\n",
       "      <td>1.302967</td>\n",
       "      <td>-0.303553</td>\n",
       "      <td>-1.941340</td>\n",
       "      <td>-0.975440</td>\n",
       "      <td>0.037712</td>\n",
       "      <td>0.818075</td>\n",
       "      <td>0.204271</td>\n",
       "      <td>0.033197</td>\n",
       "      <td>0.741795</td>\n",
       "    </tr>\n",
       "    <tr>\n",
       "      <th>3</th>\n",
       "      <td>-0.299404</td>\n",
       "      <td>-0.145406</td>\n",
       "      <td>-0.683025</td>\n",
       "      <td>-0.391129</td>\n",
       "      <td>-0.087021</td>\n",
       "      <td>-0.669434</td>\n",
       "      <td>-1.014516</td>\n",
       "      <td>1.167946</td>\n",
       "      <td>0.121062</td>\n",
       "      <td>0.080963</td>\n",
       "      <td>-0.451450</td>\n",
       "      <td>-0.242814</td>\n",
       "      <td>-0.975440</td>\n",
       "      <td>0.006794</td>\n",
       "      <td>0.028309</td>\n",
       "      <td>0.204271</td>\n",
       "      <td>0.016930</td>\n",
       "      <td>-1.033001</td>\n",
       "    </tr>\n",
       "    <tr>\n",
       "      <th>4</th>\n",
       "      <td>-0.258283</td>\n",
       "      <td>-0.139659</td>\n",
       "      <td>-0.298313</td>\n",
       "      <td>0.461810</td>\n",
       "      <td>0.592522</td>\n",
       "      <td>0.411941</td>\n",
       "      <td>0.734110</td>\n",
       "      <td>0.051511</td>\n",
       "      <td>0.727847</td>\n",
       "      <td>0.543048</td>\n",
       "      <td>2.026922</td>\n",
       "      <td>-0.242814</td>\n",
       "      <td>1.025179</td>\n",
       "      <td>0.057395</td>\n",
       "      <td>-0.122662</td>\n",
       "      <td>0.204271</td>\n",
       "      <td>0.163616</td>\n",
       "      <td>0.168569</td>\n",
       "    </tr>\n",
       "    <tr>\n",
       "      <th>...</th>\n",
       "      <td>...</td>\n",
       "      <td>...</td>\n",
       "      <td>...</td>\n",
       "      <td>...</td>\n",
       "      <td>...</td>\n",
       "      <td>...</td>\n",
       "      <td>...</td>\n",
       "      <td>...</td>\n",
       "      <td>...</td>\n",
       "      <td>...</td>\n",
       "      <td>...</td>\n",
       "      <td>...</td>\n",
       "      <td>...</td>\n",
       "      <td>...</td>\n",
       "      <td>...</td>\n",
       "      <td>...</td>\n",
       "      <td>...</td>\n",
       "      <td>...</td>\n",
       "    </tr>\n",
       "    <tr>\n",
       "      <th>384</th>\n",
       "      <td>-0.311527</td>\n",
       "      <td>-0.142350</td>\n",
       "      <td>-0.653028</td>\n",
       "      <td>1.858296</td>\n",
       "      <td>0.116842</td>\n",
       "      <td>2.064729</td>\n",
       "      <td>0.816184</td>\n",
       "      <td>-0.530881</td>\n",
       "      <td>-0.657261</td>\n",
       "      <td>-0.898303</td>\n",
       "      <td>-0.995206</td>\n",
       "      <td>1.455712</td>\n",
       "      <td>1.025179</td>\n",
       "      <td>0.049517</td>\n",
       "      <td>-0.099783</td>\n",
       "      <td>-4.895459</td>\n",
       "      <td>-0.152171</td>\n",
       "      <td>2.817470</td>\n",
       "    </tr>\n",
       "    <tr>\n",
       "      <th>385</th>\n",
       "      <td>0.686918</td>\n",
       "      <td>0.053426</td>\n",
       "      <td>-0.404535</td>\n",
       "      <td>-2.021466</td>\n",
       "      <td>0.320705</td>\n",
       "      <td>-0.985867</td>\n",
       "      <td>-0.824639</td>\n",
       "      <td>0.159199</td>\n",
       "      <td>-0.416596</td>\n",
       "      <td>0.130862</td>\n",
       "      <td>-1.126740</td>\n",
       "      <td>0.606449</td>\n",
       "      <td>-0.975440</td>\n",
       "      <td>0.061346</td>\n",
       "      <td>0.251663</td>\n",
       "      <td>0.204271</td>\n",
       "      <td>-0.004917</td>\n",
       "      <td>-1.317020</td>\n",
       "    </tr>\n",
       "    <tr>\n",
       "      <th>386</th>\n",
       "      <td>-0.288510</td>\n",
       "      <td>-0.124426</td>\n",
       "      <td>0.015052</td>\n",
       "      <td>-0.619864</td>\n",
       "      <td>1.679792</td>\n",
       "      <td>-0.415371</td>\n",
       "      <td>-2.065840</td>\n",
       "      <td>1.989887</td>\n",
       "      <td>-0.480602</td>\n",
       "      <td>0.670394</td>\n",
       "      <td>0.449147</td>\n",
       "      <td>0.606449</td>\n",
       "      <td>-0.975440</td>\n",
       "      <td>0.021296</td>\n",
       "      <td>-0.253731</td>\n",
       "      <td>0.204271</td>\n",
       "      <td>-0.012389</td>\n",
       "      <td>-0.228928</td>\n",
       "    </tr>\n",
       "    <tr>\n",
       "      <th>387</th>\n",
       "      <td>-0.150806</td>\n",
       "      <td>-0.068569</td>\n",
       "      <td>0.398380</td>\n",
       "      <td>1.036958</td>\n",
       "      <td>0.660477</td>\n",
       "      <td>0.177138</td>\n",
       "      <td>0.761142</td>\n",
       "      <td>-0.308912</td>\n",
       "      <td>-0.639340</td>\n",
       "      <td>-0.031310</td>\n",
       "      <td>-0.180201</td>\n",
       "      <td>-0.242814</td>\n",
       "      <td>1.025179</td>\n",
       "      <td>0.053105</td>\n",
       "      <td>-0.265220</td>\n",
       "      <td>0.204271</td>\n",
       "      <td>-0.177801</td>\n",
       "      <td>0.090756</td>\n",
       "    </tr>\n",
       "    <tr>\n",
       "      <th>388</th>\n",
       "      <td>-0.047973</td>\n",
       "      <td>-0.139253</td>\n",
       "      <td>0.393103</td>\n",
       "      <td>-0.000174</td>\n",
       "      <td>1.815701</td>\n",
       "      <td>0.787074</td>\n",
       "      <td>-0.513605</td>\n",
       "      <td>1.934945</td>\n",
       "      <td>0.658720</td>\n",
       "      <td>1.285814</td>\n",
       "      <td>-0.553404</td>\n",
       "      <td>-1.092077</td>\n",
       "      <td>1.025179</td>\n",
       "      <td>0.038603</td>\n",
       "      <td>0.547152</td>\n",
       "      <td>0.204271</td>\n",
       "      <td>0.074999</td>\n",
       "      <td>0.518081</td>\n",
       "    </tr>\n",
       "  </tbody>\n",
       "</table>\n",
       "<p>389 rows × 18 columns</p>\n",
       "</div>"
      ],
      "text/plain": [
       "           X1        X8        X9       X12       X13       X14       X15  \\\n",
       "0   -0.198614 -0.139497 -0.559916  0.165659  0.660477  0.456883  0.905748   \n",
       "1   -0.323854 -0.109671 -0.936513  0.030525 -0.426793  0.117521  0.443270   \n",
       "2   -0.288844 -0.128116 -0.773814 -0.274956 -1.106337 -0.344747  0.022479   \n",
       "3   -0.299404 -0.145406 -0.683025 -0.391129 -0.087021 -0.669434 -1.014516   \n",
       "4   -0.258283 -0.139659 -0.298313  0.461810  0.592522  0.411941  0.734110   \n",
       "..        ...       ...       ...       ...       ...       ...       ...   \n",
       "384 -0.311527 -0.142350 -0.653028  1.858296  0.116842  2.064729  0.816184   \n",
       "385  0.686918  0.053426 -0.404535 -2.021466  0.320705 -0.985867 -0.824639   \n",
       "386 -0.288510 -0.124426  0.015052 -0.619864  1.679792 -0.415371 -2.065840   \n",
       "387 -0.150806 -0.068569  0.398380  1.036958  0.660477  0.177138  0.761142   \n",
       "388 -0.047973 -0.139253  0.393103 -0.000174  1.815701  0.787074 -0.513605   \n",
       "\n",
       "          X16       X19       X20       X23       X24       X25       X26  \\\n",
       "0   -0.897897 -0.198972 -0.814099 -1.194710 -0.242814  1.025179 -0.082709   \n",
       "1   -0.757244  0.010970  1.758295 -1.178976 -0.242814 -0.975440  0.044394   \n",
       "2    1.673418  3.576798  1.302967 -0.303553 -1.941340 -0.975440  0.037712   \n",
       "3    1.167946  0.121062  0.080963 -0.451450 -0.242814 -0.975440  0.006794   \n",
       "4    0.051511  0.727847  0.543048  2.026922 -0.242814  1.025179  0.057395   \n",
       "..        ...       ...       ...       ...       ...       ...       ...   \n",
       "384 -0.530881 -0.657261 -0.898303 -0.995206  1.455712  1.025179  0.049517   \n",
       "385  0.159199 -0.416596  0.130862 -1.126740  0.606449 -0.975440  0.061346   \n",
       "386  1.989887 -0.480602  0.670394  0.449147  0.606449 -0.975440  0.021296   \n",
       "387 -0.308912 -0.639340 -0.031310 -0.180201 -0.242814  1.025179  0.053105   \n",
       "388  1.934945  0.658720  1.285814 -0.553404 -1.092077  1.025179  0.038603   \n",
       "\n",
       "          X29       X30       X31       X36  \n",
       "0    0.545539  0.204271 -0.000378 -0.376774  \n",
       "1   -0.088368  0.204271 -0.012294 -0.405306  \n",
       "2    0.818075  0.204271  0.033197  0.741795  \n",
       "3    0.028309  0.204271  0.016930 -1.033001  \n",
       "4   -0.122662  0.204271  0.163616  0.168569  \n",
       "..        ...       ...       ...       ...  \n",
       "384 -0.099783 -4.895459 -0.152171  2.817470  \n",
       "385  0.251663  0.204271 -0.004917 -1.317020  \n",
       "386 -0.253731  0.204271 -0.012389 -0.228928  \n",
       "387 -0.265220  0.204271 -0.177801  0.090756  \n",
       "388  0.547152  0.204271  0.074999  0.518081  \n",
       "\n",
       "[389 rows x 18 columns]"
      ]
     },
     "execution_count": 20,
     "metadata": {},
     "output_type": "execute_result"
    }
   ],
   "source": [
    "X_test_1"
   ]
  },
  {
   "cell_type": "code",
   "execution_count": 118,
   "metadata": {},
   "outputs": [],
   "source": [
    "X_train_3, X_val_2, X_test_2 = set_PCA(X_train_2, X_val_1, X_test_1, 0.7098326847003088)"
   ]
  },
  {
   "cell_type": "code",
   "execution_count": 123,
   "metadata": {},
   "outputs": [],
   "source": [
    "results = {\n",
    "    \"gaussian\" : {\"model\" : GaussianNB()},\n",
    "    # \"multinom\" : {\"model\" : MultinomialNB(force_alpha=True)},\n",
    "    # \"complement\" : {\"model\" : ComplementNB(force_alpha=True)},\n",
    "    # \"bernoulli\" : {\"model\" : BernoulliNB(force_alpha=True)},\n",
    "    # \"categorical_1\" : {\"model\" : CategoricalNB(force_alpha=True)},\n",
    "    # \"categorical_2\" : {\"model\" : CategoricalNB(force_alpha=True, fit_prior=False)},\n",
    "    # \"categorical_4\" : {\"model\" : CategoricalNB(force_alpha=True, alpha=0.75)}\n",
    "}"
   ]
  },
  {
   "cell_type": "code",
   "execution_count": 120,
   "metadata": {},
   "outputs": [
    {
     "name": "stdout",
     "output_type": "stream",
     "text": [
      "Variant      F1 Score    Train Acc    Test Acc\n",
      "---------  ----------  -----------  ----------\n",
      "gaussian       0.5866      59.2476     64.2857\n"
     ]
    },
    {
     "data": {
      "image/png": "[encoded data removed]",
      "text/plain": [
       "<Figure size 1800x400 with 2 Axes>"
      ]
     },
     "metadata": {},
     "output_type": "display_data"
    }
   ],
   "source": [
    "res_og = naive_bayes_fits(results, X_train_3, y_train_1, X_val_2, y_val)"
   ]
  },
  {
   "cell_type": "code",
   "execution_count": 121,
   "metadata": {},
   "outputs": [
    {
     "data": {
      "text/plain": [
       "array(['B', 'B', 'D', 'C', 'B', 'C', 'D', 'B', 'B', 'B', 'C', 'C', 'D',\n",
       "       'D', 'C', 'C', 'C', 'C', 'B', 'B', 'C', 'D', 'B', 'D', 'B', 'C',\n",
       "       'C', 'B', 'B', 'D', 'C', 'B', 'C', 'B', 'B', 'B', 'C', 'B', 'C',\n",
       "       'B', 'B', 'D', 'D', 'B', 'B', 'C', 'D', 'C', 'B', 'B', 'D', 'B',\n",
       "       'C', 'C', 'B', 'B', 'B', 'D', 'B', 'A', 'B', 'C', 'B', 'B', 'B',\n",
       "       'C', 'C', 'C', 'B', 'B', 'D', 'B', 'B', 'D', 'D', 'C', 'D', 'B',\n",
       "       'C', 'D', 'C', 'C', 'D', 'A', 'B', 'B', 'B', 'B', 'D', 'A', 'B',\n",
       "       'C', 'A', 'B', 'D', 'D', 'C', 'B', 'C', 'C', 'D', 'A', 'D', 'B',\n",
       "       'D', 'B', 'B', 'C', 'C', 'B', 'B', 'A', 'D', 'C', 'D', 'C', 'D',\n",
       "       'D', 'C', 'C', 'A', 'B', 'C', 'B', 'B', 'B', 'B', 'D', 'D', 'A',\n",
       "       'B', 'B', 'B', 'A', 'B', 'B', 'B', 'B', 'B', 'D', 'D', 'B', 'D',\n",
       "       'B', 'B', 'B', 'D', 'B', 'D', 'B', 'C', 'C', 'D', 'C', 'A', 'B',\n",
       "       'B', 'C', 'B', 'C', 'C', 'D', 'B', 'B', 'C', 'B', 'B', 'D', 'D',\n",
       "       'B', 'A', 'A', 'B', 'B', 'D', 'C', 'B', 'C', 'D', 'B', 'B', 'C',\n",
       "       'B', 'B', 'D', 'C', 'C', 'A', 'B', 'D', 'A', 'B', 'C', 'B', 'B',\n",
       "       'D', 'D', 'C', 'D', 'B', 'B', 'B', 'B', 'B', 'B', 'C', 'D', 'B',\n",
       "       'C', 'B', 'B', 'B', 'C', 'B', 'B', 'C', 'D', 'B', 'B', 'B', 'B',\n",
       "       'C', 'B', 'D', 'D', 'C', 'B', 'B', 'C', 'D', 'B', 'B', 'D', 'D',\n",
       "       'C', 'D', 'B', 'B', 'B', 'B', 'B', 'C', 'B', 'C', 'C', 'B', 'D',\n",
       "       'B', 'B', 'B', 'D', 'B', 'C', 'D', 'B', 'C', 'C', 'B', 'B', 'C',\n",
       "       'C', 'B', 'C', 'B', 'B', 'B', 'D', 'B', 'B', 'B', 'B', 'B', 'B',\n",
       "       'B', 'D', 'C', 'B', 'C', 'B', 'C', 'B', 'D', 'D', 'B', 'B', 'D',\n",
       "       'B', 'D', 'C', 'B', 'B', 'D', 'C', 'B', 'D', 'B', 'B', 'B', 'D',\n",
       "       'B', 'B', 'B', 'B', 'C', 'C', 'C', 'B', 'D', 'D', 'B', 'C', 'B',\n",
       "       'C', 'C', 'A', 'B', 'B', 'B', 'D', 'B', 'A', 'D', 'B', 'D', 'D',\n",
       "       'C', 'C', 'B', 'D', 'B', 'B', 'D', 'C', 'D', 'A', 'B', 'B', 'B',\n",
       "       'B', 'D', 'B', 'D', 'C', 'B', 'B', 'D', 'B', 'C', 'C', 'B', 'C',\n",
       "       'B', 'B', 'B', 'B', 'B', 'B', 'B', 'B', 'D', 'C', 'C', 'B', 'B',\n",
       "       'B', 'C', 'D', 'B', 'C', 'B', 'B', 'B', 'C', 'D', 'A', 'D', 'C',\n",
       "       'D', 'B', 'B', 'B', 'B', 'A', 'B', 'D', 'D', 'D', 'B', 'B'],\n",
       "      dtype='<U1')"
      ]
     },
     "execution_count": 121,
     "metadata": {},
     "output_type": "execute_result"
    }
   ],
   "source": [
    "res_og[\"gaussian\"][\"model\"].predict(X_test_2)"
   ]
  },
  {
   "cell_type": "code",
   "execution_count": 87,
   "metadata": {},
   "outputs": [],
   "source": [
    "get_kaggle_pred(res_og[\"gaussian\"][\"model\"], X_test_2, X_test_ids, fname=\"testing_3\")"
   ]
  },
  {
   "cell_type": "code",
   "execution_count": 124,
   "metadata": {},
   "outputs": [],
   "source": [
    "score = cross_val_score(GaussianNB(), X_train_3, y_train_1)"
   ]
  },
  {
   "cell_type": "code",
   "execution_count": 126,
   "metadata": {},
   "outputs": [
    {
     "data": {
      "text/plain": [
       "0.56875"
      ]
     },
     "execution_count": 126,
     "metadata": {},
     "output_type": "execute_result"
    }
   ],
   "source": [
    "score.mean()"
   ]
  },
  {
   "cell_type": "markdown",
   "metadata": {},
   "source": [
    "# DISCRETO"
   ]
  },
  {
   "cell_type": "code",
   "execution_count": 94,
   "metadata": {},
   "outputs": [],
   "source": [
    "sm = SMOTE(random_state=42)\n",
    "X_train, y_train = sm.fit_resample(X_train, y_train)"
   ]
  },
  {
   "cell_type": "code",
   "execution_count": 136,
   "metadata": {},
   "outputs": [],
   "source": [
    "results = {\n",
    "    # \"gaussian\" : {\"model\" : GaussianNB()},\n",
    "    # \"multinom\" : {\"model\" : MultinomialNB(force_alpha=True)},\n",
    "    # \"complement\" : {\"model\" : ComplementNB(force_alpha=True)},\n",
    "    # \"bernoulli\" : {\"model\" : BernoulliNB(force_alpha=True)},\n",
    "    \"categorical_1\" : {\"model\" : CategoricalNB(force_alpha=True)},\n",
    "    # \"categorical_2\" : {\"model\" : CategoricalNB(force_alpha=True, fit_prior=False)},\n",
    "    # \"categorical_4\" : {\"model\" : CategoricalNB(force_alpha=True, alpha=0.75)}\n",
    "}"
   ]
  },
  {
   "cell_type": "code",
   "execution_count": 137,
   "metadata": {},
   "outputs": [
    {
     "ename": "IndexError",
     "evalue": "index 1 is out of bounds for axis 1 with size 1",
     "output_type": "error",
     "traceback": [
      "\u001b[0;31m---------------------------------------------------------------------------\u001b[0m",
      "\u001b[0;31mIndexError\u001b[0m                                Traceback (most recent call last)",
      "\u001b[1;32m/media/valentino/Irithyll1/repos/ClubFansIris/naive_bayes/naive_bayes.ipynb Cell 45\u001b[0m line \u001b[0;36m1\n\u001b[0;32m----> <a href='vscode-notebook-cell:/media/valentino/Irithyll1/repos/ClubFansIris/naive_bayes/naive_bayes.ipynb#Y233sZmlsZQ%3D%3D?line=0'>1</a>\u001b[0m out \u001b[39m=\u001b[39m naive_bayes_fits(results, X_train, y_train, X_val, y_val)\n",
      "\u001b[1;32m/media/valentino/Irithyll1/repos/ClubFansIris/naive_bayes/naive_bayes.ipynb Cell 45\u001b[0m line \u001b[0;36m7\n\u001b[1;32m      <a href='vscode-notebook-cell:/media/valentino/Irithyll1/repos/ClubFansIris/naive_bayes/naive_bayes.ipynb#Y233sZmlsZQ%3D%3D?line=3'>4</a>\u001b[0m \u001b[39mfor\u001b[39;00m model \u001b[39min\u001b[39;00m results:\n\u001b[1;32m      <a href='vscode-notebook-cell:/media/valentino/Irithyll1/repos/ClubFansIris/naive_bayes/naive_bayes.ipynb#Y233sZmlsZQ%3D%3D?line=5'>6</a>\u001b[0m     y_pred_train \u001b[39m=\u001b[39m results[model][\u001b[39m\"\u001b[39m\u001b[39mmodel\u001b[39m\u001b[39m\"\u001b[39m]\u001b[39m.\u001b[39mfit(x_train, y_train)\u001b[39m.\u001b[39mpredict(x_train)\n\u001b[0;32m----> <a href='vscode-notebook-cell:/media/valentino/Irithyll1/repos/ClubFansIris/naive_bayes/naive_bayes.ipynb#Y233sZmlsZQ%3D%3D?line=6'>7</a>\u001b[0m     y_pred_test  \u001b[39m=\u001b[39m results[model][\u001b[39m\"\u001b[39;49m\u001b[39mmodel\u001b[39;49m\u001b[39m\"\u001b[39;49m]\u001b[39m.\u001b[39;49mpredict(x_test)\n\u001b[1;32m      <a href='vscode-notebook-cell:/media/valentino/Irithyll1/repos/ClubFansIris/naive_bayes/naive_bayes.ipynb#Y233sZmlsZQ%3D%3D?line=7'>8</a>\u001b[0m     results[model][\u001b[39m\"\u001b[39m\u001b[39mtrain\u001b[39m\u001b[39m\"\u001b[39m] \u001b[39m=\u001b[39m classification_report(y_train, y_pred_train, output_dict\u001b[39m=\u001b[39m\u001b[39mTrue\u001b[39;00m, zero_division\u001b[39m=\u001b[39m\u001b[39m0\u001b[39m)\n\u001b[1;32m      <a href='vscode-notebook-cell:/media/valentino/Irithyll1/repos/ClubFansIris/naive_bayes/naive_bayes.ipynb#Y233sZmlsZQ%3D%3D?line=8'>9</a>\u001b[0m     results[model][\u001b[39m\"\u001b[39m\u001b[39mtest\u001b[39m\u001b[39m\"\u001b[39m]  \u001b[39m=\u001b[39m classification_report(y_test, y_pred_test, output_dict\u001b[39m=\u001b[39m\u001b[39mTrue\u001b[39;00m, zero_division\u001b[39m=\u001b[39m\u001b[39m0\u001b[39m)\n",
      "File \u001b[0;32m/media/valentino/Irithyll1/repos/ClubFansIris/env/lib/python3.10/site-packages/sklearn/naive_bayes.py:102\u001b[0m, in \u001b[0;36m_BaseNB.predict\u001b[0;34m(self, X)\u001b[0m\n\u001b[1;32m    100\u001b[0m check_is_fitted(\u001b[39mself\u001b[39m)\n\u001b[1;32m    101\u001b[0m X \u001b[39m=\u001b[39m \u001b[39mself\u001b[39m\u001b[39m.\u001b[39m_check_X(X)\n\u001b[0;32m--> 102\u001b[0m jll \u001b[39m=\u001b[39m \u001b[39mself\u001b[39;49m\u001b[39m.\u001b[39;49m_joint_log_likelihood(X)\n\u001b[1;32m    103\u001b[0m \u001b[39mreturn\u001b[39;00m \u001b[39mself\u001b[39m\u001b[39m.\u001b[39mclasses_[np\u001b[39m.\u001b[39margmax(jll, axis\u001b[39m=\u001b[39m\u001b[39m1\u001b[39m)]\n",
      "File \u001b[0;32m/media/valentino/Irithyll1/repos/ClubFansIris/env/lib/python3.10/site-packages/sklearn/naive_bayes.py:1526\u001b[0m, in \u001b[0;36mCategoricalNB._joint_log_likelihood\u001b[0;34m(self, X)\u001b[0m\n\u001b[1;32m   1524\u001b[0m \u001b[39mfor\u001b[39;00m i \u001b[39min\u001b[39;00m \u001b[39mrange\u001b[39m(\u001b[39mself\u001b[39m\u001b[39m.\u001b[39mn_features_in_):\n\u001b[1;32m   1525\u001b[0m     indices \u001b[39m=\u001b[39m X[:, i]\n\u001b[0;32m-> 1526\u001b[0m     jll \u001b[39m+\u001b[39m\u001b[39m=\u001b[39m \u001b[39mself\u001b[39;49m\u001b[39m.\u001b[39;49mfeature_log_prob_[i][:, indices]\u001b[39m.\u001b[39mT\n\u001b[1;32m   1527\u001b[0m total_ll \u001b[39m=\u001b[39m jll \u001b[39m+\u001b[39m \u001b[39mself\u001b[39m\u001b[39m.\u001b[39mclass_log_prior_\n\u001b[1;32m   1528\u001b[0m \u001b[39mreturn\u001b[39;00m total_ll\n",
      "\u001b[0;31mIndexError\u001b[0m: index 1 is out of bounds for axis 1 with size 1"
     ]
    }
   ],
   "source": [
    "out = naive_bayes_fits(results, X_train, y_train, X_val, y_val)"
   ]
  },
  {
   "cell_type": "code",
   "execution_count": 135,
   "metadata": {},
   "outputs": [
    {
     "name": "stderr",
     "output_type": "stream",
     "text": [
      "/media/valentino/Irithyll1/repos/ClubFansIris/env/lib/python3.10/site-packages/sklearn/preprocessing/_discretization.py:248: FutureWarning: In version 1.5 onwards, subsample=200_000 will be used by default. Set subsample explicitly to silence this warning in the mean time. Set subsample=None to disable subsampling explicitly.\n",
      "  warnings.warn(\n"
     ]
    }
   ],
   "source": [
    "X_train, X_val, X_test = discretize(X_train, X_val, X_test, 30, enconder=\"onehot-dense\", strat=\"uniform\")"
   ]
  },
  {
   "cell_type": "code",
   "execution_count": 67,
   "metadata": {},
   "outputs": [
    {
     "ename": "NameError",
     "evalue": "name 'out' is not defined",
     "output_type": "error",
     "traceback": [
      "\u001b[0;31m---------------------------------------------------------------------------\u001b[0m",
      "\u001b[0;31mNameError\u001b[0m                                 Traceback (most recent call last)",
      "\u001b[1;32m/media/valentino/Irithyll1/repos/ClubFansIris/naive_bayes/naive_bayes.ipynb Cell 25\u001b[0m line \u001b[0;36m1\n\u001b[0;32m----> <a href='vscode-notebook-cell:/media/valentino/Irithyll1/repos/ClubFansIris/naive_bayes/naive_bayes.ipynb#X20sZmlsZQ%3D%3D?line=0'>1</a>\u001b[0m get_kaggle_pred(out[\u001b[39m\"\u001b[39m\u001b[39mcategorical_1\u001b[39m\u001b[39m\"\u001b[39m][\u001b[39m\"\u001b[39m\u001b[39mmodel\u001b[39m\u001b[39m\"\u001b[39m], X_test, X_test_ids, fname\u001b[39m=\u001b[39m\u001b[39m\"\u001b[39m\u001b[39mnb_categorical__raw\u001b[39m\u001b[39m\"\u001b[39m)\n",
      "\u001b[0;31mNameError\u001b[0m: name 'out' is not defined"
     ]
    }
   ],
   "source": [
    "get_kaggle_pred(out[\"categorical_1\"][\"model\"], X_test, X_test_ids, fname=\"nb_categorical__raw\")"
   ]
  },
  {
   "cell_type": "code",
   "execution_count": 104,
   "metadata": {},
   "outputs": [
    {
     "data": {
      "text/html": [
       "<style>#sk-container-id-2 {color: black;}#sk-container-id-2 pre{padding: 0;}#sk-container-id-2 div.sk-toggleable {background-color: white;}#sk-container-id-2 label.sk-toggleable__label {cursor: pointer;display: block;width: 100%;margin-bottom: 0;padding: 0.3em;box-sizing: border-box;text-align: center;}#sk-container-id-2 label.sk-toggleable__label-arrow:before {content: \"▸\";float: left;margin-right: 0.25em;color: #696969;}#sk-container-id-2 label.sk-toggleable__label-arrow:hover:before {color: black;}#sk-container-id-2 div.sk-estimator:hover label.sk-toggleable__label-arrow:before {color: black;}#sk-container-id-2 div.sk-toggleable__content {max-height: 0;max-width: 0;overflow: hidden;text-align: left;background-color: #f0f8ff;}#sk-container-id-2 div.sk-toggleable__content pre {margin: 0.2em;color: black;border-radius: 0.25em;background-color: #f0f8ff;}#sk-container-id-2 input.sk-toggleable__control:checked~div.sk-toggleable__content {max-height: 200px;max-width: 100%;overflow: auto;}#sk-container-id-2 input.sk-toggleable__control:checked~label.sk-toggleable__label-arrow:before {content: \"▾\";}#sk-container-id-2 div.sk-estimator input.sk-toggleable__control:checked~label.sk-toggleable__label {background-color: #d4ebff;}#sk-container-id-2 div.sk-label input.sk-toggleable__control:checked~label.sk-toggleable__label {background-color: #d4ebff;}#sk-container-id-2 input.sk-hidden--visually {border: 0;clip: rect(1px 1px 1px 1px);clip: rect(1px, 1px, 1px, 1px);height: 1px;margin: -1px;overflow: hidden;padding: 0;position: absolute;width: 1px;}#sk-container-id-2 div.sk-estimator {font-family: monospace;background-color: #f0f8ff;border: 1px dotted black;border-radius: 0.25em;box-sizing: border-box;margin-bottom: 0.5em;}#sk-container-id-2 div.sk-estimator:hover {background-color: #d4ebff;}#sk-container-id-2 div.sk-parallel-item::after {content: \"\";width: 100%;border-bottom: 1px solid gray;flex-grow: 1;}#sk-container-id-2 div.sk-label:hover label.sk-toggleable__label {background-color: #d4ebff;}#sk-container-id-2 div.sk-serial::before {content: \"\";position: absolute;border-left: 1px solid gray;box-sizing: border-box;top: 0;bottom: 0;left: 50%;z-index: 0;}#sk-container-id-2 div.sk-serial {display: flex;flex-direction: column;align-items: center;background-color: white;padding-right: 0.2em;padding-left: 0.2em;position: relative;}#sk-container-id-2 div.sk-item {position: relative;z-index: 1;}#sk-container-id-2 div.sk-parallel {display: flex;align-items: stretch;justify-content: center;background-color: white;position: relative;}#sk-container-id-2 div.sk-item::before, #sk-container-id-2 div.sk-parallel-item::before {content: \"\";position: absolute;border-left: 1px solid gray;box-sizing: border-box;top: 0;bottom: 0;left: 50%;z-index: -1;}#sk-container-id-2 div.sk-parallel-item {display: flex;flex-direction: column;z-index: 1;position: relative;background-color: white;}#sk-container-id-2 div.sk-parallel-item:first-child::after {align-self: flex-end;width: 50%;}#sk-container-id-2 div.sk-parallel-item:last-child::after {align-self: flex-start;width: 50%;}#sk-container-id-2 div.sk-parallel-item:only-child::after {width: 0;}#sk-container-id-2 div.sk-dashed-wrapped {border: 1px dashed gray;margin: 0 0.4em 0.5em 0.4em;box-sizing: border-box;padding-bottom: 0.4em;background-color: white;}#sk-container-id-2 div.sk-label label {font-family: monospace;font-weight: bold;display: inline-block;line-height: 1.2em;}#sk-container-id-2 div.sk-label-container {text-align: center;}#sk-container-id-2 div.sk-container {/* jupyter's `normalize.less` sets `[hidden] { display: none; }` but bootstrap.min.css set `[hidden] { display: none !important; }` so we also need the `!important` here to be able to override the default hidden behavior on the sphinx rendered scikit-learn.org. See: https://github.com/scikit-learn/scikit-learn/issues/21755 */display: inline-block !important;position: relative;}#sk-container-id-2 div.sk-text-repr-fallback {display: none;}</style><div id=\"sk-container-id-2\" class=\"sk-top-container\"><div class=\"sk-text-repr-fallback\"><pre>CategoricalNB(force_alpha=True)</pre><b>In a Jupyter environment, please rerun this cell to show the HTML representation or trust the notebook. <br />On GitHub, the HTML representation is unable to render, please try loading this page with nbviewer.org.</b></div><div class=\"sk-container\" hidden><div class=\"sk-item\"><div class=\"sk-estimator sk-toggleable\"><input class=\"sk-toggleable__control sk-hidden--visually\" id=\"sk-estimator-id-2\" type=\"checkbox\" checked><label for=\"sk-estimator-id-2\" class=\"sk-toggleable__label sk-toggleable__label-arrow\">CategoricalNB</label><div class=\"sk-toggleable__content\"><pre>CategoricalNB(force_alpha=True)</pre></div></div></div></div></div>"
      ],
      "text/plain": [
       "CategoricalNB(force_alpha=True)"
      ]
     },
     "execution_count": 104,
     "metadata": {},
     "output_type": "execute_result"
    }
   ],
   "source": [
    "out[\"categorical_1\"][\"model\"]"
   ]
  },
  {
   "cell_type": "code",
   "execution_count": 106,
   "metadata": {},
   "outputs": [],
   "source": [
    "\n",
    "# open a file, where you ant to store the data\n",
    "file = open('best_categorical.pkl', 'wb')\n",
    "\n",
    "# dump information to that file\n",
    "pickle.dump(out[\"categorical_1\"][\"model\"], file)\n",
    "\n",
    "# close the file\n",
    "file.close()"
   ]
  },
  {
   "cell_type": "code",
   "execution_count": null,
   "metadata": {},
   "outputs": [],
   "source": [
    "pickle.dump(out[\"categorical_1\"][\"model\"])"
   ]
  },
  {
   "cell_type": "markdown",
   "metadata": {},
   "source": [
    "# Optuna"
   ]
  },
  {
   "cell_type": "code",
   "execution_count": 263,
   "metadata": {},
   "outputs": [],
   "source": [
    "class TuningParams:\n",
    "    def __init__(self, X_data, y_data, X_test) -> None:\n",
    "        self.X_train, self.X_val, self.y_train, self.y_val = train_test_split(X_data, \n",
    "                                                            y_data, stratify=y_data, \n",
    "                                                            test_size=0.2, \n",
    "                                                            random_state=16)\n",
    "        self.X_test = X_test.drop(columns=[\"ID\"])\n",
    "        self.X_test_ids = X_test[\"ID\"]\n",
    "        self.trial = {}\n",
    "\n",
    "        self.scalers = {\"std\" : StandardScaler(), \n",
    "                        \"norm\" : Normalizer(), \n",
    "                        \"quan\" : QuantileTransformer(n_quantiles=600), \n",
    "                        \"power\" : PowerTransformer()}\n",
    "\n",
    "    def objective_function(self, trial):\n",
    "        X_train = self.X_train\n",
    "        y_train = self.y_train\n",
    "        X_val   = self.X_val\n",
    "        y_val   = self.y_val\n",
    "        X_test  = self.X_test\n",
    "\n",
    "        # Standarization\n",
    "        scaler = trial.suggest_categorical(\"scaler\", [\"std\", \"norm\", \"quan\", \"power\"])\n",
    "        X_train, X_val, X_test = set_scaler(self.scalers[scaler], X_train, X_val, X_test)\n",
    "\n",
    "        # LOF\n",
    "        do_LOF = trial.suggest_categorical(\"lof\", [True, False])\n",
    "\n",
    "        if(do_LOF):\n",
    "            neigs = trial.suggest_int(\"lof_neighs\", 10, 30)\n",
    "            X_train, y_train = get_lof(X_train, y_train, neigs)\n",
    "\n",
    "        # Feature Selection\n",
    "        do_feat_sel = trial.suggest_categorical(\"feature_selection\", [True, False])\n",
    "\n",
    "        if(do_feat_sel):\n",
    "            sel_type = trial.suggest_categorical(\"feat_sel_type\", [\"top\", \"perc\"])\n",
    "\n",
    "            if(sel_type == \"top\"):\n",
    "                trial.set_user_attr(\"num_cols\", len(X_train.columns))\n",
    "                best_k = trial.suggest_int(\"top_k\", 5, 25)\n",
    "                X_train, X_val, X_test = feature_top(X_train, y_train, X_val, X_test, best_k)\n",
    "            else:\n",
    "                perc = trial.suggest_int(\"perc\", 5, 25)\n",
    "                X_train, X_val, X_test = feature_perc(X_train, y_train, X_val, X_test, perc)\n",
    "\n",
    "        # Correlated Columns\n",
    "        delete_correlated = trial.suggest_categorical(\"delete_correlated\", [True, False])\n",
    "        if(delete_correlated):\n",
    "            corr_val = trial.suggest_float(\"corr_value\", 0.5, 0.8)\n",
    "            X_train, X_val, X_test = delete_corr(X_train, X_val, X_test, corr_val)\n",
    "        \n",
    "        # PCA\n",
    "        do_PCA = trial.suggest_categorical(\"pca\", [True, False])\n",
    "\n",
    "        if(do_PCA):\n",
    "            ratio = trial.suggest_float(\"pca_ratio\", 0.5, 0.95)\n",
    "            X_train, X_val, X_test = set_PCA(X_train, X_val, X_test, ratio)\n",
    "\n",
    "        # Under/Oversampling\n",
    "        do_resampling = trial.suggest_categorical(\"resample\", [True, False])\n",
    "\n",
    "        if(do_resampling):\n",
    "            kind = trial.suggest_categorical(\"kind\", [\"up\", \"down\"])\n",
    "            if(kind == \"up\"):\n",
    "                neigs = trial.suggest_int(\"up_neighs\", 2, 10)\n",
    "                X_train, y_train = up_sample(X_train, y_train, neigs)\n",
    "            else:\n",
    "                neigs = trial.suggest_int(\"down_neighs\", 2, 10)\n",
    "                X_train, y_train = down_sample(X_train, y_train, neigs)\n",
    "\n",
    "\n",
    "\n",
    "        all_good = True\n",
    "\n",
    "        # Fitting and testing...\n",
    "        nb_type = trial.suggest_categorical(\"nb_type\", [\"gauss\", \"discrete\"])\n",
    "        if(nb_type == \"gauss\"):\n",
    "            model = GaussianNB()\n",
    "        \n",
    "        if(nb_type == \"discrete\"):\n",
    "            discr_bins = trial.suggest_int(\"discr_bins\", 10, 20)\n",
    "            discr_encoder = trial.suggest_categorical(\"discr_encoder\", [\"onehot-dense\", \"ordinal\"])\n",
    "            discr_strat = trial.suggest_categorical(\"discr_strat\", [\"uniform\", \"quantile\"])\n",
    "\n",
    "            try:\n",
    "                X_train, X_val, X_test = discretize(X_train, X_val, X_test, discr_bins, discr_encoder, discr_strat)\n",
    "            except Exception:\n",
    "                return -1\n",
    "            \n",
    "            model = CategoricalNB(force_alpha=True)\n",
    "\n",
    "        try:\n",
    "            y_train_pred = model.fit(X_train, y_train).predict(X_train)\n",
    "            y_val_pred   = model.predict(X_val)\n",
    "            y_test_pred  = model.predict(X_test)\n",
    "        except Exception:\n",
    "            return -1\n",
    "\n",
    "        self.trial[trial.number] = {}\n",
    "        self.trial[trial.number][\"train_stats\"] = classification_report(y_train, y_train_pred, output_dict=True, zero_division=0)\n",
    "        self.trial[trial.number][\"val_stats\"]   = classification_report(y_val, y_val_pred, output_dict=True, zero_division=0)\n",
    "        self.trial[trial.number][\"val_conf\"]    = confusion_matrix(y_val, y_val_pred)\n",
    "        self.trial[trial.number][\"train_pred\"]  = y_train_pred\n",
    "        self.trial[trial.number][\"val_pred\"]    = y_val_pred\n",
    "        # self.trial[trial.number][\"X_test\"]      = X_test\n",
    "        self.trial[trial.number][\"test_pred\"]   = y_test_pred\n",
    "        self.trial[trial.number][\"model\"]       = model\n",
    "        \n",
    "        act_acc = self.trial[trial.number][\"val_stats\"][\"accuracy\"]\n",
    "        act_f1  = self.trial[trial.number][\"val_stats\"][\"macro avg\"][\"f1-score\"]\n",
    "\n",
    "        fitness = np.mean([act_acc, act_f1])\n",
    "\n",
    "        self.trial[trial.number][\"fitness\"] = fitness\n",
    "\n",
    "        return fitness\n",
    "\n",
    "    def get_trial_test(self, num_trial):\n",
    "        return self.trial[num_trial]\n",
    "    \n",
    "    def get_k_best_trials(self, study, k=5, save_kaggle=False, show_cf=True, path=\".\"):\n",
    "        trials = study.best_trials[:k]\n",
    "        results = {}\n",
    "        for t in trials:\n",
    "            act_name = \"{}__{}\".format(study.study_name, t.number)\n",
    "            act_result = self.get_trial_test(t.number)\n",
    "            act_result[\"params\"] = t.params\n",
    "\n",
    "            results[act_name] = act_result\n",
    "            if(save_kaggle):\n",
    "                to_kaggle(act_result[\"test_pred\"], self.X_test_ids, path=path, fname = act_name)\n",
    "\n",
    "        naive_bayes_stats(results, show_cf=show_cf)\n",
    "        return results"
   ]
  },
  {
   "cell_type": "code",
   "execution_count": 264,
   "metadata": {},
   "outputs": [],
   "source": [
    "BNTuning = TuningParams(df_credit_x, df_credit_y, df_test)"
   ]
  },
  {
   "cell_type": "code",
   "execution_count": null,
   "metadata": {},
   "outputs": [],
   "source": [
    "study = optuna.create_study(direction=\"maximize\", study_name=\"tuning__{}\".format(datetime.datetime.now().strftime(\"%Y%m%d-%H%M%S\")))\n",
    "\n",
    "study.optimize(BNTuning.objective_function, n_trials=1000)"
   ]
  },
  {
   "cell_type": "code",
   "execution_count": 139,
   "metadata": {},
   "outputs": [],
   "source": [
    "results = BNTuning.get_trial_test(119)"
   ]
  },
  {
   "cell_type": "code",
   "execution_count": 215,
   "metadata": {},
   "outputs": [
    {
     "data": {
      "text/plain": [
       "{'standarize': True,\n",
       " 'scaler': 'power',\n",
       " 'lof': True,\n",
       " 'lof_neighs': 12,\n",
       " 'feature_selection': True,\n",
       " 'feat_sel_type': 'top',\n",
       " 'top_k': 24,\n",
       " 'delete_correlated': False,\n",
       " 'pca': False,\n",
       " 'resample': False}"
      ]
     },
     "execution_count": 215,
     "metadata": {},
     "output_type": "execute_result"
    }
   ],
   "source": [
    "study.best_params"
   ]
  },
  {
   "cell_type": "code",
   "execution_count": 210,
   "metadata": {},
   "outputs": [
    {
     "data": {
      "text/plain": [
       "{'standarize': True,\n",
       " 'scaler': 'power',\n",
       " 'lof': True,\n",
       " 'lof_neighs': 10,\n",
       " 'feature_selection': True,\n",
       " 'feat_sel_type': 'top',\n",
       " 'top_k': 17,\n",
       " 'delete_correlated': False,\n",
       " 'pca': False,\n",
       " 'resample': False}"
      ]
     },
     "execution_count": 210,
     "metadata": {},
     "output_type": "execute_result"
    }
   ],
   "source": [
    "study.best_trial.params"
   ]
  },
  {
   "cell_type": "code",
   "execution_count": 224,
   "metadata": {},
   "outputs": [],
   "source": [
    "self_trials = BNTuning.trial"
   ]
  },
  {
   "cell_type": "code",
   "execution_count": 188,
   "metadata": {},
   "outputs": [],
   "source": [
    "BNTuning.trial = self_trials"
   ]
  },
  {
   "cell_type": "code",
   "execution_count": 266,
   "metadata": {},
   "outputs": [
    {
     "name": "stdout",
     "output_type": "stream",
     "text": [
      "Variant                         F1 Score    Train Acc    Test Acc  Parameters\n",
      "----------------------------  ----------  -----------  ----------  ------------------------------------------------------------------------------------------------------------------------------------------------------------------------------------------------------------------------------------------------------------\n",
      "tuning__20240109-182612__925      0.6521      67.9558     65.9341  {'scaler': 'quan', 'lof': False, 'feature_selection': True, 'feat_sel_type': 'top', 'top_k': 13, 'delete_correlated': False, 'pca': False, 'resample': False, 'nb_type': 'discrete', 'discr_bins': 16, 'discr_encoder': 'ordinal', 'discr_strat': 'uniform'}\n",
      "tuning__20240109-182612__926      0.6521      67.9558     65.9341  {'scaler': 'quan', 'lof': False, 'feature_selection': True, 'feat_sel_type': 'top', 'top_k': 13, 'delete_correlated': False, 'pca': False, 'resample': False, 'nb_type': 'discrete', 'discr_bins': 16, 'discr_encoder': 'ordinal', 'discr_strat': 'uniform'}\n",
      "tuning__20240109-182612__927      0.6521      67.9558     65.9341  {'scaler': 'quan', 'lof': False, 'feature_selection': True, 'feat_sel_type': 'top', 'top_k': 13, 'delete_correlated': False, 'pca': False, 'resample': False, 'nb_type': 'discrete', 'discr_bins': 16, 'discr_encoder': 'ordinal', 'discr_strat': 'uniform'}\n",
      "tuning__20240109-182612__928      0.6521      67.9558     65.9341  {'scaler': 'quan', 'lof': False, 'feature_selection': True, 'feat_sel_type': 'top', 'top_k': 13, 'delete_correlated': False, 'pca': False, 'resample': False, 'nb_type': 'discrete', 'discr_bins': 16, 'discr_encoder': 'ordinal', 'discr_strat': 'uniform'}\n",
      "tuning__20240109-182612__929      0.6521      67.9558     65.9341  {'scaler': 'quan', 'lof': False, 'feature_selection': True, 'feat_sel_type': 'top', 'top_k': 13, 'delete_correlated': False, 'pca': False, 'resample': False, 'nb_type': 'discrete', 'discr_bins': 16, 'discr_encoder': 'ordinal', 'discr_strat': 'uniform'}\n"
     ]
    },
    {
     "data": {
      "image/png": "[encoded data removed]",
      "text/plain": [
       "<Figure size 1800x400 with 10 Axes>"
      ]
     },
     "metadata": {},
     "output_type": "display_data"
    }
   ],
   "source": [
    "out = BNTuning.get_k_best_trials(study, k=5,save_kaggle=True);"
   ]
  },
  {
   "cell_type": "code",
   "execution_count": 219,
   "metadata": {},
   "outputs": [
    {
     "data": {
      "text/plain": [
       "{'standarize': True,\n",
       " 'scaler': 'power',\n",
       " 'lof': True,\n",
       " 'lof_neighs': 12,\n",
       " 'feature_selection': True,\n",
       " 'feat_sel_type': 'top',\n",
       " 'top_k': 24,\n",
       " 'delete_correlated': False,\n",
       " 'pca': False,\n",
       " 'resample': False}"
      ]
     },
     "execution_count": 219,
     "metadata": {},
     "output_type": "execute_result"
    }
   ],
   "source": [
    "out[\"tuning__20240109-170403__378\"][\"params\"]"
   ]
  },
  {
   "cell_type": "code",
   "execution_count": 267,
   "metadata": {},
   "outputs": [],
   "source": [
    "trials = study.trials_dataframe()"
   ]
  },
  {
   "cell_type": "code",
   "execution_count": 268,
   "metadata": {},
   "outputs": [],
   "source": [
    "trials = trials.sort_values(by=[\"value\"], ascending=False)"
   ]
  },
  {
   "cell_type": "code",
   "execution_count": 272,
   "metadata": {},
   "outputs": [],
   "source": [
    "t_dict = trials.to_dict()"
   ]
  },
  {
   "cell_type": "code",
   "execution_count": 278,
   "metadata": {},
   "outputs": [
    {
     "data": {
      "text/plain": [
       "dict_keys(['number', 'value', 'datetime_start', 'datetime_complete', 'duration', 'params_corr_value', 'params_delete_correlated', 'params_discr_bins', 'params_discr_encoder', 'params_discr_strat', 'params_down_neighs', 'params_feat_sel_type', 'params_feature_selection', 'params_kind', 'params_lof', 'params_lof_neighs', 'params_nb_type', 'params_pca', 'params_pca_ratio', 'params_perc', 'params_resample', 'params_scaler', 'params_top_k', 'params_up_neighs', 'user_attrs_num_cols', 'state'])"
      ]
     },
     "execution_count": 278,
     "metadata": {},
     "output_type": "execute_result"
    }
   ],
   "source": [
    "t_dict.keys()"
   ]
  },
  {
   "cell_type": "code",
   "execution_count": 140,
   "metadata": {},
   "outputs": [
    {
     "name": "stdout",
     "output_type": "stream",
     "text": [
      "Variant      F1 Score    Train Acc    Test Acc\n",
      "---------  ----------  -----------  ----------\n",
      "gaussian       0.6580      64.5028     64.2857\n"
     ]
    },
    {
     "data": {
      "image/png": "[encoded data removed]",
      "text/plain": [
       "<Figure size 1800x400 with 2 Axes>"
      ]
     },
     "metadata": {},
     "output_type": "display_data"
    }
   ],
   "source": [
    "res = {\"gaussian\" : results}\n",
    "naive_bayes_stats(res)"
   ]
  },
  {
   "cell_type": "code",
   "execution_count": 91,
   "metadata": {},
   "outputs": [
    {
     "data": {
      "text/plain": [
       "dict_keys(['train_stats', 'val_stats', 'val_conf', 'train_pred', 'val_pred', 'test_pred', 'fitness'])"
      ]
     },
     "execution_count": 91,
     "metadata": {},
     "output_type": "execute_result"
    }
   ],
   "source": [
    "res[\"gaussian\"].keys()"
   ]
  },
  {
   "cell_type": "code",
   "execution_count": 155,
   "metadata": {},
   "outputs": [],
   "source": [
    "to_kaggle(results[\"test_pred\"], X_test_ids, fname=\"testing__power\")"
   ]
  },
  {
   "cell_type": "code",
   "execution_count": 154,
   "metadata": {},
   "outputs": [
    {
     "data": {
      "text/plain": [
       "array(['B', 'B', 'D', 'D', 'B', 'D', 'D', 'C', 'B', 'D', 'D', 'C', 'D',\n",
       "       'D', 'D', 'B', 'D', 'D', 'B', 'A', 'C', 'D', 'A', 'D', 'B', 'D',\n",
       "       'B', 'B', 'B', 'D', 'D', 'B', 'C', 'B', 'B', 'B', 'B', 'B', 'D',\n",
       "       'B', 'C', 'C', 'D', 'C', 'B', 'C', 'D', 'B', 'B', 'C', 'C', 'B',\n",
       "       'D', 'B', 'B', 'B', 'B', 'D', 'C', 'D', 'C', 'B', 'B', 'C', 'C',\n",
       "       'D', 'C', 'D', 'B', 'B', 'D', 'B', 'D', 'D', 'C', 'D', 'C', 'B',\n",
       "       'D', 'D', 'D', 'C', 'D', 'B', 'B', 'B', 'C', 'B', 'A', 'A', 'B',\n",
       "       'D', 'C', 'B', 'D', 'C', 'D', 'B', 'B', 'C', 'D', 'A', 'D', 'C',\n",
       "       'D', 'A', 'A', 'C', 'C', 'B', 'C', 'C', 'D', 'D', 'D', 'C', 'D',\n",
       "       'D', 'D', 'D', 'A', 'B', 'B', 'B', 'B', 'B', 'A', 'D', 'D', 'A',\n",
       "       'B', 'C', 'B', 'A', 'B', 'B', 'B', 'B', 'B', 'D', 'D', 'B', 'C',\n",
       "       'C', 'B', 'B', 'D', 'B', 'D', 'C', 'B', 'C', 'D', 'D', 'A', 'B',\n",
       "       'A', 'C', 'B', 'C', 'C', 'D', 'B', 'C', 'C', 'A', 'B', 'D', 'C',\n",
       "       'C', 'B', 'B', 'B', 'B', 'B', 'C', 'B', 'C', 'D', 'B', 'B', 'B',\n",
       "       'B', 'C', 'D', 'C', 'B', 'A', 'B', 'D', 'A', 'B', 'D', 'B', 'B',\n",
       "       'D', 'C', 'C', 'C', 'B', 'C', 'B', 'B', 'B', 'B', 'C', 'D', 'B',\n",
       "       'D', 'B', 'B', 'B', 'D', 'B', 'B', 'B', 'C', 'B', 'B', 'B', 'B',\n",
       "       'D', 'B', 'D', 'C', 'C', 'C', 'B', 'B', 'C', 'C', 'B', 'D', 'D',\n",
       "       'C', 'D', 'A', 'B', 'B', 'B', 'C', 'D', 'B', 'D', 'C', 'B', 'D',\n",
       "       'B', 'C', 'B', 'B', 'B', 'C', 'D', 'B', 'D', 'C', 'B', 'B', 'D',\n",
       "       'C', 'A', 'D', 'B', 'C', 'B', 'D', 'A', 'B', 'B', 'C', 'B', 'C',\n",
       "       'B', 'D', 'D', 'C', 'C', 'C', 'A', 'C', 'D', 'B', 'B', 'B', 'D',\n",
       "       'B', 'B', 'C', 'C', 'B', 'D', 'C', 'C', 'D', 'B', 'B', 'B', 'C',\n",
       "       'B', 'B', 'B', 'B', 'C', 'C', 'C', 'B', 'D', 'D', 'B', 'C', 'B',\n",
       "       'B', 'D', 'B', 'A', 'C', 'B', 'D', 'B', 'A', 'D', 'A', 'B', 'D',\n",
       "       'C', 'D', 'A', 'D', 'B', 'C', 'D', 'C', 'C', 'A', 'A', 'A', 'B',\n",
       "       'B', 'D', 'B', 'D', 'D', 'B', 'B', 'D', 'C', 'D', 'C', 'C', 'D',\n",
       "       'B', 'C', 'B', 'B', 'B', 'B', 'A', 'B', 'D', 'B', 'B', 'B', 'B',\n",
       "       'B', 'D', 'B', 'B', 'D', 'B', 'B', 'B', 'C', 'D', 'B', 'B', 'D',\n",
       "       'C', 'B', 'A', 'D', 'B', 'A', 'C', 'B', 'D', 'D', 'B', 'B'],\n",
       "      dtype='<U1')"
      ]
     },
     "execution_count": 154,
     "metadata": {},
     "output_type": "execute_result"
    }
   ],
   "source": [
    "results[\"test_pred\"]"
   ]
  },
  {
   "cell_type": "code",
   "execution_count": 111,
   "metadata": {},
   "outputs": [
    {
     "data": {
      "text/plain": [
       "array(['B', 'B', 'D', 'C', 'B', 'C', 'D', 'B', 'B', 'B', 'C', 'C', 'D',\n",
       "       'D', 'C', 'C', 'C', 'C', 'B', 'B', 'C', 'D', 'B', 'D', 'B', 'C',\n",
       "       'C', 'B', 'B', 'D', 'C', 'B', 'C', 'B', 'B', 'B', 'C', 'B', 'C',\n",
       "       'B', 'B', 'D', 'D', 'B', 'B', 'C', 'D', 'C', 'B', 'B', 'D', 'B',\n",
       "       'C', 'C', 'B', 'B', 'B', 'D', 'B', 'A', 'B', 'C', 'B', 'B', 'B',\n",
       "       'C', 'C', 'C', 'B', 'B', 'D', 'B', 'B', 'D', 'D', 'C', 'D', 'B',\n",
       "       'C', 'D', 'C', 'C', 'D', 'A', 'B', 'B', 'B', 'B', 'D', 'A', 'B',\n",
       "       'C', 'A', 'B', 'D', 'D', 'C', 'B', 'C', 'C', 'D', 'A', 'D', 'B',\n",
       "       'D', 'B', 'B', 'C', 'C', 'B', 'B', 'A', 'D', 'C', 'D', 'C', 'D',\n",
       "       'D', 'C', 'C', 'A', 'B', 'C', 'B', 'B', 'B', 'B', 'D', 'D', 'A',\n",
       "       'B', 'B', 'B', 'A', 'B', 'B', 'B', 'B', 'B', 'D', 'D', 'B', 'D',\n",
       "       'B', 'B', 'B', 'D', 'B', 'D', 'B', 'C', 'C', 'D', 'C', 'A', 'B',\n",
       "       'B', 'C', 'B', 'C', 'C', 'D', 'B', 'B', 'C', 'B', 'B', 'D', 'D',\n",
       "       'B', 'A', 'A', 'B', 'B', 'D', 'C', 'B', 'C', 'D', 'B', 'B', 'C',\n",
       "       'B', 'B', 'D', 'C', 'C', 'A', 'B', 'D', 'A', 'B', 'C', 'B', 'B',\n",
       "       'D', 'D', 'C', 'D', 'B', 'B', 'B', 'B', 'B', 'B', 'C', 'D', 'B',\n",
       "       'C', 'B', 'B', 'B', 'C', 'B', 'B', 'C', 'D', 'B', 'B', 'B', 'B',\n",
       "       'C', 'B', 'D', 'D', 'C', 'B', 'B', 'C', 'D', 'B', 'B', 'D', 'D',\n",
       "       'C', 'D', 'B', 'B', 'B', 'B', 'B', 'C', 'B', 'C', 'C', 'B', 'D',\n",
       "       'B', 'B', 'B', 'D', 'B', 'C', 'D', 'B', 'C', 'C', 'B', 'B', 'C',\n",
       "       'C', 'B', 'C', 'B', 'B', 'B', 'D', 'B', 'B', 'B', 'B', 'B', 'B',\n",
       "       'B', 'D', 'C', 'B', 'C', 'B', 'C', 'B', 'D', 'D', 'B', 'B', 'D',\n",
       "       'B', 'D', 'C', 'B', 'B', 'D', 'C', 'B', 'D', 'B', 'B', 'B', 'D',\n",
       "       'B', 'B', 'B', 'B', 'C', 'C', 'C', 'B', 'D', 'D', 'B', 'C', 'B',\n",
       "       'C', 'C', 'A', 'B', 'B', 'B', 'D', 'B', 'A', 'D', 'B', 'D', 'D',\n",
       "       'C', 'C', 'B', 'D', 'B', 'B', 'D', 'C', 'D', 'A', 'B', 'B', 'B',\n",
       "       'B', 'D', 'B', 'D', 'C', 'B', 'B', 'D', 'B', 'C', 'C', 'B', 'C',\n",
       "       'B', 'B', 'B', 'B', 'B', 'B', 'B', 'B', 'D', 'C', 'C', 'B', 'B',\n",
       "       'B', 'C', 'D', 'B', 'C', 'B', 'B', 'B', 'C', 'D', 'A', 'D', 'C',\n",
       "       'D', 'B', 'B', 'B', 'B', 'A', 'B', 'D', 'D', 'D', 'B', 'B'],\n",
       "      dtype='<U1')"
      ]
     },
     "execution_count": 111,
     "metadata": {},
     "output_type": "execute_result"
    }
   ],
   "source": [
    "results[\"model\"].predict(results[\"X_test\"])"
   ]
  },
  {
   "cell_type": "code",
   "execution_count": 112,
   "metadata": {},
   "outputs": [
    {
     "data": {
      "text/html": [
       "<div>\n",
       "<style scoped>\n",
       "    .dataframe tbody tr th:only-of-type {\n",
       "        vertical-align: middle;\n",
       "    }\n",
       "\n",
       "    .dataframe tbody tr th {\n",
       "        vertical-align: top;\n",
       "    }\n",
       "\n",
       "    .dataframe thead th {\n",
       "        text-align: right;\n",
       "    }\n",
       "</style>\n",
       "<table border=\"1\" class=\"dataframe\">\n",
       "  <thead>\n",
       "    <tr style=\"text-align: right;\">\n",
       "      <th></th>\n",
       "      <th>0</th>\n",
       "      <th>1</th>\n",
       "      <th>2</th>\n",
       "      <th>3</th>\n",
       "      <th>4</th>\n",
       "      <th>5</th>\n",
       "      <th>6</th>\n",
       "      <th>7</th>\n",
       "    </tr>\n",
       "  </thead>\n",
       "  <tbody>\n",
       "    <tr>\n",
       "      <th>0</th>\n",
       "      <td>-2.468967</td>\n",
       "      <td>0.922614</td>\n",
       "      <td>0.089367</td>\n",
       "      <td>0.565720</td>\n",
       "      <td>0.297337</td>\n",
       "      <td>0.978705</td>\n",
       "      <td>-0.057186</td>\n",
       "      <td>0.055731</td>\n",
       "    </tr>\n",
       "    <tr>\n",
       "      <th>1</th>\n",
       "      <td>-0.517422</td>\n",
       "      <td>0.858148</td>\n",
       "      <td>0.973429</td>\n",
       "      <td>-0.529261</td>\n",
       "      <td>1.203458</td>\n",
       "      <td>0.446066</td>\n",
       "      <td>0.749932</td>\n",
       "      <td>0.030013</td>\n",
       "    </tr>\n",
       "    <tr>\n",
       "      <th>2</th>\n",
       "      <td>1.557921</td>\n",
       "      <td>-0.509113</td>\n",
       "      <td>4.037219</td>\n",
       "      <td>-0.972139</td>\n",
       "      <td>-1.100319</td>\n",
       "      <td>-1.175198</td>\n",
       "      <td>1.487040</td>\n",
       "      <td>-0.268686</td>\n",
       "    </tr>\n",
       "    <tr>\n",
       "      <th>3</th>\n",
       "      <td>2.534783</td>\n",
       "      <td>-0.354601</td>\n",
       "      <td>0.468763</td>\n",
       "      <td>-0.024231</td>\n",
       "      <td>-0.307189</td>\n",
       "      <td>0.124881</td>\n",
       "      <td>0.337072</td>\n",
       "      <td>0.064585</td>\n",
       "    </tr>\n",
       "    <tr>\n",
       "      <th>4</th>\n",
       "      <td>-1.119715</td>\n",
       "      <td>-0.944308</td>\n",
       "      <td>0.419007</td>\n",
       "      <td>-1.283374</td>\n",
       "      <td>0.019552</td>\n",
       "      <td>-0.581999</td>\n",
       "      <td>-0.842523</td>\n",
       "      <td>-1.277957</td>\n",
       "    </tr>\n",
       "    <tr>\n",
       "      <th>...</th>\n",
       "      <td>...</td>\n",
       "      <td>...</td>\n",
       "      <td>...</td>\n",
       "      <td>...</td>\n",
       "      <td>...</td>\n",
       "      <td>...</td>\n",
       "      <td>...</td>\n",
       "      <td>...</td>\n",
       "    </tr>\n",
       "    <tr>\n",
       "      <th>384</th>\n",
       "      <td>-3.167863</td>\n",
       "      <td>-0.437934</td>\n",
       "      <td>-0.513369</td>\n",
       "      <td>0.579227</td>\n",
       "      <td>-3.084633</td>\n",
       "      <td>2.326840</td>\n",
       "      <td>-0.382735</td>\n",
       "      <td>3.093267</td>\n",
       "    </tr>\n",
       "    <tr>\n",
       "      <th>385</th>\n",
       "      <td>2.912082</td>\n",
       "      <td>0.510535</td>\n",
       "      <td>-0.186255</td>\n",
       "      <td>0.093206</td>\n",
       "      <td>1.107413</td>\n",
       "      <td>0.962007</td>\n",
       "      <td>-0.150436</td>\n",
       "      <td>0.566399</td>\n",
       "    </tr>\n",
       "    <tr>\n",
       "      <th>386</th>\n",
       "      <td>3.872915</td>\n",
       "      <td>-2.303260</td>\n",
       "      <td>-0.785760</td>\n",
       "      <td>-0.506762</td>\n",
       "      <td>-0.569761</td>\n",
       "      <td>1.045076</td>\n",
       "      <td>0.536323</td>\n",
       "      <td>0.096883</td>\n",
       "    </tr>\n",
       "    <tr>\n",
       "      <th>387</th>\n",
       "      <td>-1.632839</td>\n",
       "      <td>-0.191870</td>\n",
       "      <td>-0.222974</td>\n",
       "      <td>0.467786</td>\n",
       "      <td>0.662087</td>\n",
       "      <td>0.408631</td>\n",
       "      <td>-0.189576</td>\n",
       "      <td>-0.308743</td>\n",
       "    </tr>\n",
       "    <tr>\n",
       "      <th>388</th>\n",
       "      <td>-0.273372</td>\n",
       "      <td>-3.061957</td>\n",
       "      <td>1.513538</td>\n",
       "      <td>0.346630</td>\n",
       "      <td>-0.273669</td>\n",
       "      <td>0.784289</td>\n",
       "      <td>-0.049204</td>\n",
       "      <td>-0.216592</td>\n",
       "    </tr>\n",
       "  </tbody>\n",
       "</table>\n",
       "<p>389 rows × 8 columns</p>\n",
       "</div>"
      ],
      "text/plain": [
       "            0         1         2         3         4         5         6  \\\n",
       "0   -2.468967  0.922614  0.089367  0.565720  0.297337  0.978705 -0.057186   \n",
       "1   -0.517422  0.858148  0.973429 -0.529261  1.203458  0.446066  0.749932   \n",
       "2    1.557921 -0.509113  4.037219 -0.972139 -1.100319 -1.175198  1.487040   \n",
       "3    2.534783 -0.354601  0.468763 -0.024231 -0.307189  0.124881  0.337072   \n",
       "4   -1.119715 -0.944308  0.419007 -1.283374  0.019552 -0.581999 -0.842523   \n",
       "..        ...       ...       ...       ...       ...       ...       ...   \n",
       "384 -3.167863 -0.437934 -0.513369  0.579227 -3.084633  2.326840 -0.382735   \n",
       "385  2.912082  0.510535 -0.186255  0.093206  1.107413  0.962007 -0.150436   \n",
       "386  3.872915 -2.303260 -0.785760 -0.506762 -0.569761  1.045076  0.536323   \n",
       "387 -1.632839 -0.191870 -0.222974  0.467786  0.662087  0.408631 -0.189576   \n",
       "388 -0.273372 -3.061957  1.513538  0.346630 -0.273669  0.784289 -0.049204   \n",
       "\n",
       "            7  \n",
       "0    0.055731  \n",
       "1    0.030013  \n",
       "2   -0.268686  \n",
       "3    0.064585  \n",
       "4   -1.277957  \n",
       "..        ...  \n",
       "384  3.093267  \n",
       "385  0.566399  \n",
       "386  0.096883  \n",
       "387 -0.308743  \n",
       "388 -0.216592  \n",
       "\n",
       "[389 rows x 8 columns]"
      ]
     },
     "execution_count": 112,
     "metadata": {},
     "output_type": "execute_result"
    }
   ],
   "source": [
    "results[\"X_test\"]"
   ]
  }
 ],
 "metadata": {
  "kernelspec": {
   "display_name": "env",
   "language": "python",
   "name": "python3"
  },
  "language_info": {
   "codemirror_mode": {
    "name": "ipython",
    "version": 3
   },
   "file_extension": ".py",
   "mimetype": "text/x-python",
   "name": "python",
   "nbconvert_exporter": "python",
   "pygments_lexer": "ipython3",
   "version": "3.10.12"
  }
 },
 "nbformat": 4,
 "nbformat_minor": 2
}
