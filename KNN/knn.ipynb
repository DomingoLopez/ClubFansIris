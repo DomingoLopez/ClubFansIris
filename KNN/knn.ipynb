{
 "cells": [
  {
   "cell_type": "markdown",
   "metadata": {},
   "source": [
    "### Algoritmo KNN"
   ]
  },
  {
   "cell_type": "code",
   "execution_count": 1,
   "metadata": {},
   "outputs": [],
   "source": [
    "# Importaciones para manejo de datos y dataframes\n",
    "import numpy as np\n",
    "from numpy.random import seed\n",
    "import pandas as pd\n",
    "\n",
    "# Importaciones para manejo de archivos y llamadas al OS\n",
    "import os as os\n",
    "import warnings\n",
    "\n",
    "# Importaciones para manejo de gráficos\n",
    "import pylab as plt\n",
    "import seaborn as sns\n",
    "from matplotlib.colors import ListedColormap\n",
    "\n",
    "# Sklearn\n",
    "from sklearn.preprocessing import MinMaxScaler\n",
    "from sklearn.decomposition import PCA\n",
    "from sklearn.preprocessing import OrdinalEncoder, OneHotEncoder\n",
    "from sklearn.impute import KNNImputer\n",
    "from sklearn.neighbors import LocalOutlierFactor\n",
    "\n",
    "\n",
    "from sklearn.model_selection import train_test_split\n",
    "\n",
    "\n",
    "# No mostrar warnings de versiones anteriores\n",
    "warnings.filterwarnings('ignore')"
   ]
  },
  {
   "cell_type": "code",
   "execution_count": 2,
   "metadata": {},
   "outputs": [],
   "source": [
    "# Cargamos csv con los datos de train\n",
    "df_train = pd.read_csv(\"../data_preprocess/train_preprocess.csv\", sep=\",\", header=0, na_values=['?', '', 'NA'])\n",
    "# Cargamos csv con los datos de test\n",
    "df_test = pd.read_csv(\"../data_preprocess/test_preprocess.csv\", sep=\",\", header=0, na_values=['?', '', 'NA'])"
   ]
  },
  {
   "cell_type": "code",
   "execution_count": 3,
   "metadata": {},
   "outputs": [
    {
     "name": "stdout",
     "output_type": "stream",
     "text": [
      "Dimensión del dataset de train:\n",
      " (852, 41) \n",
      "\n",
      "Dimensión del dataset de test:\n",
      " (389, 40) \n",
      "\n",
      "Descripción de las variables:\n",
      "\n",
      "<class 'pandas.core.frame.DataFrame'>\n",
      "RangeIndex: 852 entries, 0 to 851\n",
      "Data columns (total 41 columns):\n",
      " #   Column  Non-Null Count  Dtype  \n",
      "---  ------  --------------  -----  \n",
      " 0   ID      852 non-null    int64  \n",
      " 1   X1      852 non-null    float64\n",
      " 2   X2      852 non-null    float64\n",
      " 3   X3      852 non-null    float64\n",
      " 4   X4      852 non-null    float64\n",
      " 5   X5      852 non-null    float64\n",
      " 6   X6      852 non-null    float64\n",
      " 7   X7      852 non-null    float64\n",
      " 8   X8      852 non-null    float64\n",
      " 9   X9      852 non-null    float64\n",
      " 10  X10     852 non-null    float64\n",
      " 11  X11     852 non-null    float64\n",
      " 12  X12     852 non-null    float64\n",
      " 13  X13     852 non-null    float64\n",
      " 14  X14     852 non-null    float64\n",
      " 15  X15     852 non-null    float64\n",
      " 16  X16     852 non-null    float64\n",
      " 17  X17     852 non-null    float64\n",
      " 18  X18     852 non-null    float64\n",
      " 19  X19     852 non-null    float64\n",
      " 20  X20     852 non-null    float64\n",
      " 21  X21     852 non-null    float64\n",
      " 22  X22     852 non-null    float64\n",
      " 23  X23     852 non-null    float64\n",
      " 24  X24     852 non-null    float64\n",
      " 25  X25     852 non-null    int64  \n",
      " 26  X26     852 non-null    float64\n",
      " 27  X27     852 non-null    float64\n",
      " 28  X28     852 non-null    float64\n",
      " 29  X29     852 non-null    float64\n",
      " 30  X30     852 non-null    int64  \n",
      " 31  X31     852 non-null    float64\n",
      " 32  X32     852 non-null    float64\n",
      " 33  X33     852 non-null    float64\n",
      " 34  X34     852 non-null    float64\n",
      " 35  X35     852 non-null    float64\n",
      " 36  X36     852 non-null    float64\n",
      " 37  X37     852 non-null    float64\n",
      " 38  X38     852 non-null    float64\n",
      " 39  X39     852 non-null    float64\n",
      " 40  RATE    852 non-null    object \n",
      "dtypes: float64(37), int64(3), object(1)\n",
      "memory usage: 273.0+ KB\n"
     ]
    }
   ],
   "source": [
    "# Dimensión\n",
    "print(f\"Dimensión del dataset de train:\\n {df_train.shape} \\n\")\n",
    "print(f\"Dimensión del dataset de test:\\n {df_test.shape} \\n\")\n",
    "\n",
    "# Descripción de las variables\n",
    "print(\"Descripción de las variables:\\n\")\n",
    "df_train.info()"
   ]
  },
  {
   "cell_type": "code",
   "execution_count": 4,
   "metadata": {},
   "outputs": [
    {
     "name": "stdout",
     "output_type": "stream",
     "text": [
      "RATE\n",
      "A     68\n",
      "B    361\n",
      "C    224\n",
      "D    199\n",
      "Name: RATE, dtype: int64\n",
      "\n",
      "\n",
      "(852, 41)\n"
     ]
    }
   ],
   "source": [
    "\n",
    "print(df_train.groupby(['RATE'])['RATE'].count())\n",
    "print(\"\\n\")\n",
    "print(df_train.shape)\n",
    "\n",
    "# Claramente la clase A desbalanceada. Haremos SMOTE seguramente."
   ]
  },
  {
   "cell_type": "code",
   "execution_count": 75,
   "metadata": {},
   "outputs": [
    {
     "name": "stdout",
     "output_type": "stream",
     "text": [
      "Informe completo\n",
      "               precision    recall  f1-score   support\n",
      "\n",
      "           A       0.04      0.08      0.05        13\n",
      "           B       0.45      0.35      0.40       114\n",
      "           C       0.28      0.37      0.32        59\n",
      "           D       0.33      0.30      0.32        70\n",
      "\n",
      "    accuracy                           0.33       256\n",
      "   macro avg       0.28      0.28      0.27       256\n",
      "weighted avg       0.36      0.33      0.34       256\n",
      "\n"
     ]
    }
   ],
   "source": [
    "## HOLD OUT\n",
    "\n",
    "#Por si acaso, vamos a cargar el conjunto de datos de cancer de mama de nuevo\n",
    "from sklearn.neighbors import KNeighborsClassifier\n",
    "from sklearn.metrics import classification_report\n",
    "\n",
    "X = df_train.drop(['ID','RATE'], inplace=False, axis=1)\n",
    "y = df_train['RATE']\n",
    "\n",
    "np.random.seed(1234)\n",
    "#Vamos a dividir el conjunto de datos en un conjunto de entrenamiento y otro de test con un 20% de los datos para test y 80% para entrenamiento\n",
    "#No queremos que los datos se desordenen respecto a su orden inicial, por lo que indicamos shuffle=false\n",
    "#Ojo con el parámetro shuffle: https://scikit-learn.org/stable/modules/cross_validation.html#a-note-on-shuffling\n",
    "X_train, X_test, y_train, y_test = train_test_split(X, y, test_size=0.3, shuffle=False)\n",
    "\n",
    "knn = KNeighborsClassifier(n_neighbors=1)\n",
    "#OJO: ahora entrenamos el modelo con los datos de entrenamiento\n",
    "knn_model = knn.fit(X_train, y_train)\n",
    "\n",
    "#Y ahora obtenemos las predicciones para los datos de test\n",
    "knn_predictions = knn_model.predict(X_test)\n",
    "\n",
    "#Vamos a mostrar las métricas de rendimiento sobre el conjuto de test Y_test\n",
    "print(\"Informe completo\\n\",classification_report(y_test, knn_predictions))"
   ]
  },
  {
   "cell_type": "code",
   "execution_count": 76,
   "metadata": {},
   "outputs": [
    {
     "name": "stdout",
     "output_type": "stream",
     "text": [
      "Fitting 10 folds for each of 176 candidates, totalling 1760 fits\n",
      "KNeighborsClassifier(algorithm='ball_tree', metric='chebyshev', n_neighbors=21)\n"
     ]
    }
   ],
   "source": [
    "# Metemos un gridsearch\n",
    "from sklearn.model_selection import GridSearchCV\n",
    "param_grid_knn = {\n",
    "    'n_neighbors': [1, 3, 5, 7, 9, 11, 13, 15, 17, 19, 21],                                   \n",
    "    'algorithm': ['ball_tree', 'kd_tree', 'brute', 'auto'],          \n",
    "    'metric': ['minkowski', 'euclidean', 'manhattan', 'chebyshev']\n",
    "}\n",
    "\n",
    "X_1 = X[['X23','X36','X31','X14','X8','X26']].copy()\n",
    "\n",
    "X_train, X_test, y_train, y_test = train_test_split(X_1, y, test_size=0.25, random_state = 32, shuffle=False)\n",
    "\n",
    "kNNModel_grid = GridSearchCV(estimator=KNeighborsClassifier(), param_grid=param_grid_knn, verbose=1, cv=10, n_jobs=-1)\n",
    "kNNModel_grid.fit(X_train, y_train)\n",
    "print(kNNModel_grid.best_estimator_)"
   ]
  },
  {
   "cell_type": "code",
   "execution_count": 77,
   "metadata": {},
   "outputs": [
    {
     "name": "stdout",
     "output_type": "stream",
     "text": [
      "['C' 'B' 'B' 'C' 'B' 'B' 'B' 'B' 'B' 'B' 'B' 'B' 'B' 'B' 'B' 'B' 'B' 'B'\n",
      " 'B' 'B' 'B' 'C' 'D' 'D' 'D' 'B' 'B' 'B' 'B' 'B' 'B' 'B' 'B' 'B' 'B' 'B'\n",
      " 'B' 'B' 'C' 'B' 'C' 'B' 'B' 'B' 'D' 'B' 'B' 'D' 'C' 'B' 'B' 'B' 'B' 'B'\n",
      " 'B' 'B' 'D' 'B' 'B' 'B' 'B' 'B' 'B' 'B' 'B' 'B' 'B' 'D' 'C' 'A' 'D' 'C'\n",
      " 'B' 'B' 'B' 'B' 'B' 'B' 'B' 'B' 'B' 'B' 'D' 'B' 'B' 'B' 'B' 'B' 'D' 'B'\n",
      " 'B' 'B' 'C' 'C' 'B' 'B' 'B' 'B' 'C' 'D' 'D' 'B' 'C' 'B' 'B' 'C' 'B' 'B'\n",
      " 'C' 'B' 'B' 'B' 'D' 'D' 'C' 'C' 'D' 'B' 'D' 'D' 'C' 'B' 'B' 'B' 'B' 'B'\n",
      " 'B' 'B' 'B' 'B' 'B' 'B' 'B' 'B' 'B' 'D' 'C' 'C' 'B' 'B' 'D' 'B' 'C' 'D'\n",
      " 'D' 'B' 'C' 'B' 'B' 'B' 'B' 'D' 'B' 'B' 'C' 'B' 'B' 'B' 'B' 'B' 'B' 'B'\n",
      " 'B' 'C' 'B' 'B' 'C' 'C' 'B' 'B' 'B' 'D' 'B' 'B' 'C' 'A' 'C' 'B' 'B' 'B'\n",
      " 'B' 'D' 'B' 'D' 'B' 'B' 'C' 'B' 'B' 'B' 'B' 'B' 'B' 'B' 'C' 'C' 'C' 'B'\n",
      " 'B' 'B' 'B' 'B' 'B' 'B' 'B' 'D' 'B' 'D' 'B' 'B' 'D' 'B' 'B']\n"
     ]
    }
   ],
   "source": [
    "y_pred = kNNModel_grid.predict(X_test)\n",
    "print(y_pred)"
   ]
  },
  {
   "cell_type": "code",
   "execution_count": 78,
   "metadata": {},
   "outputs": [
    {
     "name": "stdout",
     "output_type": "stream",
     "text": [
      "[[ 0  8  2  1]\n",
      " [ 1 68 12 15]\n",
      " [ 1 33 10  7]\n",
      " [ 0 43  7  5]] : is the confusion matrix\n",
      "0.38967136150234744 : is the accuracy score\n"
     ]
    }
   ],
   "source": [
    "from sklearn.metrics import confusion_matrix\n",
    "print(confusion_matrix(y_test, y_pred), \": is the confusion matrix\")\n",
    "\n",
    "from sklearn.metrics import accuracy_score\n",
    "print(accuracy_score(y_test, y_pred), \": is the accuracy score\")\n"
   ]
  },
  {
   "cell_type": "code",
   "execution_count": 55,
   "metadata": {},
   "outputs": [
    {
     "data": {
      "text/html": [
       "<style>#sk-container-id-1 {color: black;}#sk-container-id-1 pre{padding: 0;}#sk-container-id-1 div.sk-toggleable {background-color: white;}#sk-container-id-1 label.sk-toggleable__label {cursor: pointer;display: block;width: 100%;margin-bottom: 0;padding: 0.3em;box-sizing: border-box;text-align: center;}#sk-container-id-1 label.sk-toggleable__label-arrow:before {content: \"▸\";float: left;margin-right: 0.25em;color: #696969;}#sk-container-id-1 label.sk-toggleable__label-arrow:hover:before {color: black;}#sk-container-id-1 div.sk-estimator:hover label.sk-toggleable__label-arrow:before {color: black;}#sk-container-id-1 div.sk-toggleable__content {max-height: 0;max-width: 0;overflow: hidden;text-align: left;background-color: #f0f8ff;}#sk-container-id-1 div.sk-toggleable__content pre {margin: 0.2em;color: black;border-radius: 0.25em;background-color: #f0f8ff;}#sk-container-id-1 input.sk-toggleable__control:checked~div.sk-toggleable__content {max-height: 200px;max-width: 100%;overflow: auto;}#sk-container-id-1 input.sk-toggleable__control:checked~label.sk-toggleable__label-arrow:before {content: \"▾\";}#sk-container-id-1 div.sk-estimator input.sk-toggleable__control:checked~label.sk-toggleable__label {background-color: #d4ebff;}#sk-container-id-1 div.sk-label input.sk-toggleable__control:checked~label.sk-toggleable__label {background-color: #d4ebff;}#sk-container-id-1 input.sk-hidden--visually {border: 0;clip: rect(1px 1px 1px 1px);clip: rect(1px, 1px, 1px, 1px);height: 1px;margin: -1px;overflow: hidden;padding: 0;position: absolute;width: 1px;}#sk-container-id-1 div.sk-estimator {font-family: monospace;background-color: #f0f8ff;border: 1px dotted black;border-radius: 0.25em;box-sizing: border-box;margin-bottom: 0.5em;}#sk-container-id-1 div.sk-estimator:hover {background-color: #d4ebff;}#sk-container-id-1 div.sk-parallel-item::after {content: \"\";width: 100%;border-bottom: 1px solid gray;flex-grow: 1;}#sk-container-id-1 div.sk-label:hover label.sk-toggleable__label {background-color: #d4ebff;}#sk-container-id-1 div.sk-serial::before {content: \"\";position: absolute;border-left: 1px solid gray;box-sizing: border-box;top: 0;bottom: 0;left: 50%;z-index: 0;}#sk-container-id-1 div.sk-serial {display: flex;flex-direction: column;align-items: center;background-color: white;padding-right: 0.2em;padding-left: 0.2em;position: relative;}#sk-container-id-1 div.sk-item {position: relative;z-index: 1;}#sk-container-id-1 div.sk-parallel {display: flex;align-items: stretch;justify-content: center;background-color: white;position: relative;}#sk-container-id-1 div.sk-item::before, #sk-container-id-1 div.sk-parallel-item::before {content: \"\";position: absolute;border-left: 1px solid gray;box-sizing: border-box;top: 0;bottom: 0;left: 50%;z-index: -1;}#sk-container-id-1 div.sk-parallel-item {display: flex;flex-direction: column;z-index: 1;position: relative;background-color: white;}#sk-container-id-1 div.sk-parallel-item:first-child::after {align-self: flex-end;width: 50%;}#sk-container-id-1 div.sk-parallel-item:last-child::after {align-self: flex-start;width: 50%;}#sk-container-id-1 div.sk-parallel-item:only-child::after {width: 0;}#sk-container-id-1 div.sk-dashed-wrapped {border: 1px dashed gray;margin: 0 0.4em 0.5em 0.4em;box-sizing: border-box;padding-bottom: 0.4em;background-color: white;}#sk-container-id-1 div.sk-label label {font-family: monospace;font-weight: bold;display: inline-block;line-height: 1.2em;}#sk-container-id-1 div.sk-label-container {text-align: center;}#sk-container-id-1 div.sk-container {/* jupyter's `normalize.less` sets `[hidden] { display: none; }` but bootstrap.min.css set `[hidden] { display: none !important; }` so we also need the `!important` here to be able to override the default hidden behavior on the sphinx rendered scikit-learn.org. See: https://github.com/scikit-learn/scikit-learn/issues/21755 */display: inline-block !important;position: relative;}#sk-container-id-1 div.sk-text-repr-fallback {display: none;}</style><div id=\"sk-container-id-1\" class=\"sk-top-container\"><div class=\"sk-text-repr-fallback\"><pre>RandomForestClassifier(random_state=0)</pre><b>In a Jupyter environment, please rerun this cell to show the HTML representation or trust the notebook. <br />On GitHub, the HTML representation is unable to render, please try loading this page with nbviewer.org.</b></div><div class=\"sk-container\" hidden><div class=\"sk-item\"><div class=\"sk-estimator sk-toggleable\"><input class=\"sk-toggleable__control sk-hidden--visually\" id=\"sk-estimator-id-1\" type=\"checkbox\" checked><label for=\"sk-estimator-id-1\" class=\"sk-toggleable__label sk-toggleable__label-arrow\">RandomForestClassifier</label><div class=\"sk-toggleable__content\"><pre>RandomForestClassifier(random_state=0)</pre></div></div></div></div></div>"
      ],
      "text/plain": [
       "RandomForestClassifier(random_state=0)"
      ]
     },
     "execution_count": 55,
     "metadata": {},
     "output_type": "execute_result"
    }
   ],
   "source": [
    "# Selección de características con Random Forest seguro que va fetén\n",
    "\n",
    "from sklearn.ensemble import RandomForestClassifier\n",
    "from sklearn.feature_selection import SelectFromModel\n",
    "\n",
    "X = X[['X23','X36','X31','X14','X8','X26']]\n",
    "\n",
    "X_train, X_test, y_train, y_test = train_test_split( X, y, test_size=0.33, random_state=42)\n",
    "\n",
    "rf = RandomForestClassifier(random_state=0)\n",
    "\n",
    "rf.fit(X_train,y_train)"
   ]
  },
  {
   "cell_type": "code",
   "execution_count": 56,
   "metadata": {},
   "outputs": [
    {
     "data": {
      "text/plain": [
       "X23    0.033838\n",
       "X36    0.033544\n",
       "X31    0.033279\n",
       "X14    0.032514\n",
       "X8     0.031968\n",
       "X26    0.031802\n",
       "X21    0.029678\n",
       "X38    0.029364\n",
       "X22    0.029057\n",
       "X20    0.028884\n",
       "X39    0.028868\n",
       "X29    0.028537\n",
       "X19    0.028281\n",
       "X2     0.028130\n",
       "X9     0.027865\n",
       "X28    0.027277\n",
       "X15    0.027255\n",
       "X37    0.027137\n",
       "X4     0.026969\n",
       "X3     0.026252\n",
       "X13    0.026083\n",
       "X35    0.026076\n",
       "X18    0.025814\n",
       "X17    0.025629\n",
       "X16    0.025597\n",
       "X32    0.025495\n",
       "X6     0.025445\n",
       "X7     0.024816\n",
       "X27    0.024798\n",
       "X34    0.024503\n",
       "X33    0.023692\n",
       "X5     0.023443\n",
       "X12    0.023197\n",
       "X1     0.023141\n",
       "X10    0.022414\n",
       "X11    0.021689\n",
       "X24    0.013374\n",
       "X25    0.003522\n",
       "X30    0.000771\n",
       "dtype: float64"
      ]
     },
     "execution_count": 56,
     "metadata": {},
     "output_type": "execute_result"
    }
   ],
   "source": [
    "feature_scores = pd.Series(rf.feature_importances_, index=X_train.columns).sort_values(ascending=False)\n",
    "\n",
    "feature_scores"
   ]
  },
  {
   "cell_type": "code",
   "execution_count": null,
   "metadata": {},
   "outputs": [],
   "source": []
  }
 ],
 "metadata": {
  "kernelspec": {
   "display_name": "Python 3",
   "language": "python",
   "name": "python3"
  },
  "language_info": {
   "codemirror_mode": {
    "name": "ipython",
    "version": 3
   },
   "file_extension": ".py",
   "mimetype": "text/x-python",
   "name": "python",
   "nbconvert_exporter": "python",
   "pygments_lexer": "ipython3",
   "version": "3.12.0"
  }
 },
 "nbformat": 4,
 "nbformat_minor": 2
}
