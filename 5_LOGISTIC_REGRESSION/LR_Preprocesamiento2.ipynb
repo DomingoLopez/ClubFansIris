{
 "cells": [
  {
   "cell_type": "code",
   "execution_count": 61,
   "metadata": {},
   "outputs": [],
   "source": [
    "# Importaciones para manejo de datos y dataframes\n",
    "import numpy as np\n",
    "from numpy.random import seed\n",
    "import pandas as pd\n",
    "\n",
    "# Importaciones para manejo de archivos y llamadas al OS\n",
    "import os as os\n",
    "import warnings\n",
    "\n",
    "# Importaciones para manejo de gráficos\n",
    "import pylab as plt\n",
    "import seaborn as sns\n",
    "from matplotlib.colors import ListedColormap\n",
    "\n",
    "# Sklearn\n",
    "from sklearn.preprocessing import MinMaxScaler\n",
    "from sklearn.preprocessing import StandardScaler\n",
    "from sklearn.preprocessing import RobustScaler\n",
    "from sklearn.impute import SimpleImputer\n",
    "from sklearn.decomposition import PCA\n",
    "from sklearn.preprocessing import OrdinalEncoder, OneHotEncoder\n",
    "from sklearn.impute import KNNImputer\n",
    "from sklearn.neighbors import LocalOutlierFactor\n",
    "\n",
    "\n",
    "\n",
    "# No mostrar warnings de versiones anteriores\n",
    "warnings.filterwarnings('ignore')"
   ]
  },
  {
   "cell_type": "code",
   "execution_count": 66,
   "metadata": {},
   "outputs": [],
   "source": [
    "# Cargamos csv con los datos de train\n",
    "df_train = pd.read_csv(\"../data_raw/training_data.csv\", sep=\",\", header=0, na_values=['?', '', 'NA'])\n",
    "# Cargamos csv con los datos de test\n",
    "df_test = pd.read_csv(\"../data_raw/test_data.csv\", sep=\",\", header=0, na_values=['?', '', 'NA'])\n"
   ]
  },
  {
   "cell_type": "markdown",
   "metadata": {},
   "source": [
    "## Encoding"
   ]
  },
  {
   "cell_type": "code",
   "execution_count": 67,
   "metadata": {},
   "outputs": [],
   "source": [
    "#CATEGÓRICAS: X24, X25, X30, RATE \n",
    "\n",
    "# X24 -> Factor ordenado (VLOW, LOW, MED, HIGH, VHIGH) -> LabelEncoder\n",
    "# X25 -> Binario (YES, NO) -> LabelEncoder NO -> 0, YES -> 1. (Da un poco igual si es 0,1 o 1,2 la verdad)\n",
    "# X30 -> ASKVR, CLPXZ, GXZVX, KUHMP, VTKGN, XNHTQ -> OneHotEncoder\n",
    "\n",
    "# Ninguna presenta nulos, aplicamos las transformaciones y posteriormente imputación de NAs\n",
    "# ------------------------------------------------------------------------------------------------------\n",
    "\n",
    "\n",
    "df_train_num = df_train.copy()\n",
    "df_test_num = df_test.copy()\n",
    "\n",
    "# 1. \"OrdinalEncoder\" para X24\n",
    "orden_x24 = ['VLOW', 'LOW', 'MED', 'HIGH', 'VHIGH']\n",
    "\n",
    "ordinal_encoder_x24 = OrdinalEncoder(categories=[orden_x24], dtype=int)\n",
    "\n",
    "df_train_num['X24'] = ordinal_encoder_x24.fit_transform(df_train_num[['X24']])\n",
    "df_test_num['X24'] = ordinal_encoder_x24.transform(df_test_num[['X24']])\n",
    "\n",
    "# 2. \"OrdinalEncoder\" para X25\n",
    "orden_x25 = ['NO', 'YES']\n",
    "\n",
    "ordinal_encoder_x25 = OrdinalEncoder(categories=[orden_x25], dtype=int)\n",
    "\n",
    "df_train_num['X25'] = ordinal_encoder_x25.fit_transform(df_train_num[['X25']])\n",
    "df_test_num['X25'] = ordinal_encoder_x25.transform(df_test_num[['X25']])\n",
    "\n",
    "\n",
    "# Si es VTKGN 1 else 0\n",
    "# Ya que la la clase está muy desbalanceada\n",
    "df_train_encoded = df_train_num.copy()\n",
    "df_test_encoded = df_test_num.copy()\n",
    "\n",
    "df_train_encoded.loc[df_train_num['X30'] == 'VTKGN', 'X30'] = 1\n",
    "df_train_encoded.loc[df_train_num['X30'] != 'VTKGN', 'X30'] = 0\n",
    "\n",
    "df_test_encoded.loc[df_test_num['X30'] == 'VTKGN', 'X30'] = 1\n",
    "df_test_encoded.loc[df_test_num['X30'] != 'VTKGN', 'X30'] = 0\n",
    "\n",
    "# df_train_encoded['X30'].astype(int)\n",
    "# df_test_encoded['X30'].astype(int)\n",
    "\n",
    "# #3. \"OneHotEncoder\" para X30\n",
    "\n",
    "# one_hot_encoder = OneHotEncoder(sparse=False, dtype=np.int32)\n",
    "# col_encoded = one_hot_encoder.fit_transform(df_train_num[[\"X30\"]])\n",
    "# df_train_encoded = pd.concat([df_train_num, pd.DataFrame(col_encoded, columns=one_hot_encoder.get_feature_names_out(['X30']))], axis=1)\n",
    "\n",
    "# one_hot_encoder_test = OneHotEncoder(sparse=False, dtype=np.int32)\n",
    "# col_encoded_test = one_hot_encoder_test.fit_transform(df_train_num[[\"X30\"]]) # ponemos train porque test no tiene todas las distintas categorias\n",
    "# df_test_encoded = pd.concat([df_test_num, pd.DataFrame(col_encoded_test, columns=one_hot_encoder_test.get_feature_names_out(['X30']))], axis=1)\n",
    "\n",
    "\n",
    "# Eliminamos original\n",
    "# df_train_encoded.head()\n",
    "# df_test_encoded.head()\n",
    "\n",
    "df_train_encoded['X30'] = pd.to_numeric(df_train_encoded['X30'])\n",
    "df_test_encoded['X30'] = pd.to_numeric(df_train_encoded['X30']) "
   ]
  },
  {
   "cell_type": "markdown",
   "metadata": {},
   "source": [
    "## Escalado del dataset"
   ]
  },
  {
   "cell_type": "code",
   "execution_count": 68,
   "metadata": {},
   "outputs": [],
   "source": [
    "df_final_train = df_train_encoded.drop(['ID','RATE'], axis=1, inplace=False)\n",
    "train_ID = df_train_encoded['ID'].copy()\n",
    "train_RATE = df_train_encoded['RATE'].copy()\n",
    "df_final_test = df_test_encoded.drop('ID', axis=1, inplace=False)\n",
    "test_ID = df_test_encoded['ID'].copy()\n",
    "scaler = RobustScaler()\n",
    "df_scaled_train = scaler.fit_transform(df_final_train.to_numpy())\n",
    "df_scaled_train = pd.DataFrame(df_scaled_train,index=df_final_train.index, columns=[\n",
    "  df_final_train.columns])\n",
    "df_scaled_test = scaler.transform(df_final_test.to_numpy())\n",
    "df_scaled_test = pd.DataFrame(df_scaled_test,index=df_final_test.index, columns=[\n",
    "  df_final_test.columns])"
   ]
  },
  {
   "cell_type": "markdown",
   "metadata": {},
   "source": [
    "## Imputación valores"
   ]
  },
  {
   "cell_type": "code",
   "execution_count": 50,
   "metadata": {},
   "outputs": [],
   "source": [
    "# Imputando con KNN (TRAIN)\n",
    "\n",
    "\n",
    "Knn_imp_train = KNNImputer(n_neighbors=8).fit(df_scaled_train)\n",
    "imputed_X_train = pd.DataFrame(Knn_imp_train.transform(df_scaled_train), columns=df_scaled_train.columns)\n",
    "\n",
    "result_df_train = pd.merge(train_ID, imputed_X_train, left_index=True, right_index=True)\n",
    "result_df_train = pd.merge(result_df_train, train_RATE, left_index=True, right_index=True)\n",
    "result_df_train.columns = df_train_encoded.columns\n",
    "# vemos ratio de nulos ahora"
   ]
  },
  {
   "cell_type": "code",
   "execution_count": 60,
   "metadata": {},
   "outputs": [],
   "source": [
    "# Imputando con la media\n",
    "Mean_imp_train = SimpleImputer(strategy=\"mean\")\n",
    "Mean_imp_train.fit(df_scaled_train,train_RATE)\n",
    "imputed_X_train = pd.DataFrame(Mean_imp_train.transform(df_scaled_train), columns=df_scaled_train.columns)\n",
    "\n",
    "result_df_train = pd.merge(train_ID, imputed_X_train, left_index=True, right_index=True)\n",
    "result_df_train = pd.merge(result_df_train, train_RATE, left_index=True, right_index=True)\n",
    "result_df_train.columns = df_train_encoded.columns"
   ]
  },
  {
   "cell_type": "code",
   "execution_count": 69,
   "metadata": {},
   "outputs": [],
   "source": [
    "# Imputando con la moda\n",
    "Mean_imp_train = SimpleImputer(strategy=\"most_frequent\")\n",
    "Mean_imp_train.fit(df_scaled_train,train_RATE)\n",
    "imputed_X_train = pd.DataFrame(Mean_imp_train.transform(df_scaled_train), columns=df_scaled_train.columns)\n",
    "\n",
    "result_df_train = pd.merge(train_ID, imputed_X_train, left_index=True, right_index=True)\n",
    "result_df_train = pd.merge(result_df_train, train_RATE, left_index=True, right_index=True)\n",
    "result_df_train.columns = df_train_encoded.columns"
   ]
  },
  {
   "cell_type": "code",
   "execution_count": null,
   "metadata": {},
   "outputs": [],
   "source": [
    "# Imputando con la mediana\n",
    "Mean_imp_train = SimpleImputer(strategy=\"median\")\n",
    "Mean_imp_train.fit(df_scaled_train,train_RATE)\n",
    "imputed_X_train = pd.DataFrame(Mean_imp_train.transform(df_scaled_train), columns=df_scaled_train.columns)\n",
    "\n",
    "result_df_train = pd.merge(train_ID, imputed_X_train, left_index=True, right_index=True)\n",
    "result_df_train = pd.merge(result_df_train, train_RATE, left_index=True, right_index=True)\n",
    "result_df_train.columns = df_train_encoded.columns"
   ]
  },
  {
   "cell_type": "code",
   "execution_count": 53,
   "metadata": {},
   "outputs": [],
   "source": [
    "# Imputando con KNN (TEST)\n",
    "\n",
    "\n",
    "Knn_imp_test = KNNImputer(n_neighbors=8).fit(df_scaled_test)\n",
    "imputed_X_test = pd.DataFrame(Knn_imp_test.transform(df_scaled_test), columns=df_scaled_test.columns)\n",
    "\n",
    "result_df_test = pd.merge(test_ID, imputed_X_test, left_index=True, right_index=True)\n",
    "result_df_test.columns = df_test_encoded.columns\n"
   ]
  },
  {
   "cell_type": "code",
   "execution_count": 52,
   "metadata": {},
   "outputs": [],
   "source": [
    "# Imputando con la media (TEST)\n",
    "imputed_X_test = pd.DataFrame(Mean_imp_train.transform(df_scaled_test), columns=df_scaled_test.columns)\n",
    "\n",
    "result_df_test = pd.merge(test_ID, imputed_X_test, left_index=True, right_index=True)\n",
    "result_df_test.columns = df_test_encoded.columns\n"
   ]
  },
  {
   "cell_type": "code",
   "execution_count": 70,
   "metadata": {},
   "outputs": [],
   "source": [
    "imputed_X_test = pd.DataFrame(Mean_imp_train.transform(df_scaled_test), columns=df_scaled_test.columns)\n",
    "\n",
    "result_df_test = pd.merge(test_ID, imputed_X_test, left_index=True, right_index=True)\n",
    "result_df_test.columns = df_test_encoded.columns"
   ]
  },
  {
   "cell_type": "markdown",
   "metadata": {},
   "source": [
    "## Seleccion de caracteristicas"
   ]
  },
  {
   "cell_type": "code",
   "execution_count": 78,
   "metadata": {},
   "outputs": [
    {
     "name": "stdout",
     "output_type": "stream",
     "text": [
      "Optimal number of features: 35\n"
     ]
    }
   ],
   "source": [
    "from sklearn.feature_selection import RFECV\n",
    "from sklearn.linear_model import LogisticRegression\n",
    "from sklearn.model_selection import StratifiedKFold\n",
    "\n",
    "min_features_to_select = 1  # Minimum number of features to consider\n",
    "clf = LogisticRegression(max_iter=100000)\n",
    "cv = StratifiedKFold(5)\n",
    "\n",
    "rfecv = RFECV(\n",
    "    estimator=clf,\n",
    "    step=1,\n",
    "    cv=cv,\n",
    "    scoring=\"accuracy\",\n",
    "    min_features_to_select=min_features_to_select,\n",
    "    n_jobs=2,\n",
    ")\n",
    "rfecv.fit(result_df_train.iloc[:,1:40],result_df_train.iloc[:,40] )\n",
    "rfecv.feature_names_in_\n",
    "\n",
    "print(f\"Optimal number of features: {rfecv.n_features_}\")"
   ]
  },
  {
   "cell_type": "code",
   "execution_count": 81,
   "metadata": {},
   "outputs": [
    {
     "data": {
      "text/plain": [
       "Index(['X1', 'X2', 'X3', 'X4', 'X5', 'X6', 'X7', 'X8', 'X9', 'X10', 'X11',\n",
       "       'X12', 'X13', 'X14', 'X15', 'X16', 'X17', 'X18', 'X19', 'X20', 'X21',\n",
       "       'X22', 'X23', 'X24', 'X25', 'X26', 'X27', 'X28', 'X29', 'X30', 'X31',\n",
       "       'X32', 'X33', 'X34', 'X35', 'X36', 'X37', 'X38', 'X39'],\n",
       "      dtype='object')"
      ]
     },
     "execution_count": 81,
     "metadata": {},
     "output_type": "execute_result"
    }
   ],
   "source": [
    "result_df_train.iloc[:,1:40].columns"
   ]
  },
  {
   "cell_type": "code",
   "execution_count": 80,
   "metadata": {},
   "outputs": [
    {
     "name": "stdout",
     "output_type": "stream",
     "text": [
      "['X1' 'X2' 'X3' 'X5' 'X6' 'X7' 'X8' 'X9' 'X10' 'X12' 'X13' 'X14' 'X15'\n",
      " 'X16' 'X17' 'X18' 'X19' 'X20' 'X21' 'X22' 'X23' 'X24' 'X25' 'X27' 'X28'\n",
      " 'X29' 'X30' 'X32' 'X33' 'X34' 'X35' 'X36' 'X37' 'X38' 'X39']\n"
     ]
    }
   ],
   "source": [
    "print(rfecv.get_feature_names_out())"
   ]
  },
  {
   "cell_type": "code",
   "execution_count": 72,
   "metadata": {},
   "outputs": [
    {
     "data": {
      "image/png": "[encoded data removed]",
      "text/plain": [
       "<Figure size 432x288 with 1 Axes>"
      ]
     },
     "metadata": {
      "needs_background": "light"
     },
     "output_type": "display_data"
    }
   ],
   "source": [
    "import matplotlib.pyplot as plt\n",
    "\n",
    "n_scores = len(rfecv.cv_results_[\"mean_test_score\"])\n",
    "plt.figure()\n",
    "plt.xlabel(\"Number of features selected\")\n",
    "plt.ylabel(\"Mean test accuracy\")\n",
    "plt.errorbar(\n",
    "    range(min_features_to_select, n_scores + min_features_to_select),\n",
    "    rfecv.cv_results_[\"mean_test_score\"],\n",
    "    yerr=rfecv.cv_results_[\"std_test_score\"],\n",
    ")\n",
    "plt.title(\"Recursive Feature Elimination \\nwith correlated features\")\n",
    "plt.show()"
   ]
  },
  {
   "cell_type": "code",
   "execution_count": 73,
   "metadata": {},
   "outputs": [],
   "source": [
    "final_columns=rfecv.get_feature_names_out()\n",
    "final_columns_train=np.append(np.array([\"ID\"]),final_columns)\n",
    "final_columns_train=np.append(final_columns_train,np.array([\"RATE\"]))\n",
    "final_columns_test=np.append(np.array([\"ID\"]),final_columns)\n",
    "final_train=result_df_train.loc[:,final_columns_train]\n",
    "final_test=result_df_test.loc[:,final_columns_test]"
   ]
  },
  {
   "cell_type": "markdown",
   "metadata": {},
   "source": [
    "# Exportación de datos"
   ]
  },
  {
   "cell_type": "code",
   "execution_count": null,
   "metadata": {},
   "outputs": [],
   "source": []
  },
  {
   "cell_type": "code",
   "execution_count": 74,
   "metadata": {},
   "outputs": [],
   "source": [
    "result_df_train['X25'] = result_df_train['X25'].astype('int')\n",
    "result_df_train['X30'] = result_df_train['X30'].astype('int')\n",
    "result_df_test['X25'] = result_df_test['X25'].astype('int')\n",
    "result_df_test['X30'] = result_df_test['X30'].astype('int')"
   ]
  },
  {
   "cell_type": "code",
   "execution_count": 75,
   "metadata": {},
   "outputs": [],
   "source": [
    "final_train['X25'] = final_train['X25'].astype('int')\n",
    "final_train['X30'] = final_train['X30'].astype('int')\n",
    "final_test['X25'] = final_test['X25'].astype('int')\n",
    "final_test['X30'] = final_test['X30'].astype('int')"
   ]
  },
  {
   "cell_type": "code",
   "execution_count": null,
   "metadata": {},
   "outputs": [],
   "source": []
  },
  {
   "cell_type": "code",
   "execution_count": 76,
   "metadata": {},
   "outputs": [],
   "source": [
    "result_df_train.to_csv('../data_preprocess/train_preprocess.csv', index=False)\n",
    "result_df_test.to_csv('../data_preprocess/test_preprocess.csv', index=False)"
   ]
  },
  {
   "cell_type": "code",
   "execution_count": 77,
   "metadata": {},
   "outputs": [],
   "source": [
    "final_train.to_csv('../data_preprocess/train_preprocess.csv', index=False)\n",
    "final_test.to_csv('../data_preprocess/test_preprocess.csv', index=False)"
   ]
  }
 ],
 "metadata": {
  "kernelspec": {
   "display_name": "Python 3.10.12 64-bit",
   "language": "python",
   "name": "python3"
  },
  "language_info": {
   "codemirror_mode": {
    "name": "ipython",
    "version": 3
   },
   "file_extension": ".py",
   "mimetype": "text/x-python",
   "name": "python",
   "nbconvert_exporter": "python",
   "pygments_lexer": "ipython3",
   "version": "3.10.12"
  },
  "orig_nbformat": 4,
  "vscode": {
   "interpreter": {
    "hash": "916dbcbb3f70747c44a77c7bcd40155683ae19c65e1c03b4aa3499c5328201f1"
   }
  }
 },
 "nbformat": 4,
 "nbformat_minor": 2
}
