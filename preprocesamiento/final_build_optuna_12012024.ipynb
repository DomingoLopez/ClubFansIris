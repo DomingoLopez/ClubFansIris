{
 "cells": [
  {
   "cell_type": "code",
   "execution_count": 103,
   "metadata": {},
   "outputs": [],
   "source": [
    "# Importaciones para manejo de datos y dataframes\n",
    "import numpy as np\n",
    "from numpy.random import seed\n",
    "import pandas as pd\n",
    "\n",
    "# Importaciones para manejo de archivos y llamadas al OS\n",
    "import os as os\n",
    "import warnings\n",
    "\n",
    "# Importaciones para manejo de gráficos\n",
    "import pylab as plt\n",
    "import seaborn as sns\n",
    "from matplotlib.colors import ListedColormap\n",
    "\n",
    "# Sklearn\n",
    "from sklearn.preprocessing import MinMaxScaler, StandardScaler, RobustScaler\n",
    "from sklearn.decomposition import PCA\n",
    "from sklearn.preprocessing import OrdinalEncoder, OneHotEncoder\n",
    "from sklearn.impute import KNNImputer\n",
    "from sklearn.neighbors import LocalOutlierFactor\n",
    "\n",
    "# Metemos un gridsearch\n",
    "from sklearn.model_selection import GridSearchCV\n",
    "from sklearn.model_selection import train_test_split\n",
    "from sklearn.neighbors import KNeighborsClassifier\n",
    "from sklearn.metrics import classification_report\n",
    "from sklearn.metrics import confusion_matrix\n",
    "from sklearn.metrics import accuracy_score\n",
    "from collections import Counter\n",
    "from sklearn.impute import SimpleImputer\n",
    "from sklearn.feature_selection import SelectFromModel\n",
    "\n",
    "\n",
    "from imblearn.over_sampling import SMOTE\n",
    "from imblearn.under_sampling import RandomUnderSampler\n",
    "from imblearn.pipeline import Pipeline\n",
    "from sklearn.feature_selection import SequentialFeatureSelector,VarianceThreshold\n",
    "from sklearn.ensemble import RandomForestClassifier, ExtraTreesClassifier\n",
    "from sklearn.feature_selection import SelectKBest, chi2, SelectPercentile\n",
    "# Según el criterio chi-squared dustribution for it to have three features\n",
    "from sklearn.svm import SVC\n",
    "from sklearn.feature_selection import RFE\n",
    "from imblearn.under_sampling import RandomUnderSampler\n",
    "from imblearn.over_sampling import RandomOverSampler\n",
    "\n",
    "from imblearn.over_sampling import SMOTE\n",
    "from sklearn.ensemble import IsolationForest\n",
    "from sklearn import datasets, cluster\n",
    "\n",
    "\n",
    "# No mostrar warnings de versiones anteriores\n",
    "warnings.filterwarnings('ignore')"
   ]
  },
  {
   "cell_type": "code",
   "execution_count": 104,
   "metadata": {},
   "outputs": [],
   "source": [
    "# EJEMPLO CON OPTUNA MUY CHULO: https://medium.com/@walter_sperat/using-optuna-with-sklearn-the-right-way-part-1-6b4ad0ab2451\n",
    "\n",
    "# Cargamos csv con los datos de train\n",
    "df_train = pd.read_csv(\"../data_raw/training_data.csv\", sep=\",\", header=0, na_values=['?', '', 'NA'])\n",
    "# Cargamos csv con los datos de test\n",
    "df_test = pd.read_csv(\"../data_raw/test_data.csv\", sep=\",\", header=0, na_values=['?', '', 'NA'])"
   ]
  },
  {
   "cell_type": "code",
   "execution_count": 105,
   "metadata": {},
   "outputs": [],
   "source": [
    "## ENCODING\n",
    "\n",
    "df_train_num = df_train.copy()\n",
    "df_test_num = df_test.copy()\n",
    "\n",
    "# 1. \"OrdinalEncoder\" para X24\n",
    "orden_x24 = ['VLOW', 'LOW', 'MED', 'HIGH', 'VHIGH']\n",
    "\n",
    "ordinal_encoder_x24 = OrdinalEncoder(categories=[orden_x24], dtype=int)\n",
    "\n",
    "df_train_num['X24'] = ordinal_encoder_x24.fit_transform(df_train_num[['X24']])\n",
    "df_test_num['X24'] = ordinal_encoder_x24.transform(df_test_num[['X24']])\n",
    "\n",
    "# 2. \"OrdinalEncoder\" para X25\n",
    "orden_x25 = ['NO', 'YES']\n",
    "\n",
    "ordinal_encoder_x25 = OrdinalEncoder(categories=[orden_x25], dtype=int)\n",
    "\n",
    "df_train_num['X25'] = ordinal_encoder_x25.fit_transform(df_train_num[['X25']])\n",
    "df_test_num['X25'] = ordinal_encoder_x25.transform(df_test_num[['X25']])\n",
    "\n",
    "# Si es VTKGN 1 else 0\n",
    "# Ya que la la clase está muy desbalanceada\n",
    "df_train_encoded = df_train_num.copy()\n",
    "df_test_encoded = df_test_num.copy()\n",
    "\n",
    "df_train_encoded.loc[df_train_num['X30'] == 'VTKGN', 'X30'] = 1\n",
    "df_train_encoded.loc[df_train_num['X30'] != 'VTKGN', 'X30'] = 0\n",
    "\n",
    "df_test_encoded.loc[df_test_num['X30'] == 'VTKGN', 'X30'] = 1\n",
    "df_test_encoded.loc[df_test_num['X30'] != 'VTKGN', 'X30'] = 0\n",
    "\n",
    "df_train_encoded['X30'] = pd.to_numeric(df_train_encoded['X30'])\n",
    "df_test_encoded['X30'] = pd.to_numeric(df_train_encoded['X30']) \n"
   ]
  },
  {
   "cell_type": "code",
   "execution_count": 106,
   "metadata": {},
   "outputs": [],
   "source": [
    "# df_train_encoded\n",
    "# df_test_encoded"
   ]
  },
  {
   "cell_type": "code",
   "execution_count": 107,
   "metadata": {},
   "outputs": [],
   "source": [
    "## PREPROCESAMIENTO\n",
    "\n",
    "df_train = df_train_encoded\n",
    "df_test = df_test_encoded\n",
    "\n",
    "\n",
    "# Preprocesamiento para TRAIN\n",
    "df_final_train = df_train.drop(['ID','RATE'], axis=1, inplace=False)\n",
    "train_ID = df_train['ID'].copy()\n",
    "train_RATE = df_train['RATE'].copy()\n",
    "\n",
    "# Preprocesamiento para TEST\n",
    "df_final_test = df_test.drop('ID', axis=1, inplace=False)\n",
    "test_ID = df_test['ID'].copy()\n",
    "\n"
   ]
  },
  {
   "cell_type": "code",
   "execution_count": 108,
   "metadata": {},
   "outputs": [
    {
     "data": {
      "text/plain": [
       "<Axes: xlabel='column', ylabel='value'>"
      ]
     },
     "execution_count": 108,
     "metadata": {},
     "output_type": "execute_result"
    },
    {
     "data": {
      "image/png": "[encoded data removed]",
      "text/plain": [
       "<Figure size 1900x600 with 1 Axes>"
      ]
     },
     "metadata": {},
     "output_type": "display_data"
    }
   ],
   "source": [
    "\n",
    "df_train_copy = df_final_train.copy()\n",
    "df_test_copy = df_final_test.copy()\n",
    "\n",
    "# Escala raíz cuadrada a las que se dispersan mucho\n",
    "df_train_copy[['X1','X2','X3','X4','X5','X6','X7','X10','X11']] = np.sqrt(df_train_copy[['X1','X2','X3','X4','X5','X6','X7','X10','X11']])\n",
    "df_test_copy[['X1','X2','X3','X4','X5','X6','X7','X10','X11']] = np.sqrt(df_test_copy[['X1','X2','X3','X4','X5','X6','X7','X10','X11']])\n",
    "\n",
    "\n",
    "df_melted = df_train_copy.melt(var_name='column')\n",
    "\n",
    "plt.figure(figsize=(19,6))\n",
    "sns.boxplot(data=df_melted, color=\"#3BA3EC\", x=\"column\", y=\"value\")"
   ]
  },
  {
   "cell_type": "code",
   "execution_count": 109,
   "metadata": {},
   "outputs": [],
   "source": [
    "# df_train_copy\n",
    "# df_test_copy"
   ]
  },
  {
   "cell_type": "code",
   "execution_count": 110,
   "metadata": {},
   "outputs": [],
   "source": [
    "#1. Quitar outliers\n",
    "\n",
    "modelo_isof = IsolationForest(\n",
    "                n_estimators  = 1000,\n",
    "                max_samples   ='auto',\n",
    "                contamination = 0.1,\n",
    "                n_jobs        = -1,\n",
    "                random_state  = 123,\n",
    "            )\n",
    "\n",
    "df_no_na = df_train_copy.dropna(axis=0, inplace=False)\n",
    "\n",
    "modelo_isof.fit(X=df_no_na)\n",
    "clasificacion_predicha = modelo_isof.predict(X=df_no_na)\n",
    "clasificacion_predicha\n",
    "\n",
    "df_no_na['clasificacion_predicha'] = clasificacion_predicha\n",
    "indices_outliers = df_no_na.index[df_no_na['clasificacion_predicha'] == -1].tolist()\n",
    "\n",
    "indices_outliers\n",
    "\n",
    "df_no_outliers = df_train_copy.drop(index=indices_outliers)\n",
    "\n",
    "# Ahora, imputo sobre el dataset sin outliers\n",
    "imp_train = KNNImputer(n_neighbors=5).fit(df_no_outliers)\n",
    "df_train_imp = pd.DataFrame(imp_train.transform(df_train_copy), columns=df_train_copy.columns, index=df_train_copy.index)\n",
    "\n",
    "# imp_train = SimpleImputer(missing_values=np.nan, strategy='median').fit(df_no_outliers) #most_frequent\n",
    "# df_train_imp = pd.DataFrame(imp_train.transform(df_train_copy), columns=df_train_copy.columns, index=df_train_copy.index)\n",
    "\n",
    "# Hago lo mismo para test\n",
    "\n",
    "modelo_isof_test = IsolationForest(\n",
    "                n_estimators  = 1000,\n",
    "                max_samples   ='auto',\n",
    "                contamination = 0.1,\n",
    "                n_jobs        = -1,\n",
    "                random_state  = 123,\n",
    "            )\n",
    "\n",
    "df_no_na_test = df_test_copy.dropna(axis=0, inplace=False)\n",
    "\n",
    "modelo_isof_test.fit(X=df_no_na_test)\n",
    "clasificacion_predicha = modelo_isof_test.predict(X=df_no_na_test)\n",
    "clasificacion_predicha\n",
    "\n",
    "df_no_na_test['clasificacion_predicha'] = clasificacion_predicha\n",
    "indices_outliers = df_no_na_test.index[df_no_na_test['clasificacion_predicha'] == -1].tolist()\n",
    "\n",
    "indices_outliers\n",
    "\n",
    "df_no_outliers_test = df_test_copy.drop(index=indices_outliers)\n",
    "\n",
    "\n",
    "imp_test = KNNImputer(n_neighbors=5).fit(df_no_outliers_test)\n",
    "df_test_imp = pd.DataFrame(imp_test.transform(df_test_copy), columns=df_test_copy.columns, index=df_test_copy.index)\n",
    "\n",
    "#Imputamos con mediana\n",
    "\n",
    "# imp_test = SimpleImputer(missing_values=np.nan, strategy='median').fit(df_no_outliers_test)\n",
    "# df_test_imp = pd.DataFrame(imp_test.transform(df_test_copy), columns=df_test_copy.columns, index=df_test_copy.index)\n",
    "\n"
   ]
  },
  {
   "cell_type": "code",
   "execution_count": 111,
   "metadata": {},
   "outputs": [],
   "source": [
    "# df_train_imp\n",
    "# df_test_imp"
   ]
  },
  {
   "cell_type": "code",
   "execution_count": 112,
   "metadata": {},
   "outputs": [],
   "source": [
    "# # 4. Escalamos\n",
    "scaler = StandardScaler()\n",
    "df_scaled = scaler.fit_transform(df_train_imp.to_numpy())\n",
    "df_scaled = pd.DataFrame(df_scaled,index=df_train_imp.index, columns=[df_train_imp.columns])\n",
    "\n",
    "df_scaled_test = scaler.transform(df_test_imp.to_numpy())\n",
    "df_scaled_test = pd.DataFrame(df_scaled_test,index=df_test_imp.index, columns=[df_test_imp.columns])\n",
    "\n",
    "\n",
    "# # 5. Componemos las columnas\n",
    "columns = ['ID']\n",
    "columns = np.append(columns, df_train_copy.columns)\n",
    "columns = np.append(columns, 'RATE')\n",
    "\n",
    "result_df_train = pd.merge(train_ID, df_scaled, left_index=True, right_index=True)\n",
    "result_df_train = pd.merge(result_df_train, train_RATE, left_index=True, right_index=True)\n",
    "result_df_train.columns = columns\n",
    "\n",
    "columns = ['ID']\n",
    "columns = np.append(columns, df_test_copy.columns)\n",
    "\n",
    "result_df_test = pd.merge(test_ID, df_scaled_test, left_index=True, right_index=True)\n",
    "result_df_test.columns = columns\n",
    "  "
   ]
  },
  {
   "cell_type": "code",
   "execution_count": 113,
   "metadata": {},
   "outputs": [],
   "source": [
    "# result_df_train\n",
    "# result_df_test"
   ]
  },
  {
   "cell_type": "code",
   "execution_count": 137,
   "metadata": {},
   "outputs": [],
   "source": [
    "# PROBANDO OPTUNA\n",
    "import pickle\n",
    "import optuna\n",
    "from sklearn.preprocessing import StandardScaler, MinMaxScaler, KBinsDiscretizer, Normalizer, QuantileTransformer, PowerTransformer\n",
    "from sklearn.feature_selection import SelectKBest, SelectPercentile, f_classif\n",
    "from sklearn.model_selection import cross_val_score\n",
    "from sklearn.model_selection import StratifiedKFold\n",
    "from tabulate import tabulate\n",
    "from imblearn.under_sampling import NearMiss\n",
    "from imblearn.over_sampling import SMOTE\n",
    "import datetime\n",
    "\n",
    "# Funciones individuales\n",
    "\n",
    "def feature_top(X_train_in, y_train_in, X_val_in, X_test_in, k, type):\n",
    "    \n",
    "    match type:\n",
    "        case 'tree':\n",
    "            # Extracción de características\n",
    "            clf = ExtraTreesClassifier(n_estimators=100)\n",
    "            clf = clf.fit(X_train_in, y_train_in)\n",
    "\n",
    "            model = SelectFromModel(clf, prefit=True, threshold=-np.inf, max_features=k)\n",
    "            X_reduced = model.transform(X_train_in)\n",
    "\n",
    "            selected_columns = X_train_in.columns[model.get_support()]\n",
    "            X_train_out = pd.DataFrame(data=X_reduced, columns=selected_columns)\n",
    "\n",
    "            X_val_out = X_val_in[selected_columns]\n",
    "            X_test_out = X_test_in[selected_columns]\n",
    "\n",
    "\n",
    "        case 'rf':\n",
    "            \n",
    "            clf = RandomForestClassifier(n_estimators = 200)\n",
    "            clf.fit(X_train_in, y_train_in)\n",
    "        \n",
    "            model = SelectFromModel(clf, prefit=True, threshold=-np.inf, max_features=k)\n",
    "            X_reduced = model.transform(X_train_in)\n",
    "\n",
    "            selected_columns = X_train_in.columns[model.get_support()]\n",
    "            \n",
    "            X_train_out = pd.DataFrame(data=X_reduced, columns=selected_columns)\n",
    "            X_val_out = X_val_in[selected_columns]\n",
    "            X_test_out = X_test_in[selected_columns]\n",
    "\n",
    "\n",
    "        case 'agglo':\n",
    "            agglo = cluster.FeatureAgglomeration(n_clusters=k)\n",
    "            agglo.fit(X_train_in)\n",
    "            X_reduced = agglo.transform(X_train_in)\n",
    "            \n",
    "            cols = X_reduced.shape[1]\n",
    "            selected_columns = [f\"X{i+1}\" for i in range(cols)]\n",
    "            X_train_out = pd.DataFrame(data=X_reduced, columns=selected_columns)\n",
    "            X_val_out   = pd.DataFrame(agglo.transform(X_val_in), columns=selected_columns)\n",
    "            X_test_out  = pd.DataFrame(agglo.transform(X_test_in), columns=selected_columns)\n",
    "            \n",
    "            \n",
    "        case 'kbest':\n",
    "            fs = SelectKBest(score_func=f_classif, k=k)\n",
    "\n",
    "            X_train_out = pd.DataFrame(fs.fit_transform(X_train_in, y_train_in))\n",
    "            X_val_out   = pd.DataFrame(fs.transform(X_val_in))\n",
    "            X_test_out  = pd.DataFrame(fs.transform(X_test_in))\n",
    "\n",
    "    return X_train_out, X_val_out, X_test_out\n",
    "\n",
    "def feature_perc(X_train_in, y_train_in, X_val_in, X_test_in, percent):\n",
    "    fs = SelectPercentile(score_func=f_classif, percentile=percent)\n",
    "\n",
    "    X_train_out = pd.DataFrame(fs.fit_transform(X_train_in, y_train_in))\n",
    "    X_val_out   = pd.DataFrame(fs.transform(X_val_in))\n",
    "    X_test_out  = pd.DataFrame(fs.transform(X_test_in))\n",
    "\n",
    "    return X_train_out, X_val_out, X_test_out\n",
    "\n",
    "def get_collinear_features(x, threshold):\n",
    "    '''\n",
    "    Objective:\n",
    "        Remove collinear features in a dataframe with a correlation coefficient\n",
    "        greater than the threshold. Removing collinear features can help a model \n",
    "        to generalize and improves the interpretability of the model.\n",
    "\n",
    "    Inputs: \n",
    "        x: features dataframe\n",
    "        threshold: features with correlations greater than this value are removed\n",
    "\n",
    "    Output: \n",
    "        dataframe that contains only the non-highly-collinear features\n",
    "    '''\n",
    "\n",
    "    # Calculate the correlation matrix\n",
    "    corr_matrix = x.corr()\n",
    "    iters = range(len(corr_matrix.columns) - 1)\n",
    "    drop_cols = []\n",
    "\n",
    "    # Iterate through the correlation matrix and compare correlations\n",
    "    for i in iters:\n",
    "        for j in range(i+1):\n",
    "            item = corr_matrix.iloc[j:(j+1), (i+1):(i+2)]\n",
    "            col = item.columns\n",
    "            row = item.index\n",
    "            val = abs(item.values)\n",
    "\n",
    "            # If correlation exceeds the threshold\n",
    "            if val >= threshold:\n",
    "                # Print the correlated features and the correlation value\n",
    "                # print(col.values[0], \"|\", row.values[0], \"|\", round(val[0][0], 2))\n",
    "                drop_cols.append(col.values[0])\n",
    "\n",
    "    # Drop one of each pair of correlated columns\n",
    "    drops = set(drop_cols)\n",
    "    # print('Correlated Columns are: {}'.format(sorted(drops)))\n",
    "    return drops\n",
    "\n",
    "def delete_corr(X_train_in, X_val_in, X_test_in, corr_val):\n",
    "    collinear_cols = get_collinear_features(X_train_in, corr_val)\n",
    "    X_train_out = X_train_in.drop(columns=collinear_cols)\n",
    "    X_val_out   = X_val_in.drop(columns=collinear_cols)\n",
    "    X_test_out  = X_test_in.drop(columns=collinear_cols)\n",
    "\n",
    "    return X_train_out, X_val_out, X_test_out\n",
    "\n",
    "def down_sample(X_train_in, y_train_in,neigh):\n",
    "    X_train_out, y_train_out = NearMiss(version=2, n_neighbors_ver3=neigh).fit_resample(X_train_in, y_train_in)\n",
    "    #X_train_out, y_train_out = RandomUnderSampler(random_state=0,sampling_strategy='majority').fit_resample(X_train_in, y_train_in)\n",
    "\n",
    "    return X_train_out, y_train_out\n",
    "\n",
    "def up_sample(X_train_in, y_train_in, neigh):\n",
    "    sm = SMOTE(random_state=16, k_neighbors=neigh)\n",
    "    X_train_out, y_train_out = sm.fit_resample(X_train_in, y_train_in)\n",
    "\n",
    "    return X_train_out, y_train_out\n",
    "\n",
    "\n",
    "def up_down_sample(X_train_in, y_train_in, neigh, clase_a, clase_b, clase_c, clase_d, res_alg_typ):\n",
    "    \n",
    "    if(res_alg_typ == \"random\"):\n",
    "        over = SMOTE(sampling_strategy = {'A': clase_a}, k_neighbors=neigh, random_state=16)\n",
    "        under = RandomUnderSampler(sampling_strategy = {'B': clase_b, 'C':clase_c, 'D':clase_d})\n",
    "        \n",
    "        steps = [('o',over), ('u', under)]\n",
    "        pipeline = Pipeline(steps=steps)\n",
    "\n",
    "        X_train_out, y_train_out = pipeline.fit_resample(X_train_in, y_train_in)\n",
    "    else:\n",
    "        over = SMOTE(sampling_strategy = {'A': clase_a}, k_neighbors=neigh, random_state=16)\n",
    "        under = NearMiss(version=2, n_neighbors_ver3=neigh)\n",
    "        \n",
    "        steps = [('o',over), ('u', under)]\n",
    "        pipeline = Pipeline(steps=steps)\n",
    "\n",
    "        X_train_out, y_train_out = pipeline.fit_resample(X_train_in, y_train_in)\n",
    "    \n",
    "    return X_train_out, y_train_out\n",
    "\n",
    "\n",
    "\n",
    "def knn_stats(results, show_cf = True):\n",
    "    \n",
    "    header = [\"Variant\", \"F1 Score\", \"Train Acc\", \"Test Acc\", \"Parameters\"]\n",
    "    body = []\n",
    "    matrices = []\n",
    "\n",
    "    for m in results:\n",
    "        body.append([m, results[m][\"val_stats\"][\"macro avg\"][\"f1-score\"], results[m][\"train_stats\"][\"accuracy\"] * 100, results[m][\"val_stats\"][\"accuracy\"] * 100, results[m][\"params\"]])\n",
    "        matrices.append(results[m][\"val_conf\"])\n",
    "    print(tabulate(body, headers=header, floatfmt=\".4f\"))\n",
    "\n",
    "    if(show_cf):\n",
    "        fig, axes = plt.subplots(nrows=1, ncols=len(matrices), figsize=(18, 4))\n",
    "\n",
    "        tick_labels = [\"A\", \"B\", \"C\", \"D\"]\n",
    "\n",
    "        if(len(matrices) > 1):\n",
    "            axes = axes.flatten()\n",
    "        else:\n",
    "            curr_ax = axes\n",
    "\n",
    "        for i, model in enumerate(results):\n",
    "            if(len(matrices) > 1):\n",
    "                curr_ax = axes[i]\n",
    "\n",
    "            sns.heatmap(matrices[i], ax=curr_ax, annot=True, xticklabels=tick_labels, yticklabels=tick_labels)\n",
    "            curr_ax.title.set_text(model)\n",
    "            curr_ax.set_xlabel(\"Predicted\") \n",
    "            curr_ax.set_ylabel(\"Real\") \n",
    "\n",
    "        plt.tight_layout()\n",
    "        plt.show()\n",
    "\n",
    "\n",
    "def to_kaggle(pred, id, path=\".\", fname=\"kaggle_out\"):\n",
    "    kaggle_dict = {\"ID\" : id, \"RATE\" : pred}\n",
    "    pd.DataFrame(data=kaggle_dict).to_csv(\"{}/{}.csv\".format(path, fname), index=False)\n",
    "\n",
    "def get_kaggle_pred(model, data, id, path=\".\", fname=\"kaggle_out\"):\n",
    "    model_pred = model.predict(data)\n",
    "    to_kaggle(model_pred, id, path=path, fname=fname)\n",
    "\n",
    "\n",
    "class TuningParams:\n",
    "    def __init__(self, X_data, y_data, X_test) -> None:\n",
    "        self.X_train, self.X_val, self.y_train, self.y_val = train_test_split(X_data, \n",
    "                                                            y_data, \n",
    "                                                            test_size=0.3, \n",
    "                                                            random_state=16,\n",
    "                                                            shuffle=True)\n",
    "        self.X_test = X_test.drop(columns=[\"ID\"])\n",
    "        self.X_test_ids = X_test[\"ID\"]\n",
    "        self.trial = {}\n",
    "\n",
    "\n",
    "\n",
    "    def objective_function(self, trial):\n",
    "        X_train = self.X_train\n",
    "        y_train = self.y_train\n",
    "        X_val   = self.X_val\n",
    "        y_val   = self.y_val\n",
    "        X_test  = self.X_test\n",
    "\n",
    "        # Feature Selection\n",
    "        do_feat_sel = trial.suggest_categorical(\"feature_selection\", [True, False])\n",
    "\n",
    "        if(do_feat_sel):\n",
    "            #sel_type = trial.suggest_categorical(\"feat_sel_type\", [\"top\", \"perc\"])\n",
    "            sel_type = trial.suggest_categorical(\"feat_sel_type\", [\"top\"])\n",
    "            sel_model_type = trial.suggest_categorical(\"feat_sel_model\", [\"tree\", \"rf\",\"agglo\",\"kbest\"])\n",
    "                \n",
    "            if(sel_type == \"top\"):\n",
    "                best_k = trial.suggest_int(\"top_k\", 5, 35)\n",
    "                X_train, X_val, X_test = feature_top(X_train, y_train, X_val, X_test, best_k, sel_model_type)\n",
    "            else:\n",
    "                best_k = trial.suggest_int(\"perc\", 5, 35)\n",
    "                X_train, X_val, X_test = feature_perc(X_train, y_train, X_val, X_test, best_k)\n",
    "           \n",
    "\n",
    "\n",
    "        # Correlated Columns\n",
    "        delete_correlated = trial.suggest_categorical(\"delete_correlated\", [True, False])\n",
    "        if(delete_correlated):\n",
    "            corr_val = trial.suggest_float(\"corr_value\", 0.5, 0.8)\n",
    "            X_train, X_val, X_test = delete_corr(X_train, X_val, X_test, corr_val)\n",
    "        \n",
    "\n",
    "        # Under/Oversampling\n",
    "        do_resampling = trial.suggest_categorical(\"resample\", [True, False])\n",
    "\n",
    "        if(do_resampling):\n",
    "            \n",
    "            kind = trial.suggest_categorical(\"kind\", [\"up\", \"down\", \"up_down\"])\n",
    "            if(kind == \"up\"):\n",
    "                neigs = trial.suggest_int(\"up_neighs\", 2, 33)\n",
    "                X_train, y_train = up_sample(X_train, y_train, neigs)\n",
    "            if(kind == \"up_down\"):    # [('A', 47), ('B', 245), ('C', 149), ('D', 129)]\n",
    "                res_alg_type = trial.suggest_categorical(\"res_alg_typ\", [\"random\", \"near\"])\n",
    "                neigs = trial.suggest_int(\"up_neighs\", 2, 33)\n",
    "                clase_a = trial.suggest_int(\"clase_a\", 70, 150)\n",
    "                clase_b = trial.suggest_int(\"clase_b\", 70, 150)\n",
    "                clase_c = trial.suggest_int(\"clase_c\", 70, 100)\n",
    "                clase_d = trial.suggest_int(\"clase_d\", 70, 100)\n",
    "                X_train, y_train = up_down_sample(X_train, y_train, neigs, clase_a, clase_b, clase_c, clase_d, res_alg_type)\n",
    "            else:\n",
    "                # sampling_strat = trial.suggest_categorical('A', [\"60\", \"70\"])\n",
    "                neigs = trial.suggest_int(\"up_neighs\", 2, 33)\n",
    "                X_train, y_train = down_sample(X_train, y_train,neigs)\n",
    "\n",
    "\n",
    "        try:                                 \n",
    "            algo = trial.suggest_categorical(\"algorithm\", ['ball_tree', 'kd_tree', 'brute', 'auto'])     \n",
    "            n_neighbors = trial.suggest_int(\"n_neighbors\", 1, 33)\n",
    "            weights = trial.suggest_categorical(\"weights\", ['uniform', 'distance'])\n",
    "            metric = trial.suggest_categorical(\"metric\", ['euclidean', 'manhattan', 'minkowski','chebyshev'])\n",
    "\n",
    "            model = KNeighborsClassifier(n_neighbors=n_neighbors, weights=weights, metric=metric, algorithm=algo)\n",
    "            # grid = {\n",
    "            #     'n_neighbors':n_neighbors, \n",
    "            #     'weights':weights, \n",
    "            #     'metric':metric, \n",
    "            #     'algorithm':algo\n",
    "            # }\n",
    "            # model = KNeighborsClassifier()\n",
    "            # model = GridSearchCV(knn,param_grid=grid,cv=10) #GridSearchCV\n",
    "        \n",
    "            y_train_pred = model.fit(X_train, y_train).predict(X_train)\n",
    "            y_val_pred   = model.predict(X_val)\n",
    "            y_test_pred  = model.predict(X_test)\n",
    "\n",
    "        except Exception as e: \n",
    "            print(e)\n",
    "            return -1\n",
    "\n",
    "        self.trial[trial.number] = {}\n",
    "        self.trial[trial.number][\"train_stats\"] = classification_report(y_train, y_train_pred, output_dict=True, zero_division=0)\n",
    "        self.trial[trial.number][\"val_stats\"]   = classification_report(y_val, y_val_pred, output_dict=True, zero_division=0)\n",
    "        self.trial[trial.number][\"val_conf\"]    = confusion_matrix(y_val, y_val_pred)\n",
    "        self.trial[trial.number][\"train_pred\"]  = y_train_pred\n",
    "        self.trial[trial.number][\"val_pred\"]    = y_val_pred\n",
    "        self.trial[trial.number][\"test_pred\"]   = y_test_pred\n",
    "        self.trial[trial.number][\"model\"]       = model\n",
    "        \n",
    "        act_acc = self.trial[trial.number][\"val_stats\"][\"accuracy\"]\n",
    "        act_f1  = self.trial[trial.number][\"val_stats\"][\"macro avg\"][\"f1-score\"]\n",
    "\n",
    "        fitness = np.mean([act_acc, act_f1])\n",
    "\n",
    "        self.trial[trial.number][\"fitness\"] = fitness\n",
    "\n",
    "        return fitness\n",
    "\n",
    "    def get_trial_test(self, num_trial):\n",
    "        return self.trial[num_trial]\n",
    "\n",
    "    def get_k_best_trials(self, study, k=5, save_kaggle=False, show_cf=True, path=\".\"):\n",
    "        trials = study.best_trials[:k]\n",
    "        results = {}\n",
    "        for t in trials:\n",
    "            act_name = \"{}__{}\".format(study.study_name, t.number)\n",
    "            act_result = self.get_trial_test(t.number)\n",
    "            act_result[\"params\"] = t.params\n",
    "\n",
    "            results[act_name] = act_result\n",
    "            if(save_kaggle):\n",
    "                self.trial_to_kaggle(act_result, path = path, fname = act_name)\n",
    "\n",
    "        knn_stats(results, show_cf=show_cf)\n",
    "        return results\n",
    "\n",
    "    def trial_to_kaggle(self, trial, path=\".\", fname = \"kaggle_out\"):\n",
    "        to_kaggle(trial[\"test_pred\"], self.X_test_ids, path=path, fname = fname)\n"
   ]
  },
  {
   "cell_type": "code",
   "execution_count": 138,
   "metadata": {},
   "outputs": [
    {
     "name": "stderr",
     "output_type": "stream",
     "text": [
      "[I 2024-01-12 14:57:59,464] A new study created in RDB with name: tuning__20240112-145759\n",
      "[I 2024-01-12 14:57:59,759] Trial 0 finished with value: -1.0 and parameters: {'feature_selection': False, 'delete_correlated': False, 'resample': False, 'algorithm': 'kd_tree', 'n_neighbors': 18, 'weights': 'uniform', 'metric': 'minkowski'}. Best is trial 0 with value: -1.0.\n"
     ]
    },
    {
     "name": "stdout",
     "output_type": "stream",
     "text": [
      "Parameter grid for parameter 'n_neighbors' needs to be a list or a numpy array, but got 18 (of type int) instead. Single values need to be wrapped in a list with one element.\n"
     ]
    },
    {
     "name": "stderr",
     "output_type": "stream",
     "text": [
      "[I 2024-01-12 14:58:00,297] Trial 1 finished with value: -1.0 and parameters: {'feature_selection': False, 'delete_correlated': True, 'corr_value': 0.6462263590612116, 'resample': False, 'algorithm': 'brute', 'n_neighbors': 31, 'weights': 'distance', 'metric': 'manhattan'}. Best is trial 0 with value: -1.0.\n"
     ]
    },
    {
     "name": "stdout",
     "output_type": "stream",
     "text": [
      "Parameter grid for parameter 'n_neighbors' needs to be a list or a numpy array, but got 31 (of type int) instead. Single values need to be wrapped in a list with one element.\n"
     ]
    },
    {
     "name": "stderr",
     "output_type": "stream",
     "text": [
      "[I 2024-01-12 14:58:00,735] Trial 2 finished with value: -1.0 and parameters: {'feature_selection': True, 'feat_sel_type': 'top', 'feat_sel_model': 'kbest', 'top_k': 24, 'delete_correlated': True, 'corr_value': 0.5925522260226515, 'resample': True, 'kind': 'up_down', 'res_alg_typ': 'near', 'up_neighs': 19, 'clase_a': 98, 'clase_b': 96, 'clase_c': 81, 'clase_d': 75, 'algorithm': 'brute', 'n_neighbors': 26, 'weights': 'uniform', 'metric': 'manhattan'}. Best is trial 0 with value: -1.0.\n"
     ]
    },
    {
     "name": "stdout",
     "output_type": "stream",
     "text": [
      "Parameter grid for parameter 'n_neighbors' needs to be a list or a numpy array, but got 26 (of type int) instead. Single values need to be wrapped in a list with one element.\n"
     ]
    },
    {
     "name": "stderr",
     "output_type": "stream",
     "text": [
      "[I 2024-01-12 14:58:00,973] Trial 3 finished with value: -1.0 and parameters: {'feature_selection': True, 'feat_sel_type': 'top', 'feat_sel_model': 'agglo', 'top_k': 20, 'delete_correlated': False, 'resample': False, 'algorithm': 'auto', 'n_neighbors': 6, 'weights': 'distance', 'metric': 'manhattan'}. Best is trial 0 with value: -1.0.\n"
     ]
    },
    {
     "name": "stdout",
     "output_type": "stream",
     "text": [
      "Parameter grid for parameter 'n_neighbors' needs to be a list or a numpy array, but got 6 (of type int) instead. Single values need to be wrapped in a list with one element.\n"
     ]
    },
    {
     "name": "stderr",
     "output_type": "stream",
     "text": [
      "[I 2024-01-12 14:58:01,387] Trial 4 finished with value: -1.0 and parameters: {'feature_selection': True, 'feat_sel_type': 'top', 'feat_sel_model': 'kbest', 'top_k': 31, 'delete_correlated': True, 'corr_value': 0.5301812424790285, 'resample': True, 'kind': 'up', 'up_neighs': 9, 'algorithm': 'kd_tree', 'n_neighbors': 4, 'weights': 'distance', 'metric': 'euclidean'}. Best is trial 0 with value: -1.0.\n"
     ]
    },
    {
     "name": "stdout",
     "output_type": "stream",
     "text": [
      "Parameter grid for parameter 'n_neighbors' needs to be a list or a numpy array, but got 4 (of type int) instead. Single values need to be wrapped in a list with one element.\n"
     ]
    },
    {
     "name": "stderr",
     "output_type": "stream",
     "text": [
      "[I 2024-01-12 14:58:01,746] Trial 5 finished with value: -1.0 and parameters: {'feature_selection': False, 'delete_correlated': True, 'corr_value': 0.5752705375618795, 'resample': True, 'kind': 'down', 'up_neighs': 8, 'algorithm': 'auto', 'n_neighbors': 27, 'weights': 'uniform', 'metric': 'chebyshev'}. Best is trial 0 with value: -1.0.\n",
      "[W 2024-01-12 14:58:01,881] Trial 6 failed with parameters: {'feature_selection': False, 'delete_correlated': True, 'corr_value': 0.7035950589220666} because of the following error: KeyboardInterrupt().\n",
      "Traceback (most recent call last):\n",
      "  File \"c:\\Python312\\Lib\\site-packages\\optuna\\study\\_optimize.py\", line 200, in _run_trial\n",
      "    value_or_values = func(trial)\n",
      "                      ^^^^^^^^^^^\n",
      "  File \"C:\\Users\\U971574\\AppData\\Local\\Temp\\ipykernel_2168\\2558383345.py\", line 245, in objective_function\n",
      "    X_train, X_val, X_test = delete_corr(X_train, X_val, X_test, corr_val)\n",
      "                             ^^^^^^^^^^^^^^^^^^^^^^^^^^^^^^^^^^^^^^^^^^^^^\n",
      "  File \"C:\\Users\\U971574\\AppData\\Local\\Temp\\ipykernel_2168\\2558383345.py\", line 118, in delete_corr\n",
      "    collinear_cols = get_collinear_features(X_train_in, corr_val)\n",
      "                     ^^^^^^^^^^^^^^^^^^^^^^^^^^^^^^^^^^^^^^^^^^^^\n",
      "  File \"C:\\Users\\U971574\\AppData\\Local\\Temp\\ipykernel_2168\\2558383345.py\", line 104, in get_collinear_features\n",
      "    val = abs(item.values)\n",
      "              ^^^^^^^^^^^\n",
      "  File \"c:\\Python312\\Lib\\site-packages\\pandas\\core\\frame.py\", line 12281, in values\n",
      "    return self._mgr.as_array()\n",
      "           ^^^^^^^^^^^^^^^^^^^^\n",
      "  File \"c:\\Python312\\Lib\\site-packages\\pandas\\core\\internals\\managers.py\", line 1650, in as_array\n",
      "    arr = np.array(blk.values, dtype=dtype, copy=copy)\n",
      "          ^^^^^^^^^^^^^^^^^^^^^^^^^^^^^^^^^^^^^^^^^^^^\n",
      "KeyboardInterrupt\n",
      "[W 2024-01-12 14:58:01,896] Trial 6 failed with value None.\n"
     ]
    },
    {
     "name": "stdout",
     "output_type": "stream",
     "text": [
      "Parameter grid for parameter 'n_neighbors' needs to be a list or a numpy array, but got 27 (of type int) instead. Single values need to be wrapped in a list with one element.\n"
     ]
    },
    {
     "ename": "KeyboardInterrupt",
     "evalue": "",
     "output_type": "error",
     "traceback": [
      "\u001b[1;31m---------------------------------------------------------------------------\u001b[0m",
      "\u001b[1;31mKeyboardInterrupt\u001b[0m                         Traceback (most recent call last)",
      "Cell \u001b[1;32mIn[138], line 12\u001b[0m\n\u001b[0;32m      9\u001b[0m BNTuning \u001b[38;5;241m=\u001b[39m TuningParams(df_credit_x, df_credit_y, df_test)\n\u001b[0;32m     10\u001b[0m study \u001b[38;5;241m=\u001b[39m optuna\u001b[38;5;241m.\u001b[39mcreate_study(direction\u001b[38;5;241m=\u001b[39m\u001b[38;5;124m\"\u001b[39m\u001b[38;5;124mmaximize\u001b[39m\u001b[38;5;124m\"\u001b[39m, study_name\u001b[38;5;241m=\u001b[39m\u001b[38;5;124m\"\u001b[39m\u001b[38;5;124mtuning__\u001b[39m\u001b[38;5;132;01m{}\u001b[39;00m\u001b[38;5;124m\"\u001b[39m\u001b[38;5;241m.\u001b[39mformat(datetime\u001b[38;5;241m.\u001b[39mdatetime\u001b[38;5;241m.\u001b[39mnow()\u001b[38;5;241m.\u001b[39mstrftime(\u001b[38;5;124m\"\u001b[39m\u001b[38;5;124m%\u001b[39m\u001b[38;5;124mY\u001b[39m\u001b[38;5;124m%\u001b[39m\u001b[38;5;124mm\u001b[39m\u001b[38;5;132;01m%d\u001b[39;00m\u001b[38;5;124m-\u001b[39m\u001b[38;5;124m%\u001b[39m\u001b[38;5;124mH\u001b[39m\u001b[38;5;124m%\u001b[39m\u001b[38;5;124mM\u001b[39m\u001b[38;5;124m%\u001b[39m\u001b[38;5;124mS\u001b[39m\u001b[38;5;124m\"\u001b[39m)), storage\u001b[38;5;241m=\u001b[39m\u001b[38;5;124m\"\u001b[39m\u001b[38;5;124msqlite:///db.sqlite3\u001b[39m\u001b[38;5;124m\"\u001b[39m)\n\u001b[1;32m---> 12\u001b[0m \u001b[43mstudy\u001b[49m\u001b[38;5;241;43m.\u001b[39;49m\u001b[43moptimize\u001b[49m\u001b[43m(\u001b[49m\u001b[43mBNTuning\u001b[49m\u001b[38;5;241;43m.\u001b[39;49m\u001b[43mobjective_function\u001b[49m\u001b[43m,\u001b[49m\u001b[43m \u001b[49m\u001b[43mn_trials\u001b[49m\u001b[38;5;241;43m=\u001b[39;49m\u001b[38;5;241;43m2000\u001b[39;49m\u001b[43m)\u001b[49m\n",
      "File \u001b[1;32mc:\\Python312\\Lib\\site-packages\\optuna\\study\\study.py:451\u001b[0m, in \u001b[0;36mStudy.optimize\u001b[1;34m(self, func, n_trials, timeout, n_jobs, catch, callbacks, gc_after_trial, show_progress_bar)\u001b[0m\n\u001b[0;32m    348\u001b[0m \u001b[38;5;28;01mdef\u001b[39;00m \u001b[38;5;21moptimize\u001b[39m(\n\u001b[0;32m    349\u001b[0m     \u001b[38;5;28mself\u001b[39m,\n\u001b[0;32m    350\u001b[0m     func: ObjectiveFuncType,\n\u001b[1;32m   (...)\u001b[0m\n\u001b[0;32m    357\u001b[0m     show_progress_bar: \u001b[38;5;28mbool\u001b[39m \u001b[38;5;241m=\u001b[39m \u001b[38;5;28;01mFalse\u001b[39;00m,\n\u001b[0;32m    358\u001b[0m ) \u001b[38;5;241m-\u001b[39m\u001b[38;5;241m>\u001b[39m \u001b[38;5;28;01mNone\u001b[39;00m:\n\u001b[0;32m    359\u001b[0m \u001b[38;5;250m    \u001b[39m\u001b[38;5;124;03m\"\"\"Optimize an objective function.\u001b[39;00m\n\u001b[0;32m    360\u001b[0m \n\u001b[0;32m    361\u001b[0m \u001b[38;5;124;03m    Optimization is done by choosing a suitable set of hyperparameter values from a given\u001b[39;00m\n\u001b[1;32m   (...)\u001b[0m\n\u001b[0;32m    449\u001b[0m \u001b[38;5;124;03m            If nested invocation of this method occurs.\u001b[39;00m\n\u001b[0;32m    450\u001b[0m \u001b[38;5;124;03m    \"\"\"\u001b[39;00m\n\u001b[1;32m--> 451\u001b[0m     \u001b[43m_optimize\u001b[49m\u001b[43m(\u001b[49m\n\u001b[0;32m    452\u001b[0m \u001b[43m        \u001b[49m\u001b[43mstudy\u001b[49m\u001b[38;5;241;43m=\u001b[39;49m\u001b[38;5;28;43mself\u001b[39;49m\u001b[43m,\u001b[49m\n\u001b[0;32m    453\u001b[0m \u001b[43m        \u001b[49m\u001b[43mfunc\u001b[49m\u001b[38;5;241;43m=\u001b[39;49m\u001b[43mfunc\u001b[49m\u001b[43m,\u001b[49m\n\u001b[0;32m    454\u001b[0m \u001b[43m        \u001b[49m\u001b[43mn_trials\u001b[49m\u001b[38;5;241;43m=\u001b[39;49m\u001b[43mn_trials\u001b[49m\u001b[43m,\u001b[49m\n\u001b[0;32m    455\u001b[0m \u001b[43m        \u001b[49m\u001b[43mtimeout\u001b[49m\u001b[38;5;241;43m=\u001b[39;49m\u001b[43mtimeout\u001b[49m\u001b[43m,\u001b[49m\n\u001b[0;32m    456\u001b[0m \u001b[43m        \u001b[49m\u001b[43mn_jobs\u001b[49m\u001b[38;5;241;43m=\u001b[39;49m\u001b[43mn_jobs\u001b[49m\u001b[43m,\u001b[49m\n\u001b[0;32m    457\u001b[0m \u001b[43m        \u001b[49m\u001b[43mcatch\u001b[49m\u001b[38;5;241;43m=\u001b[39;49m\u001b[38;5;28;43mtuple\u001b[39;49m\u001b[43m(\u001b[49m\u001b[43mcatch\u001b[49m\u001b[43m)\u001b[49m\u001b[43m \u001b[49m\u001b[38;5;28;43;01mif\u001b[39;49;00m\u001b[43m \u001b[49m\u001b[38;5;28;43misinstance\u001b[39;49m\u001b[43m(\u001b[49m\u001b[43mcatch\u001b[49m\u001b[43m,\u001b[49m\u001b[43m \u001b[49m\u001b[43mIterable\u001b[49m\u001b[43m)\u001b[49m\u001b[43m \u001b[49m\u001b[38;5;28;43;01melse\u001b[39;49;00m\u001b[43m \u001b[49m\u001b[43m(\u001b[49m\u001b[43mcatch\u001b[49m\u001b[43m,\u001b[49m\u001b[43m)\u001b[49m\u001b[43m,\u001b[49m\n\u001b[0;32m    458\u001b[0m \u001b[43m        \u001b[49m\u001b[43mcallbacks\u001b[49m\u001b[38;5;241;43m=\u001b[39;49m\u001b[43mcallbacks\u001b[49m\u001b[43m,\u001b[49m\n\u001b[0;32m    459\u001b[0m \u001b[43m        \u001b[49m\u001b[43mgc_after_trial\u001b[49m\u001b[38;5;241;43m=\u001b[39;49m\u001b[43mgc_after_trial\u001b[49m\u001b[43m,\u001b[49m\n\u001b[0;32m    460\u001b[0m \u001b[43m        \u001b[49m\u001b[43mshow_progress_bar\u001b[49m\u001b[38;5;241;43m=\u001b[39;49m\u001b[43mshow_progress_bar\u001b[49m\u001b[43m,\u001b[49m\n\u001b[0;32m    461\u001b[0m \u001b[43m    \u001b[49m\u001b[43m)\u001b[49m\n",
      "File \u001b[1;32mc:\\Python312\\Lib\\site-packages\\optuna\\study\\_optimize.py:66\u001b[0m, in \u001b[0;36m_optimize\u001b[1;34m(study, func, n_trials, timeout, n_jobs, catch, callbacks, gc_after_trial, show_progress_bar)\u001b[0m\n\u001b[0;32m     64\u001b[0m \u001b[38;5;28;01mtry\u001b[39;00m:\n\u001b[0;32m     65\u001b[0m     \u001b[38;5;28;01mif\u001b[39;00m n_jobs \u001b[38;5;241m==\u001b[39m \u001b[38;5;241m1\u001b[39m:\n\u001b[1;32m---> 66\u001b[0m         \u001b[43m_optimize_sequential\u001b[49m\u001b[43m(\u001b[49m\n\u001b[0;32m     67\u001b[0m \u001b[43m            \u001b[49m\u001b[43mstudy\u001b[49m\u001b[43m,\u001b[49m\n\u001b[0;32m     68\u001b[0m \u001b[43m            \u001b[49m\u001b[43mfunc\u001b[49m\u001b[43m,\u001b[49m\n\u001b[0;32m     69\u001b[0m \u001b[43m            \u001b[49m\u001b[43mn_trials\u001b[49m\u001b[43m,\u001b[49m\n\u001b[0;32m     70\u001b[0m \u001b[43m            \u001b[49m\u001b[43mtimeout\u001b[49m\u001b[43m,\u001b[49m\n\u001b[0;32m     71\u001b[0m \u001b[43m            \u001b[49m\u001b[43mcatch\u001b[49m\u001b[43m,\u001b[49m\n\u001b[0;32m     72\u001b[0m \u001b[43m            \u001b[49m\u001b[43mcallbacks\u001b[49m\u001b[43m,\u001b[49m\n\u001b[0;32m     73\u001b[0m \u001b[43m            \u001b[49m\u001b[43mgc_after_trial\u001b[49m\u001b[43m,\u001b[49m\n\u001b[0;32m     74\u001b[0m \u001b[43m            \u001b[49m\u001b[43mreseed_sampler_rng\u001b[49m\u001b[38;5;241;43m=\u001b[39;49m\u001b[38;5;28;43;01mFalse\u001b[39;49;00m\u001b[43m,\u001b[49m\n\u001b[0;32m     75\u001b[0m \u001b[43m            \u001b[49m\u001b[43mtime_start\u001b[49m\u001b[38;5;241;43m=\u001b[39;49m\u001b[38;5;28;43;01mNone\u001b[39;49;00m\u001b[43m,\u001b[49m\n\u001b[0;32m     76\u001b[0m \u001b[43m            \u001b[49m\u001b[43mprogress_bar\u001b[49m\u001b[38;5;241;43m=\u001b[39;49m\u001b[43mprogress_bar\u001b[49m\u001b[43m,\u001b[49m\n\u001b[0;32m     77\u001b[0m \u001b[43m        \u001b[49m\u001b[43m)\u001b[49m\n\u001b[0;32m     78\u001b[0m     \u001b[38;5;28;01melse\u001b[39;00m:\n\u001b[0;32m     79\u001b[0m         \u001b[38;5;28;01mif\u001b[39;00m n_jobs \u001b[38;5;241m==\u001b[39m \u001b[38;5;241m-\u001b[39m\u001b[38;5;241m1\u001b[39m:\n",
      "File \u001b[1;32mc:\\Python312\\Lib\\site-packages\\optuna\\study\\_optimize.py:163\u001b[0m, in \u001b[0;36m_optimize_sequential\u001b[1;34m(study, func, n_trials, timeout, catch, callbacks, gc_after_trial, reseed_sampler_rng, time_start, progress_bar)\u001b[0m\n\u001b[0;32m    160\u001b[0m         \u001b[38;5;28;01mbreak\u001b[39;00m\n\u001b[0;32m    162\u001b[0m \u001b[38;5;28;01mtry\u001b[39;00m:\n\u001b[1;32m--> 163\u001b[0m     frozen_trial \u001b[38;5;241m=\u001b[39m \u001b[43m_run_trial\u001b[49m\u001b[43m(\u001b[49m\u001b[43mstudy\u001b[49m\u001b[43m,\u001b[49m\u001b[43m \u001b[49m\u001b[43mfunc\u001b[49m\u001b[43m,\u001b[49m\u001b[43m \u001b[49m\u001b[43mcatch\u001b[49m\u001b[43m)\u001b[49m\n\u001b[0;32m    164\u001b[0m \u001b[38;5;28;01mfinally\u001b[39;00m:\n\u001b[0;32m    165\u001b[0m     \u001b[38;5;66;03m# The following line mitigates memory problems that can be occurred in some\u001b[39;00m\n\u001b[0;32m    166\u001b[0m     \u001b[38;5;66;03m# environments (e.g., services that use computing containers such as GitHub Actions).\u001b[39;00m\n\u001b[0;32m    167\u001b[0m     \u001b[38;5;66;03m# Please refer to the following PR for further details:\u001b[39;00m\n\u001b[0;32m    168\u001b[0m     \u001b[38;5;66;03m# https://github.com/optuna/optuna/pull/325.\u001b[39;00m\n\u001b[0;32m    169\u001b[0m     \u001b[38;5;28;01mif\u001b[39;00m gc_after_trial:\n",
      "File \u001b[1;32mc:\\Python312\\Lib\\site-packages\\optuna\\study\\_optimize.py:251\u001b[0m, in \u001b[0;36m_run_trial\u001b[1;34m(study, func, catch)\u001b[0m\n\u001b[0;32m    244\u001b[0m         \u001b[38;5;28;01massert\u001b[39;00m \u001b[38;5;28;01mFalse\u001b[39;00m, \u001b[38;5;124m\"\u001b[39m\u001b[38;5;124mShould not reach.\u001b[39m\u001b[38;5;124m\"\u001b[39m\n\u001b[0;32m    246\u001b[0m \u001b[38;5;28;01mif\u001b[39;00m (\n\u001b[0;32m    247\u001b[0m     frozen_trial\u001b[38;5;241m.\u001b[39mstate \u001b[38;5;241m==\u001b[39m TrialState\u001b[38;5;241m.\u001b[39mFAIL\n\u001b[0;32m    248\u001b[0m     \u001b[38;5;129;01mand\u001b[39;00m func_err \u001b[38;5;129;01mis\u001b[39;00m \u001b[38;5;129;01mnot\u001b[39;00m \u001b[38;5;28;01mNone\u001b[39;00m\n\u001b[0;32m    249\u001b[0m     \u001b[38;5;129;01mand\u001b[39;00m \u001b[38;5;129;01mnot\u001b[39;00m \u001b[38;5;28misinstance\u001b[39m(func_err, catch)\n\u001b[0;32m    250\u001b[0m ):\n\u001b[1;32m--> 251\u001b[0m     \u001b[38;5;28;01mraise\u001b[39;00m func_err\n\u001b[0;32m    252\u001b[0m \u001b[38;5;28;01mreturn\u001b[39;00m frozen_trial\n",
      "File \u001b[1;32mc:\\Python312\\Lib\\site-packages\\optuna\\study\\_optimize.py:200\u001b[0m, in \u001b[0;36m_run_trial\u001b[1;34m(study, func, catch)\u001b[0m\n\u001b[0;32m    198\u001b[0m \u001b[38;5;28;01mwith\u001b[39;00m get_heartbeat_thread(trial\u001b[38;5;241m.\u001b[39m_trial_id, study\u001b[38;5;241m.\u001b[39m_storage):\n\u001b[0;32m    199\u001b[0m     \u001b[38;5;28;01mtry\u001b[39;00m:\n\u001b[1;32m--> 200\u001b[0m         value_or_values \u001b[38;5;241m=\u001b[39m \u001b[43mfunc\u001b[49m\u001b[43m(\u001b[49m\u001b[43mtrial\u001b[49m\u001b[43m)\u001b[49m\n\u001b[0;32m    201\u001b[0m     \u001b[38;5;28;01mexcept\u001b[39;00m exceptions\u001b[38;5;241m.\u001b[39mTrialPruned \u001b[38;5;28;01mas\u001b[39;00m e:\n\u001b[0;32m    202\u001b[0m         \u001b[38;5;66;03m# TODO(mamu): Handle multi-objective cases.\u001b[39;00m\n\u001b[0;32m    203\u001b[0m         state \u001b[38;5;241m=\u001b[39m TrialState\u001b[38;5;241m.\u001b[39mPRUNED\n",
      "Cell \u001b[1;32mIn[137], line 245\u001b[0m, in \u001b[0;36mTuningParams.objective_function\u001b[1;34m(self, trial)\u001b[0m\n\u001b[0;32m    243\u001b[0m \u001b[38;5;28;01mif\u001b[39;00m(delete_correlated):\n\u001b[0;32m    244\u001b[0m     corr_val \u001b[38;5;241m=\u001b[39m trial\u001b[38;5;241m.\u001b[39msuggest_float(\u001b[38;5;124m\"\u001b[39m\u001b[38;5;124mcorr_value\u001b[39m\u001b[38;5;124m\"\u001b[39m, \u001b[38;5;241m0.5\u001b[39m, \u001b[38;5;241m0.8\u001b[39m)\n\u001b[1;32m--> 245\u001b[0m     X_train, X_val, X_test \u001b[38;5;241m=\u001b[39m \u001b[43mdelete_corr\u001b[49m\u001b[43m(\u001b[49m\u001b[43mX_train\u001b[49m\u001b[43m,\u001b[49m\u001b[43m \u001b[49m\u001b[43mX_val\u001b[49m\u001b[43m,\u001b[49m\u001b[43m \u001b[49m\u001b[43mX_test\u001b[49m\u001b[43m,\u001b[49m\u001b[43m \u001b[49m\u001b[43mcorr_val\u001b[49m\u001b[43m)\u001b[49m\n\u001b[0;32m    248\u001b[0m \u001b[38;5;66;03m# Under/Oversampling\u001b[39;00m\n\u001b[0;32m    249\u001b[0m do_resampling \u001b[38;5;241m=\u001b[39m trial\u001b[38;5;241m.\u001b[39msuggest_categorical(\u001b[38;5;124m\"\u001b[39m\u001b[38;5;124mresample\u001b[39m\u001b[38;5;124m\"\u001b[39m, [\u001b[38;5;28;01mTrue\u001b[39;00m, \u001b[38;5;28;01mFalse\u001b[39;00m])\n",
      "Cell \u001b[1;32mIn[137], line 118\u001b[0m, in \u001b[0;36mdelete_corr\u001b[1;34m(X_train_in, X_val_in, X_test_in, corr_val)\u001b[0m\n\u001b[0;32m    117\u001b[0m \u001b[38;5;28;01mdef\u001b[39;00m \u001b[38;5;21mdelete_corr\u001b[39m(X_train_in, X_val_in, X_test_in, corr_val):\n\u001b[1;32m--> 118\u001b[0m     collinear_cols \u001b[38;5;241m=\u001b[39m \u001b[43mget_collinear_features\u001b[49m\u001b[43m(\u001b[49m\u001b[43mX_train_in\u001b[49m\u001b[43m,\u001b[49m\u001b[43m \u001b[49m\u001b[43mcorr_val\u001b[49m\u001b[43m)\u001b[49m\n\u001b[0;32m    119\u001b[0m     X_train_out \u001b[38;5;241m=\u001b[39m X_train_in\u001b[38;5;241m.\u001b[39mdrop(columns\u001b[38;5;241m=\u001b[39mcollinear_cols)\n\u001b[0;32m    120\u001b[0m     X_val_out   \u001b[38;5;241m=\u001b[39m X_val_in\u001b[38;5;241m.\u001b[39mdrop(columns\u001b[38;5;241m=\u001b[39mcollinear_cols)\n",
      "Cell \u001b[1;32mIn[137], line 104\u001b[0m, in \u001b[0;36mget_collinear_features\u001b[1;34m(x, threshold)\u001b[0m\n\u001b[0;32m    102\u001b[0m col \u001b[38;5;241m=\u001b[39m item\u001b[38;5;241m.\u001b[39mcolumns\n\u001b[0;32m    103\u001b[0m row \u001b[38;5;241m=\u001b[39m item\u001b[38;5;241m.\u001b[39mindex\n\u001b[1;32m--> 104\u001b[0m val \u001b[38;5;241m=\u001b[39m \u001b[38;5;28mabs\u001b[39m(\u001b[43mitem\u001b[49m\u001b[38;5;241;43m.\u001b[39;49m\u001b[43mvalues\u001b[49m)\n\u001b[0;32m    106\u001b[0m \u001b[38;5;66;03m# If correlation exceeds the threshold\u001b[39;00m\n\u001b[0;32m    107\u001b[0m \u001b[38;5;28;01mif\u001b[39;00m val \u001b[38;5;241m>\u001b[39m\u001b[38;5;241m=\u001b[39m threshold:\n\u001b[0;32m    108\u001b[0m     \u001b[38;5;66;03m# Print the correlated features and the correlation value\u001b[39;00m\n\u001b[0;32m    109\u001b[0m     \u001b[38;5;66;03m# print(col.values[0], \"|\", row.values[0], \"|\", round(val[0][0], 2))\u001b[39;00m\n",
      "File \u001b[1;32mc:\\Python312\\Lib\\site-packages\\pandas\\core\\frame.py:12281\u001b[0m, in \u001b[0;36mDataFrame.values\u001b[1;34m(self)\u001b[0m\n\u001b[0;32m  12207\u001b[0m \u001b[38;5;129m@property\u001b[39m\n\u001b[0;32m  12208\u001b[0m \u001b[38;5;28;01mdef\u001b[39;00m \u001b[38;5;21mvalues\u001b[39m(\u001b[38;5;28mself\u001b[39m) \u001b[38;5;241m-\u001b[39m\u001b[38;5;241m>\u001b[39m np\u001b[38;5;241m.\u001b[39mndarray:\n\u001b[0;32m  12209\u001b[0m \u001b[38;5;250m    \u001b[39m\u001b[38;5;124;03m\"\"\"\u001b[39;00m\n\u001b[0;32m  12210\u001b[0m \u001b[38;5;124;03m    Return a Numpy representation of the DataFrame.\u001b[39;00m\n\u001b[0;32m  12211\u001b[0m \n\u001b[1;32m   (...)\u001b[0m\n\u001b[0;32m  12279\u001b[0m \u001b[38;5;124;03m           ['monkey', nan, None]], dtype=object)\u001b[39;00m\n\u001b[0;32m  12280\u001b[0m \u001b[38;5;124;03m    \"\"\"\u001b[39;00m\n\u001b[1;32m> 12281\u001b[0m     \u001b[38;5;28;01mreturn\u001b[39;00m \u001b[38;5;28;43mself\u001b[39;49m\u001b[38;5;241;43m.\u001b[39;49m\u001b[43m_mgr\u001b[49m\u001b[38;5;241;43m.\u001b[39;49m\u001b[43mas_array\u001b[49m\u001b[43m(\u001b[49m\u001b[43m)\u001b[49m\n",
      "File \u001b[1;32mc:\\Python312\\Lib\\site-packages\\pandas\\core\\internals\\managers.py:1650\u001b[0m, in \u001b[0;36mBlockManager.as_array\u001b[1;34m(self, dtype, copy, na_value)\u001b[0m\n\u001b[0;32m   1644\u001b[0m     arr \u001b[38;5;241m=\u001b[39m blk\u001b[38;5;241m.\u001b[39mvalues\u001b[38;5;241m.\u001b[39mto_numpy(  \u001b[38;5;66;03m# type: ignore[union-attr]\u001b[39;00m\n\u001b[0;32m   1645\u001b[0m         dtype\u001b[38;5;241m=\u001b[39mdtype,\n\u001b[0;32m   1646\u001b[0m         na_value\u001b[38;5;241m=\u001b[39mna_value,\n\u001b[0;32m   1647\u001b[0m         copy\u001b[38;5;241m=\u001b[39mcopy,\n\u001b[0;32m   1648\u001b[0m     )\u001b[38;5;241m.\u001b[39mreshape(blk\u001b[38;5;241m.\u001b[39mshape)\n\u001b[0;32m   1649\u001b[0m \u001b[38;5;28;01melse\u001b[39;00m:\n\u001b[1;32m-> 1650\u001b[0m     arr \u001b[38;5;241m=\u001b[39m \u001b[43mnp\u001b[49m\u001b[38;5;241;43m.\u001b[39;49m\u001b[43marray\u001b[49m\u001b[43m(\u001b[49m\u001b[43mblk\u001b[49m\u001b[38;5;241;43m.\u001b[39;49m\u001b[43mvalues\u001b[49m\u001b[43m,\u001b[49m\u001b[43m \u001b[49m\u001b[43mdtype\u001b[49m\u001b[38;5;241;43m=\u001b[39;49m\u001b[43mdtype\u001b[49m\u001b[43m,\u001b[49m\u001b[43m \u001b[49m\u001b[43mcopy\u001b[49m\u001b[38;5;241;43m=\u001b[39;49m\u001b[43mcopy\u001b[49m\u001b[43m)\u001b[49m\n\u001b[0;32m   1652\u001b[0m \u001b[38;5;28;01mif\u001b[39;00m using_copy_on_write() \u001b[38;5;129;01mand\u001b[39;00m \u001b[38;5;129;01mnot\u001b[39;00m copy:\n\u001b[0;32m   1653\u001b[0m     arr \u001b[38;5;241m=\u001b[39m arr\u001b[38;5;241m.\u001b[39mview()\n",
      "\u001b[1;31mKeyboardInterrupt\u001b[0m: "
     ]
    }
   ],
   "source": [
    "df_credit_x = result_df_train.drop(['ID','RATE'],axis=1)\n",
    "df_credit_y = result_df_train[\"RATE\"]\n",
    "\n",
    "df_test = result_df_test\n",
    "X_test     = df_test.drop(columns=[\"ID\"],axis=1)\n",
    "X_test_ids = df_test[\"ID\"]\n",
    "\n",
    "\n",
    "BNTuning = TuningParams(df_credit_x, df_credit_y, df_test)\n",
    "study = optuna.create_study(direction=\"maximize\", study_name=\"tuning__{}\".format(datetime.datetime.now().strftime(\"%Y%m%d-%H%M%S\")), storage=\"sqlite:///db.sqlite3\")\n",
    "\n",
    "study.optimize(BNTuning.objective_function, n_trials=2000)"
   ]
  },
  {
   "cell_type": "code",
   "execution_count": 116,
   "metadata": {},
   "outputs": [
    {
     "data": {
      "text/plain": [
       "{'feature_selection': True,\n",
       " 'feat_sel_type': 'top',\n",
       " 'feat_sel_model': 'kbest',\n",
       " 'top_k': 14,\n",
       " 'delete_correlated': True,\n",
       " 'corr_value': 0.5334211334867744,\n",
       " 'resample': False,\n",
       " 'algorithm': 'ball_tree',\n",
       " 'n_neighbors': 23,\n",
       " 'weights': 'distance',\n",
       " 'metric': 'manhattan'}"
      ]
     },
     "execution_count": 116,
     "metadata": {},
     "output_type": "execute_result"
    }
   ],
   "source": [
    "study.best_params"
   ]
  },
  {
   "cell_type": "code",
   "execution_count": 117,
   "metadata": {},
   "outputs": [],
   "source": [
    "a = study.best_trials"
   ]
  },
  {
   "cell_type": "code",
   "execution_count": 118,
   "metadata": {},
   "outputs": [
    {
     "data": {
      "text/plain": [
       "[FrozenTrial(number=1800, state=1, values=[0.6824149284247031], datetime_start=datetime.datetime(2024, 1, 12, 14, 20, 52, 216770), datetime_complete=datetime.datetime(2024, 1, 12, 14, 20, 52, 763028), params={'feature_selection': True, 'feat_sel_type': 'top', 'feat_sel_model': 'kbest', 'top_k': 14, 'delete_correlated': True, 'corr_value': 0.5334211334867744, 'resample': False, 'algorithm': 'ball_tree', 'n_neighbors': 23, 'weights': 'distance', 'metric': 'manhattan'}, user_attrs={}, system_attrs={}, intermediate_values={}, distributions={'feature_selection': CategoricalDistribution(choices=(True, False)), 'feat_sel_type': CategoricalDistribution(choices=('top',)), 'feat_sel_model': CategoricalDistribution(choices=('tree', 'rf', 'agglo', 'kbest')), 'top_k': IntDistribution(high=35, log=False, low=5, step=1), 'delete_correlated': CategoricalDistribution(choices=(True, False)), 'corr_value': FloatDistribution(high=0.8, log=False, low=0.5, step=None), 'resample': CategoricalDistribution(choices=(True, False)), 'algorithm': CategoricalDistribution(choices=('ball_tree', 'kd_tree', 'brute', 'auto')), 'n_neighbors': IntDistribution(high=33, log=False, low=1, step=1), 'weights': CategoricalDistribution(choices=('uniform', 'distance')), 'metric': CategoricalDistribution(choices=('euclidean', 'manhattan', 'minkowski', 'chebyshev'))}, trial_id=9454, value=None),\n",
       " FrozenTrial(number=1861, state=1, values=[0.6824149284247031], datetime_start=datetime.datetime(2024, 1, 12, 14, 21, 31, 262432), datetime_complete=datetime.datetime(2024, 1, 12, 14, 21, 31, 746155), params={'feature_selection': True, 'feat_sel_type': 'top', 'feat_sel_model': 'kbest', 'top_k': 14, 'delete_correlated': True, 'corr_value': 0.5199964932395169, 'resample': False, 'algorithm': 'ball_tree', 'n_neighbors': 23, 'weights': 'distance', 'metric': 'manhattan'}, user_attrs={}, system_attrs={}, intermediate_values={}, distributions={'feature_selection': CategoricalDistribution(choices=(True, False)), 'feat_sel_type': CategoricalDistribution(choices=('top',)), 'feat_sel_model': CategoricalDistribution(choices=('tree', 'rf', 'agglo', 'kbest')), 'top_k': IntDistribution(high=35, log=False, low=5, step=1), 'delete_correlated': CategoricalDistribution(choices=(True, False)), 'corr_value': FloatDistribution(high=0.8, log=False, low=0.5, step=None), 'resample': CategoricalDistribution(choices=(True, False)), 'algorithm': CategoricalDistribution(choices=('ball_tree', 'kd_tree', 'brute', 'auto')), 'n_neighbors': IntDistribution(high=33, log=False, low=1, step=1), 'weights': CategoricalDistribution(choices=('uniform', 'distance')), 'metric': CategoricalDistribution(choices=('euclidean', 'manhattan', 'minkowski', 'chebyshev'))}, trial_id=9515, value=None),\n",
       " FrozenTrial(number=1874, state=1, values=[0.6824149284247031], datetime_start=datetime.datetime(2024, 1, 12, 14, 21, 40, 953681), datetime_complete=datetime.datetime(2024, 1, 12, 14, 21, 41, 466530), params={'feature_selection': True, 'feat_sel_type': 'top', 'feat_sel_model': 'kbest', 'top_k': 14, 'delete_correlated': True, 'corr_value': 0.5184611525656485, 'resample': False, 'algorithm': 'ball_tree', 'n_neighbors': 23, 'weights': 'distance', 'metric': 'manhattan'}, user_attrs={}, system_attrs={}, intermediate_values={}, distributions={'feature_selection': CategoricalDistribution(choices=(True, False)), 'feat_sel_type': CategoricalDistribution(choices=('top',)), 'feat_sel_model': CategoricalDistribution(choices=('tree', 'rf', 'agglo', 'kbest')), 'top_k': IntDistribution(high=35, log=False, low=5, step=1), 'delete_correlated': CategoricalDistribution(choices=(True, False)), 'corr_value': FloatDistribution(high=0.8, log=False, low=0.5, step=None), 'resample': CategoricalDistribution(choices=(True, False)), 'algorithm': CategoricalDistribution(choices=('ball_tree', 'kd_tree', 'brute', 'auto')), 'n_neighbors': IntDistribution(high=33, log=False, low=1, step=1), 'weights': CategoricalDistribution(choices=('uniform', 'distance')), 'metric': CategoricalDistribution(choices=('euclidean', 'manhattan', 'minkowski', 'chebyshev'))}, trial_id=9528, value=None),\n",
       " FrozenTrial(number=1877, state=1, values=[0.6824149284247031], datetime_start=datetime.datetime(2024, 1, 12, 14, 21, 42, 605527), datetime_complete=datetime.datetime(2024, 1, 12, 14, 21, 43, 70713), params={'feature_selection': True, 'feat_sel_type': 'top', 'feat_sel_model': 'kbest', 'top_k': 14, 'delete_correlated': True, 'corr_value': 0.519205835101612, 'resample': False, 'algorithm': 'ball_tree', 'n_neighbors': 23, 'weights': 'distance', 'metric': 'manhattan'}, user_attrs={}, system_attrs={}, intermediate_values={}, distributions={'feature_selection': CategoricalDistribution(choices=(True, False)), 'feat_sel_type': CategoricalDistribution(choices=('top',)), 'feat_sel_model': CategoricalDistribution(choices=('tree', 'rf', 'agglo', 'kbest')), 'top_k': IntDistribution(high=35, log=False, low=5, step=1), 'delete_correlated': CategoricalDistribution(choices=(True, False)), 'corr_value': FloatDistribution(high=0.8, log=False, low=0.5, step=None), 'resample': CategoricalDistribution(choices=(True, False)), 'algorithm': CategoricalDistribution(choices=('ball_tree', 'kd_tree', 'brute', 'auto')), 'n_neighbors': IntDistribution(high=33, log=False, low=1, step=1), 'weights': CategoricalDistribution(choices=('uniform', 'distance')), 'metric': CategoricalDistribution(choices=('euclidean', 'manhattan', 'minkowski', 'chebyshev'))}, trial_id=9531, value=None),\n",
       " FrozenTrial(number=1880, state=1, values=[0.6824149284247031], datetime_start=datetime.datetime(2024, 1, 12, 14, 21, 44, 343456), datetime_complete=datetime.datetime(2024, 1, 12, 14, 21, 44, 743049), params={'feature_selection': True, 'feat_sel_type': 'top', 'feat_sel_model': 'kbest', 'top_k': 14, 'delete_correlated': True, 'corr_value': 0.5175372048657899, 'resample': False, 'algorithm': 'ball_tree', 'n_neighbors': 23, 'weights': 'distance', 'metric': 'manhattan'}, user_attrs={}, system_attrs={}, intermediate_values={}, distributions={'feature_selection': CategoricalDistribution(choices=(True, False)), 'feat_sel_type': CategoricalDistribution(choices=('top',)), 'feat_sel_model': CategoricalDistribution(choices=('tree', 'rf', 'agglo', 'kbest')), 'top_k': IntDistribution(high=35, log=False, low=5, step=1), 'delete_correlated': CategoricalDistribution(choices=(True, False)), 'corr_value': FloatDistribution(high=0.8, log=False, low=0.5, step=None), 'resample': CategoricalDistribution(choices=(True, False)), 'algorithm': CategoricalDistribution(choices=('ball_tree', 'kd_tree', 'brute', 'auto')), 'n_neighbors': IntDistribution(high=33, log=False, low=1, step=1), 'weights': CategoricalDistribution(choices=('uniform', 'distance')), 'metric': CategoricalDistribution(choices=('euclidean', 'manhattan', 'minkowski', 'chebyshev'))}, trial_id=9534, value=None),\n",
       " FrozenTrial(number=1891, state=1, values=[0.6824149284247031], datetime_start=datetime.datetime(2024, 1, 12, 14, 21, 50, 370639), datetime_complete=datetime.datetime(2024, 1, 12, 14, 21, 50, 851418), params={'feature_selection': True, 'feat_sel_type': 'top', 'feat_sel_model': 'kbest', 'top_k': 14, 'delete_correlated': True, 'corr_value': 0.5244582840340144, 'resample': False, 'algorithm': 'ball_tree', 'n_neighbors': 23, 'weights': 'distance', 'metric': 'manhattan'}, user_attrs={}, system_attrs={}, intermediate_values={}, distributions={'feature_selection': CategoricalDistribution(choices=(True, False)), 'feat_sel_type': CategoricalDistribution(choices=('top',)), 'feat_sel_model': CategoricalDistribution(choices=('tree', 'rf', 'agglo', 'kbest')), 'top_k': IntDistribution(high=35, log=False, low=5, step=1), 'delete_correlated': CategoricalDistribution(choices=(True, False)), 'corr_value': FloatDistribution(high=0.8, log=False, low=0.5, step=None), 'resample': CategoricalDistribution(choices=(True, False)), 'algorithm': CategoricalDistribution(choices=('ball_tree', 'kd_tree', 'brute', 'auto')), 'n_neighbors': IntDistribution(high=33, log=False, low=1, step=1), 'weights': CategoricalDistribution(choices=('uniform', 'distance')), 'metric': CategoricalDistribution(choices=('euclidean', 'manhattan', 'minkowski', 'chebyshev'))}, trial_id=9545, value=None),\n",
       " FrozenTrial(number=1897, state=1, values=[0.6824149284247031], datetime_start=datetime.datetime(2024, 1, 12, 14, 21, 56, 140021), datetime_complete=datetime.datetime(2024, 1, 12, 14, 21, 56, 627114), params={'feature_selection': True, 'feat_sel_type': 'top', 'feat_sel_model': 'kbest', 'top_k': 14, 'delete_correlated': True, 'corr_value': 0.5241040411985517, 'resample': False, 'algorithm': 'ball_tree', 'n_neighbors': 23, 'weights': 'distance', 'metric': 'manhattan'}, user_attrs={}, system_attrs={}, intermediate_values={}, distributions={'feature_selection': CategoricalDistribution(choices=(True, False)), 'feat_sel_type': CategoricalDistribution(choices=('top',)), 'feat_sel_model': CategoricalDistribution(choices=('tree', 'rf', 'agglo', 'kbest')), 'top_k': IntDistribution(high=35, log=False, low=5, step=1), 'delete_correlated': CategoricalDistribution(choices=(True, False)), 'corr_value': FloatDistribution(high=0.8, log=False, low=0.5, step=None), 'resample': CategoricalDistribution(choices=(True, False)), 'algorithm': CategoricalDistribution(choices=('ball_tree', 'kd_tree', 'brute', 'auto')), 'n_neighbors': IntDistribution(high=33, log=False, low=1, step=1), 'weights': CategoricalDistribution(choices=('uniform', 'distance')), 'metric': CategoricalDistribution(choices=('euclidean', 'manhattan', 'minkowski', 'chebyshev'))}, trial_id=9551, value=None),\n",
       " FrozenTrial(number=1899, state=1, values=[0.6824149284247031], datetime_start=datetime.datetime(2024, 1, 12, 14, 21, 57, 299072), datetime_complete=datetime.datetime(2024, 1, 12, 14, 21, 57, 840898), params={'feature_selection': True, 'feat_sel_type': 'top', 'feat_sel_model': 'kbest', 'top_k': 14, 'delete_correlated': True, 'corr_value': 0.5237761722175136, 'resample': False, 'algorithm': 'ball_tree', 'n_neighbors': 23, 'weights': 'distance', 'metric': 'manhattan'}, user_attrs={}, system_attrs={}, intermediate_values={}, distributions={'feature_selection': CategoricalDistribution(choices=(True, False)), 'feat_sel_type': CategoricalDistribution(choices=('top',)), 'feat_sel_model': CategoricalDistribution(choices=('tree', 'rf', 'agglo', 'kbest')), 'top_k': IntDistribution(high=35, log=False, low=5, step=1), 'delete_correlated': CategoricalDistribution(choices=(True, False)), 'corr_value': FloatDistribution(high=0.8, log=False, low=0.5, step=None), 'resample': CategoricalDistribution(choices=(True, False)), 'algorithm': CategoricalDistribution(choices=('ball_tree', 'kd_tree', 'brute', 'auto')), 'n_neighbors': IntDistribution(high=33, log=False, low=1, step=1), 'weights': CategoricalDistribution(choices=('uniform', 'distance')), 'metric': CategoricalDistribution(choices=('euclidean', 'manhattan', 'minkowski', 'chebyshev'))}, trial_id=9553, value=None),\n",
       " FrozenTrial(number=1904, state=1, values=[0.6824149284247031], datetime_start=datetime.datetime(2024, 1, 12, 14, 22, 0, 150384), datetime_complete=datetime.datetime(2024, 1, 12, 14, 22, 0, 697765), params={'feature_selection': True, 'feat_sel_type': 'top', 'feat_sel_model': 'kbest', 'top_k': 14, 'delete_correlated': True, 'corr_value': 0.5224179893320193, 'resample': False, 'algorithm': 'ball_tree', 'n_neighbors': 23, 'weights': 'distance', 'metric': 'manhattan'}, user_attrs={}, system_attrs={}, intermediate_values={}, distributions={'feature_selection': CategoricalDistribution(choices=(True, False)), 'feat_sel_type': CategoricalDistribution(choices=('top',)), 'feat_sel_model': CategoricalDistribution(choices=('tree', 'rf', 'agglo', 'kbest')), 'top_k': IntDistribution(high=35, log=False, low=5, step=1), 'delete_correlated': CategoricalDistribution(choices=(True, False)), 'corr_value': FloatDistribution(high=0.8, log=False, low=0.5, step=None), 'resample': CategoricalDistribution(choices=(True, False)), 'algorithm': CategoricalDistribution(choices=('ball_tree', 'kd_tree', 'brute', 'auto')), 'n_neighbors': IntDistribution(high=33, log=False, low=1, step=1), 'weights': CategoricalDistribution(choices=('uniform', 'distance')), 'metric': CategoricalDistribution(choices=('euclidean', 'manhattan', 'minkowski', 'chebyshev'))}, trial_id=9558, value=None),\n",
       " FrozenTrial(number=1909, state=1, values=[0.6824149284247031], datetime_start=datetime.datetime(2024, 1, 12, 14, 22, 3, 650162), datetime_complete=datetime.datetime(2024, 1, 12, 14, 22, 4, 250331), params={'feature_selection': True, 'feat_sel_type': 'top', 'feat_sel_model': 'kbest', 'top_k': 14, 'delete_correlated': True, 'corr_value': 0.5230129819638956, 'resample': False, 'algorithm': 'ball_tree', 'n_neighbors': 23, 'weights': 'distance', 'metric': 'manhattan'}, user_attrs={}, system_attrs={}, intermediate_values={}, distributions={'feature_selection': CategoricalDistribution(choices=(True, False)), 'feat_sel_type': CategoricalDistribution(choices=('top',)), 'feat_sel_model': CategoricalDistribution(choices=('tree', 'rf', 'agglo', 'kbest')), 'top_k': IntDistribution(high=35, log=False, low=5, step=1), 'delete_correlated': CategoricalDistribution(choices=(True, False)), 'corr_value': FloatDistribution(high=0.8, log=False, low=0.5, step=None), 'resample': CategoricalDistribution(choices=(True, False)), 'algorithm': CategoricalDistribution(choices=('ball_tree', 'kd_tree', 'brute', 'auto')), 'n_neighbors': IntDistribution(high=33, log=False, low=1, step=1), 'weights': CategoricalDistribution(choices=('uniform', 'distance')), 'metric': CategoricalDistribution(choices=('euclidean', 'manhattan', 'minkowski', 'chebyshev'))}, trial_id=9563, value=None),\n",
       " FrozenTrial(number=1916, state=1, values=[0.6824149284247031], datetime_start=datetime.datetime(2024, 1, 12, 14, 22, 7, 427131), datetime_complete=datetime.datetime(2024, 1, 12, 14, 22, 7, 850311), params={'feature_selection': True, 'feat_sel_type': 'top', 'feat_sel_model': 'kbest', 'top_k': 14, 'delete_correlated': True, 'corr_value': 0.5156495876147392, 'resample': False, 'algorithm': 'ball_tree', 'n_neighbors': 23, 'weights': 'distance', 'metric': 'manhattan'}, user_attrs={}, system_attrs={}, intermediate_values={}, distributions={'feature_selection': CategoricalDistribution(choices=(True, False)), 'feat_sel_type': CategoricalDistribution(choices=('top',)), 'feat_sel_model': CategoricalDistribution(choices=('tree', 'rf', 'agglo', 'kbest')), 'top_k': IntDistribution(high=35, log=False, low=5, step=1), 'delete_correlated': CategoricalDistribution(choices=(True, False)), 'corr_value': FloatDistribution(high=0.8, log=False, low=0.5, step=None), 'resample': CategoricalDistribution(choices=(True, False)), 'algorithm': CategoricalDistribution(choices=('ball_tree', 'kd_tree', 'brute', 'auto')), 'n_neighbors': IntDistribution(high=33, log=False, low=1, step=1), 'weights': CategoricalDistribution(choices=('uniform', 'distance')), 'metric': CategoricalDistribution(choices=('euclidean', 'manhattan', 'minkowski', 'chebyshev'))}, trial_id=9570, value=None),\n",
       " FrozenTrial(number=1921, state=1, values=[0.6824149284247031], datetime_start=datetime.datetime(2024, 1, 12, 14, 22, 11, 812036), datetime_complete=datetime.datetime(2024, 1, 12, 14, 22, 12, 305834), params={'feature_selection': True, 'feat_sel_type': 'top', 'feat_sel_model': 'kbest', 'top_k': 14, 'delete_correlated': True, 'corr_value': 0.5166568537664988, 'resample': False, 'algorithm': 'ball_tree', 'n_neighbors': 23, 'weights': 'distance', 'metric': 'manhattan'}, user_attrs={}, system_attrs={}, intermediate_values={}, distributions={'feature_selection': CategoricalDistribution(choices=(True, False)), 'feat_sel_type': CategoricalDistribution(choices=('top',)), 'feat_sel_model': CategoricalDistribution(choices=('tree', 'rf', 'agglo', 'kbest')), 'top_k': IntDistribution(high=35, log=False, low=5, step=1), 'delete_correlated': CategoricalDistribution(choices=(True, False)), 'corr_value': FloatDistribution(high=0.8, log=False, low=0.5, step=None), 'resample': CategoricalDistribution(choices=(True, False)), 'algorithm': CategoricalDistribution(choices=('ball_tree', 'kd_tree', 'brute', 'auto')), 'n_neighbors': IntDistribution(high=33, log=False, low=1, step=1), 'weights': CategoricalDistribution(choices=('uniform', 'distance')), 'metric': CategoricalDistribution(choices=('euclidean', 'manhattan', 'minkowski', 'chebyshev'))}, trial_id=9575, value=None),\n",
       " FrozenTrial(number=1922, state=1, values=[0.6824149284247031], datetime_start=datetime.datetime(2024, 1, 12, 14, 22, 12, 339228), datetime_complete=datetime.datetime(2024, 1, 12, 14, 22, 12, 816846), params={'feature_selection': True, 'feat_sel_type': 'top', 'feat_sel_model': 'kbest', 'top_k': 14, 'delete_correlated': True, 'corr_value': 0.5134575617846113, 'resample': False, 'algorithm': 'ball_tree', 'n_neighbors': 23, 'weights': 'distance', 'metric': 'manhattan'}, user_attrs={}, system_attrs={}, intermediate_values={}, distributions={'feature_selection': CategoricalDistribution(choices=(True, False)), 'feat_sel_type': CategoricalDistribution(choices=('top',)), 'feat_sel_model': CategoricalDistribution(choices=('tree', 'rf', 'agglo', 'kbest')), 'top_k': IntDistribution(high=35, log=False, low=5, step=1), 'delete_correlated': CategoricalDistribution(choices=(True, False)), 'corr_value': FloatDistribution(high=0.8, log=False, low=0.5, step=None), 'resample': CategoricalDistribution(choices=(True, False)), 'algorithm': CategoricalDistribution(choices=('ball_tree', 'kd_tree', 'brute', 'auto')), 'n_neighbors': IntDistribution(high=33, log=False, low=1, step=1), 'weights': CategoricalDistribution(choices=('uniform', 'distance')), 'metric': CategoricalDistribution(choices=('euclidean', 'manhattan', 'minkowski', 'chebyshev'))}, trial_id=9576, value=None),\n",
       " FrozenTrial(number=1935, state=1, values=[0.6824149284247031], datetime_start=datetime.datetime(2024, 1, 12, 14, 22, 18, 716419), datetime_complete=datetime.datetime(2024, 1, 12, 14, 22, 19, 137281), params={'feature_selection': True, 'feat_sel_type': 'top', 'feat_sel_model': 'kbest', 'top_k': 14, 'delete_correlated': True, 'corr_value': 0.5133226463536125, 'resample': False, 'algorithm': 'ball_tree', 'n_neighbors': 23, 'weights': 'distance', 'metric': 'manhattan'}, user_attrs={}, system_attrs={}, intermediate_values={}, distributions={'feature_selection': CategoricalDistribution(choices=(True, False)), 'feat_sel_type': CategoricalDistribution(choices=('top',)), 'feat_sel_model': CategoricalDistribution(choices=('tree', 'rf', 'agglo', 'kbest')), 'top_k': IntDistribution(high=35, log=False, low=5, step=1), 'delete_correlated': CategoricalDistribution(choices=(True, False)), 'corr_value': FloatDistribution(high=0.8, log=False, low=0.5, step=None), 'resample': CategoricalDistribution(choices=(True, False)), 'algorithm': CategoricalDistribution(choices=('ball_tree', 'kd_tree', 'brute', 'auto')), 'n_neighbors': IntDistribution(high=33, log=False, low=1, step=1), 'weights': CategoricalDistribution(choices=('uniform', 'distance')), 'metric': CategoricalDistribution(choices=('euclidean', 'manhattan', 'minkowski', 'chebyshev'))}, trial_id=9589, value=None),\n",
       " FrozenTrial(number=1960, state=1, values=[0.6824149284247031], datetime_start=datetime.datetime(2024, 1, 12, 14, 22, 35, 123515), datetime_complete=datetime.datetime(2024, 1, 12, 14, 22, 35, 543818), params={'feature_selection': True, 'feat_sel_type': 'top', 'feat_sel_model': 'kbest', 'top_k': 14, 'delete_correlated': True, 'corr_value': 0.5118136138864174, 'resample': False, 'algorithm': 'ball_tree', 'n_neighbors': 23, 'weights': 'distance', 'metric': 'manhattan'}, user_attrs={}, system_attrs={}, intermediate_values={}, distributions={'feature_selection': CategoricalDistribution(choices=(True, False)), 'feat_sel_type': CategoricalDistribution(choices=('top',)), 'feat_sel_model': CategoricalDistribution(choices=('tree', 'rf', 'agglo', 'kbest')), 'top_k': IntDistribution(high=35, log=False, low=5, step=1), 'delete_correlated': CategoricalDistribution(choices=(True, False)), 'corr_value': FloatDistribution(high=0.8, log=False, low=0.5, step=None), 'resample': CategoricalDistribution(choices=(True, False)), 'algorithm': CategoricalDistribution(choices=('ball_tree', 'kd_tree', 'brute', 'auto')), 'n_neighbors': IntDistribution(high=33, log=False, low=1, step=1), 'weights': CategoricalDistribution(choices=('uniform', 'distance')), 'metric': CategoricalDistribution(choices=('euclidean', 'manhattan', 'minkowski', 'chebyshev'))}, trial_id=9614, value=None),\n",
       " FrozenTrial(number=1964, state=1, values=[0.6824149284247031], datetime_start=datetime.datetime(2024, 1, 12, 14, 22, 37, 543892), datetime_complete=datetime.datetime(2024, 1, 12, 14, 22, 37, 947039), params={'feature_selection': True, 'feat_sel_type': 'top', 'feat_sel_model': 'kbest', 'top_k': 14, 'delete_correlated': True, 'corr_value': 0.5118851077518755, 'resample': False, 'algorithm': 'ball_tree', 'n_neighbors': 23, 'weights': 'distance', 'metric': 'manhattan'}, user_attrs={}, system_attrs={}, intermediate_values={}, distributions={'feature_selection': CategoricalDistribution(choices=(True, False)), 'feat_sel_type': CategoricalDistribution(choices=('top',)), 'feat_sel_model': CategoricalDistribution(choices=('tree', 'rf', 'agglo', 'kbest')), 'top_k': IntDistribution(high=35, log=False, low=5, step=1), 'delete_correlated': CategoricalDistribution(choices=(True, False)), 'corr_value': FloatDistribution(high=0.8, log=False, low=0.5, step=None), 'resample': CategoricalDistribution(choices=(True, False)), 'algorithm': CategoricalDistribution(choices=('ball_tree', 'kd_tree', 'brute', 'auto')), 'n_neighbors': IntDistribution(high=33, log=False, low=1, step=1), 'weights': CategoricalDistribution(choices=('uniform', 'distance')), 'metric': CategoricalDistribution(choices=('euclidean', 'manhattan', 'minkowski', 'chebyshev'))}, trial_id=9618, value=None),\n",
       " FrozenTrial(number=1992, state=1, values=[0.6824149284247031], datetime_start=datetime.datetime(2024, 1, 12, 14, 22, 54, 295391), datetime_complete=datetime.datetime(2024, 1, 12, 14, 22, 55, 30688), params={'feature_selection': True, 'feat_sel_type': 'top', 'feat_sel_model': 'kbest', 'top_k': 14, 'delete_correlated': True, 'corr_value': 0.5099918632655349, 'resample': False, 'algorithm': 'ball_tree', 'n_neighbors': 23, 'weights': 'distance', 'metric': 'manhattan'}, user_attrs={}, system_attrs={}, intermediate_values={}, distributions={'feature_selection': CategoricalDistribution(choices=(True, False)), 'feat_sel_type': CategoricalDistribution(choices=('top',)), 'feat_sel_model': CategoricalDistribution(choices=('tree', 'rf', 'agglo', 'kbest')), 'top_k': IntDistribution(high=35, log=False, low=5, step=1), 'delete_correlated': CategoricalDistribution(choices=(True, False)), 'corr_value': FloatDistribution(high=0.8, log=False, low=0.5, step=None), 'resample': CategoricalDistribution(choices=(True, False)), 'algorithm': CategoricalDistribution(choices=('ball_tree', 'kd_tree', 'brute', 'auto')), 'n_neighbors': IntDistribution(high=33, log=False, low=1, step=1), 'weights': CategoricalDistribution(choices=('uniform', 'distance')), 'metric': CategoricalDistribution(choices=('euclidean', 'manhattan', 'minkowski', 'chebyshev'))}, trial_id=9646, value=None),\n",
       " FrozenTrial(number=1995, state=1, values=[0.6824149284247031], datetime_start=datetime.datetime(2024, 1, 12, 14, 22, 56, 120008), datetime_complete=datetime.datetime(2024, 1, 12, 14, 22, 56, 605669), params={'feature_selection': True, 'feat_sel_type': 'top', 'feat_sel_model': 'kbest', 'top_k': 14, 'delete_correlated': True, 'corr_value': 0.5085345902509169, 'resample': False, 'algorithm': 'ball_tree', 'n_neighbors': 23, 'weights': 'distance', 'metric': 'manhattan'}, user_attrs={}, system_attrs={}, intermediate_values={}, distributions={'feature_selection': CategoricalDistribution(choices=(True, False)), 'feat_sel_type': CategoricalDistribution(choices=('top',)), 'feat_sel_model': CategoricalDistribution(choices=('tree', 'rf', 'agglo', 'kbest')), 'top_k': IntDistribution(high=35, log=False, low=5, step=1), 'delete_correlated': CategoricalDistribution(choices=(True, False)), 'corr_value': FloatDistribution(high=0.8, log=False, low=0.5, step=None), 'resample': CategoricalDistribution(choices=(True, False)), 'algorithm': CategoricalDistribution(choices=('ball_tree', 'kd_tree', 'brute', 'auto')), 'n_neighbors': IntDistribution(high=33, log=False, low=1, step=1), 'weights': CategoricalDistribution(choices=('uniform', 'distance')), 'metric': CategoricalDistribution(choices=('euclidean', 'manhattan', 'minkowski', 'chebyshev'))}, trial_id=9649, value=None)]"
      ]
     },
     "execution_count": 118,
     "metadata": {},
     "output_type": "execute_result"
    }
   ],
   "source": [
    "a"
   ]
  },
  {
   "cell_type": "code",
   "execution_count": 119,
   "metadata": {},
   "outputs": [
    {
     "data": {
      "text/plain": [
       "{'feature_selection': True,\n",
       " 'feat_sel_type': 'top',\n",
       " 'feat_sel_model': 'kbest',\n",
       " 'top_k': 14,\n",
       " 'delete_correlated': True,\n",
       " 'corr_value': 0.5334211334867744,\n",
       " 'resample': False,\n",
       " 'algorithm': 'ball_tree',\n",
       " 'n_neighbors': 23,\n",
       " 'weights': 'distance',\n",
       " 'metric': 'manhattan'}"
      ]
     },
     "execution_count": 119,
     "metadata": {},
     "output_type": "execute_result"
    }
   ],
   "source": [
    "study.best_trial.params"
   ]
  },
  {
   "cell_type": "code",
   "execution_count": 120,
   "metadata": {},
   "outputs": [],
   "source": [
    "self_trials = BNTuning.trial"
   ]
  },
  {
   "cell_type": "code",
   "execution_count": 121,
   "metadata": {},
   "outputs": [],
   "source": [
    "BNTuning.trial = self_trials"
   ]
  },
  {
   "cell_type": "code",
   "execution_count": 122,
   "metadata": {},
   "outputs": [
    {
     "name": "stdout",
     "output_type": "stream",
     "text": [
      "Variant                          F1 Score    Train Acc    Test Acc  Parameters\n",
      "-----------------------------  ----------  -----------  ----------  ----------------------------------------------------------------------------------------------------------------------------------------------------------------------------------------------------------------------------------------------------------------------\n",
      "tuning__20240112-140332__1800      0.6615     100.0000     70.3297  {'feature_selection': True, 'feat_sel_type': 'top', 'feat_sel_model': 'kbest', 'top_k': 14, 'delete_correlated': True, 'corr_value': 0.5334211334867744, 'resample': False, 'algorithm': 'ball_tree', 'n_neighbors': 23, 'weights': 'distance', 'metric': 'manhattan'}\n"
     ]
    },
    {
     "data": {
      "image/png": "[encoded data removed]",
      "text/plain": [
       "<Figure size 1800x400 with 2 Axes>"
      ]
     },
     "metadata": {},
     "output_type": "display_data"
    }
   ],
   "source": [
    "out = BNTuning.get_k_best_trials(study, k=1,save_kaggle=True)"
   ]
  },
  {
   "cell_type": "code",
   "execution_count": 110,
   "metadata": {},
   "outputs": [
    {
     "data": {
      "text/plain": [
       "{'feature_selection': True,\n",
       " 'feat_sel_type': 'top',\n",
       " 'top_k': 22,\n",
       " 'delete_correlated': False,\n",
       " 'resample': False,\n",
       " 'n_neighbors': 17,\n",
       " 'weights': 'uniform',\n",
       " 'metric': 'manhattan'}"
      ]
     },
     "execution_count": 110,
     "metadata": {},
     "output_type": "execute_result"
    }
   ],
   "source": [
    "out[\"tuning__20240111-165637__615\"][\"params\"]"
   ]
  }
 ],
 "metadata": {
  "kernelspec": {
   "display_name": "teoria",
   "language": "python",
   "name": "python3"
  },
  "language_info": {
   "codemirror_mode": {
    "name": "ipython",
    "version": 3
   },
   "file_extension": ".py",
   "mimetype": "text/x-python",
   "name": "python",
   "nbconvert_exporter": "python",
   "pygments_lexer": "ipython3",
   "version": "3.12.0"
  }
 },
 "nbformat": 4,
 "nbformat_minor": 2
}
