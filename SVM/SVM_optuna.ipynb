{
 "cells": [
  {
   "cell_type": "markdown",
   "metadata": {},
   "source": [
    "## Prueba Optuna SVM"
   ]
  },
  {
   "cell_type": "code",
   "execution_count": 1,
   "metadata": {},
   "outputs": [],
   "source": [
    "import optuna\n",
    "\n",
    "# Importaciones para manejo de datos y dataframes\n",
    "import numpy as np\n",
    "from numpy.random import seed\n",
    "import pandas as pd\n",
    "\n",
    "# Importaciones para manejo de archivos y llamadas al OS\n",
    "import os as os\n",
    "import warnings\n",
    "\n",
    "# Importaciones para manejo de gráficos\n",
    "import pylab as plt\n",
    "import seaborn as sns\n",
    "from matplotlib.colors import ListedColormap\n",
    "\n",
    "# Sklearn\n",
    "from sklearn.preprocessing import MinMaxScaler, StandardScaler\n",
    "from sklearn.decomposition import PCA\n",
    "from sklearn.preprocessing import OrdinalEncoder, OneHotEncoder\n",
    "from sklearn.impute import KNNImputer\n",
    "from sklearn.neighbors import LocalOutlierFactor\n",
    "\n",
    "# Metemos un gridsearch\n",
    "from sklearn.model_selection import GridSearchCV\n",
    "from sklearn.model_selection import train_test_split\n",
    "from sklearn import svm\n",
    "from sklearn.svm import SVC, LinearSVC, NuSVC\n",
    "from sklearn.metrics import accuracy_score, confusion_matrix, f1_score, precision_score, recall_score, classification_report\n",
    "from collections import Counter\n",
    "from sklearn.impute import SimpleImputer\n",
    "import optuna\n",
    "\n",
    "\n",
    "from imblearn.over_sampling import SMOTE\n",
    "from imblearn.under_sampling import RandomUnderSampler\n",
    "from imblearn.pipeline import Pipeline\n",
    "from sklearn.feature_selection import SequentialFeatureSelector,VarianceThreshold\n",
    "from sklearn.ensemble import RandomForestClassifier, ExtraTreesClassifier\n",
    "from sklearn.feature_selection import SelectKBest, chi2, SelectPercentile\n",
    "\n",
    "# Según el criterio chi-squared dustribution for it to have three features\n",
    "from sklearn.svm import SVC\n",
    "from sklearn.feature_selection import RFE\n",
    "from imblearn.under_sampling import RandomUnderSampler\n",
    "from imblearn.over_sampling import RandomOverSampler\n",
    "\n",
    "from imblearn.over_sampling import SMOTE\n",
    "from sklearn.ensemble import IsolationForest\n",
    "\n",
    "\n",
    "# No mostrar warnings de versiones anteriores\n",
    "warnings.filterwarnings('ignore')"
   ]
  },
  {
   "cell_type": "code",
   "execution_count": 2,
   "metadata": {},
   "outputs": [],
   "source": [
    "# Cargamos csv con los datos de train\n",
    "df_train = pd.read_csv(\"../data_raw/training_data.csv\", sep=\",\", header=0, na_values=['?', '', 'NA'])\n",
    "\n",
    "# Cargamos csv con los datos de test\n",
    "df_test = pd.read_csv(\"../data_raw/test_data.csv\", sep=\",\", header=0, na_values=['?', '', 'NA'])"
   ]
  },
  {
   "cell_type": "code",
   "execution_count": 3,
   "metadata": {},
   "outputs": [],
   "source": [
    "## ENCODING\n",
    "\n",
    "df_train_num = df_train.copy()\n",
    "df_test_num = df_test.copy()\n",
    "\n",
    "# 1. \"OrdinalEncoder\" para X24\n",
    "orden_x24 = ['VLOW', 'LOW', 'MED', 'HIGH', 'VHIGH']\n",
    "\n",
    "ordinal_encoder_x24 = OrdinalEncoder(categories=[orden_x24], dtype=int)\n",
    "\n",
    "df_train_num['X24'] = ordinal_encoder_x24.fit_transform(df_train_num[['X24']])\n",
    "df_test_num['X24'] = ordinal_encoder_x24.transform(df_test_num[['X24']])\n",
    "\n",
    "# 2. \"OrdinalEncoder\" para X25\n",
    "orden_x25 = ['NO', 'YES']\n",
    "\n",
    "ordinal_encoder_x25 = OrdinalEncoder(categories=[orden_x25], dtype=int)\n",
    "\n",
    "df_train_num['X25'] = ordinal_encoder_x25.fit_transform(df_train_num[['X25']])\n",
    "df_test_num['X25'] = ordinal_encoder_x25.transform(df_test_num[['X25']])\n",
    "\n",
    "# Si es VTKGN 1 else 0\n",
    "# Ya que la la clase está muy desbalanceada\n",
    "df_train_encoded = df_train_num.copy()\n",
    "df_test_encoded = df_test_num.copy()\n",
    "\n",
    "df_train_encoded.loc[df_train_num['X30'] == 'VTKGN', 'X30'] = 1\n",
    "df_train_encoded.loc[df_train_num['X30'] != 'VTKGN', 'X30'] = 0\n",
    "\n",
    "df_test_encoded.loc[df_test_num['X30'] == 'VTKGN', 'X30'] = 1\n",
    "df_test_encoded.loc[df_test_num['X30'] != 'VTKGN', 'X30'] = 0\n",
    "\n",
    "df_train_encoded['X30'] = pd.to_numeric(df_train_encoded['X30'])\n",
    "df_test_encoded['X30'] = pd.to_numeric(df_train_encoded['X30']) "
   ]
  },
  {
   "cell_type": "markdown",
   "metadata": {},
   "source": [
    "#### Preprocesamiento"
   ]
  },
  {
   "cell_type": "code",
   "execution_count": 4,
   "metadata": {},
   "outputs": [],
   "source": [
    "## PREPROCESAMIENTO\n",
    "\n",
    "np.random.seed(1234)\n",
    "\n",
    "df_train = df_train_encoded\n",
    "df_test = df_test_encoded\n",
    "\n",
    "# Preprocesamiento para TRAIN\n",
    "df_final_train = df_train.drop(['ID','RATE'], axis=1, inplace=False)\n",
    "train_ID = df_train['ID'].copy()\n",
    "train_RATE = df_train['RATE'].copy()\n",
    "\n",
    "# Preprocesamiento para TEST\n",
    "df_final_test = df_test.drop('ID', axis=1, inplace=False)\n",
    "test_ID = df_test['ID'].copy()"
   ]
  },
  {
   "cell_type": "code",
   "execution_count": 5,
   "metadata": {},
   "outputs": [
    {
     "data": {
      "text/plain": [
       "<Axes: xlabel='column', ylabel='value'>"
      ]
     },
     "execution_count": 5,
     "metadata": {},
     "output_type": "execute_result"
    },
    {
     "data": {
      "image/png": "[encoded data removed]",
      "text/plain": [
       "<Figure size 1900x600 with 1 Axes>"
      ]
     },
     "metadata": {},
     "output_type": "display_data"
    }
   ],
   "source": [
    "df_train_copy = df_final_train.copy()\n",
    "df_test_copy = df_final_test.copy()\n",
    "\n",
    "# Escala raíz cuadrada a las que se dispersan mucho\n",
    "df_train_copy[['X1','X2','X3','X4','X5','X7','X10','X11']] = np.sqrt(df_train_copy[['X1','X2','X3','X4','X5','X7','X10','X11']])\n",
    "df_test_copy[['X1','X2','X3','X4','X5','X7','X10','X11']] = np.sqrt(df_test_copy[['X1','X2','X3','X4','X5','X7','X10','X11']])\n",
    "\n",
    "# Escala logarítmica a las que se dispersan mucho\n",
    "# df_train_copy[['X1','X2','X3','X4','X5','X7','X10','X11']] = np.log(df_train_copy[['X1','X2','X3','X4','X5','X7','X10','X11']])\n",
    "# df_test_copy[['X1','X2','X3','X4','X5','X7','X10','X11']] = np.log(df_test_copy[['X1','X2','X3','X4','X5','X7','X10','X11']])\n",
    "\n",
    "df_melted = df_train_copy.melt(var_name='column')\n",
    "\n",
    "plt.figure(figsize=(19,6))\n",
    "sns.boxplot(data=df_melted, color=\"#3BA3EC\", x=\"column\", y=\"value\")"
   ]
  },
  {
   "cell_type": "code",
   "execution_count": 6,
   "metadata": {},
   "outputs": [],
   "source": [
    "#1. Quitar outliers\n",
    "\n",
    "modelo_isof = IsolationForest(\n",
    "                n_estimators  = 1000,\n",
    "                max_samples   ='auto',\n",
    "                contamination = 0.1,\n",
    "                n_jobs        = -1,\n",
    "                random_state  = 123,\n",
    "            )\n",
    "\n",
    "df_no_na = df_train_copy.dropna(axis=0, inplace=False)\n",
    "\n",
    "modelo_isof.fit(X=df_no_na)\n",
    "clasificacion_predicha = modelo_isof.predict(X=df_no_na)\n",
    "clasificacion_predicha\n",
    "\n",
    "df_no_na['clasificacion_predicha'] = clasificacion_predicha\n",
    "indices_outliers = df_no_na.index[df_no_na['clasificacion_predicha'] == -1].tolist()\n",
    "\n",
    "indices_outliers\n",
    "\n",
    "df_no_outliers = df_train_copy.drop(index=indices_outliers)\n",
    "\n",
    "# Ahora, imputo sobre el dataset sin outliers\n",
    "# imp_train = KNNImputer(n_neighbors=5).fit(df_no_outliers)\n",
    "# df_train_imp = pd.DataFrame(imp_train.transform(df_train_copy), columns=df_train_copy.columns, index=df_train_copy.index)\n",
    "\n",
    "imp_train = SimpleImputer(missing_values=np.nan, strategy='median').fit(df_no_outliers) #most_frequent\n",
    "df_train_imp = pd.DataFrame(imp_train.transform(df_train_copy), columns=df_train_copy.columns, index=df_train_copy.index)\n",
    "\n",
    "# Hago lo mismo para test\n",
    "\n",
    "modelo_isof_test = IsolationForest(\n",
    "                n_estimators  = 1000,\n",
    "                max_samples   ='auto',\n",
    "                contamination = 0.1,\n",
    "                n_jobs        = -1,\n",
    "                random_state  = 123,\n",
    "            )\n",
    "\n",
    "df_no_na_test = df_test_copy.dropna(axis=0, inplace=False)\n",
    "\n",
    "modelo_isof_test.fit(X=df_no_na_test)\n",
    "clasificacion_predicha = modelo_isof_test.predict(X=df_no_na_test)\n",
    "clasificacion_predicha\n",
    "\n",
    "df_no_na_test['clasificacion_predicha'] = clasificacion_predicha\n",
    "indices_outliers = df_no_na_test.index[df_no_na_test['clasificacion_predicha'] == -1].tolist()\n",
    "\n",
    "indices_outliers\n",
    "\n",
    "df_no_outliers_test = df_test_copy.drop(index=indices_outliers)\n",
    "\n",
    "# imp_test = KNNImputer(n_neighbors=5).fit(df_no_outliers_test)\n",
    "# df_test_imp = pd.DataFrame(imp_test.transform(df_test_copy), columns=df_test_copy.columns, index=df_test_copy.index)\n",
    "\n",
    "#Imputamos con mediana\n",
    "\n",
    "imp_test = SimpleImputer(missing_values=np.nan, strategy='median').fit(df_no_outliers_test)\n",
    "df_test_imp = pd.DataFrame(imp_test.transform(df_test_copy), columns=df_test_copy.columns, index=df_test_copy.index)"
   ]
  },
  {
   "cell_type": "code",
   "execution_count": 7,
   "metadata": {},
   "outputs": [],
   "source": [
    "# # 4. Escalamos\n",
    "scaler = StandardScaler()\n",
    "df_scaled = scaler.fit_transform(df_train_imp.to_numpy())\n",
    "df_scaled = pd.DataFrame(df_scaled,index=df_train_imp.index, columns=[df_train_imp.columns])\n",
    "\n",
    "df_scaled_test = scaler.transform(df_test_imp.to_numpy())\n",
    "df_scaled_test = pd.DataFrame(df_scaled_test,index=df_test_imp.index, columns=[df_test_imp.columns])\n",
    "\n",
    "# # 5. Componemos las columnas\n",
    "columns = ['ID']\n",
    "columns = np.append(columns, df_train_copy.columns)\n",
    "columns = np.append(columns, 'RATE')\n",
    "\n",
    "result_df_train = pd.merge(train_ID, df_scaled, left_index=True, right_index=True)\n",
    "result_df_train = pd.merge(result_df_train, train_RATE, left_index=True, right_index=True)\n",
    "result_df_train.columns = columns\n",
    "\n",
    "columns = ['ID']\n",
    "columns = np.append(columns, df_test_copy.columns)\n",
    "\n",
    "result_df_test = pd.merge(test_ID, df_scaled_test, left_index=True, right_index=True)\n",
    "result_df_test.columns = columns"
   ]
  },
  {
   "cell_type": "markdown",
   "metadata": {},
   "source": [
    "##### Aplicación de Optuna"
   ]
  },
  {
   "cell_type": "code",
   "execution_count": 8,
   "metadata": {},
   "outputs": [],
   "source": [
    "X = result_df_train.drop(['ID','RATE'], inplace=False, axis=1)\n",
    "y = result_df_train['RATE']\n",
    "\n",
    "X_train, X_test, y_train, y_test = train_test_split(X, y, test_size=0.3, random_state=42)\n",
    "\n",
    "# Define la función objetivo\n",
    "def objective(trial):\n",
    "    \n",
    "    # Define el espacio de búsqueda de hiperparámetros\n",
    "    C = trial.suggest_loguniform('C', 0.001, 10000)\n",
    "    gamma = trial.suggest_loguniform('gamma', 0.001, 10000)\n",
    "    kernel = trial.suggest_categorical('kernel', ['linear', 'poly', 'rbf', 'sigmoid'])\n",
    "    degree = trial.suggest_int('degree', 1, 10)\n",
    "    shrinking = trial.suggest_categorical('shrinking', [True, False])\n",
    "    coef0 = trial.suggest_uniform('coef0', 0.0, 10.0)\n",
    "    class_weight = trial.suggest_categorical('class_weight', ['balanced', None])\n",
    "\n",
    "    # Crea y entrena el modelo SVM\n",
    "    classifier_obj = svm.SVC(C=C, gamma=gamma, kernel=kernel, degree=degree, shrinking=shrinking, coef0=coef0, class_weight=class_weight)\n",
    "    classifier_obj.fit(X_train, y_train)\n",
    "\n",
    "    # Evalúa el modelo\n",
    "    y_pred = classifier_obj.predict(X_test)\n",
    "    accuracy = accuracy_score(y_test, y_pred)\n",
    "\n",
    "    return accuracy"
   ]
  },
  {
   "cell_type": "code",
   "execution_count": 9,
   "metadata": {},
   "outputs": [
    {
     "name": "stderr",
     "output_type": "stream",
     "text": [
      "[I 2024-01-11 02:36:29,181] A new study created in memory with name: no-name-b97469c2-490b-4c60-b77e-0472a0bc2973\n"
     ]
    },
    {
     "data": {
      "application/vnd.jupyter.widget-view+json": {
       "model_id": "77e2b9f7d0d24c7cbb037f90d25b04d9",
       "version_major": 2,
       "version_minor": 0
      },
      "text/plain": [
       "  0%|          | 0/10 [00:00<?, ?it/s]"
      ]
     },
     "metadata": {},
     "output_type": "display_data"
    },
    {
     "name": "stdout",
     "output_type": "stream",
     "text": [
      "[I 2024-01-11 02:36:29,236] Trial 0 finished with value: 0.6470588235294118 and parameters: {'C': 191.8514809606202, 'gamma': 0.0019159671180753342, 'kernel': 'rbf', 'degree': 5, 'shrinking': False, 'coef0': 9.204143773301453, 'class_weight': None}. Best is trial 0 with value: 0.6470588235294118.\n",
      "[I 2024-01-11 02:36:29,510] Trial 1 finished with value: 0.6654411764705882 and parameters: {'C': 15.001981270232958, 'gamma': 0.6455605701529084, 'kernel': 'linear', 'degree': 8, 'shrinking': True, 'coef0': 7.763093863222944, 'class_weight': None}. Best is trial 1 with value: 0.6654411764705882.\n",
      "[I 2024-01-11 02:36:29,543] Trial 2 finished with value: 0.4007352941176471 and parameters: {'C': 0.13191245311416067, 'gamma': 5.12548760588023, 'kernel': 'sigmoid', 'degree': 7, 'shrinking': False, 'coef0': 5.724846480358, 'class_weight': 'balanced'}. Best is trial 1 with value: 0.6654411764705882.\n",
      "[I 2024-01-11 02:36:29,613] Trial 3 finished with value: 0.47794117647058826 and parameters: {'C': 106.16398324714953, 'gamma': 19.082825181349044, 'kernel': 'rbf', 'degree': 3, 'shrinking': True, 'coef0': 7.389493189937397, 'class_weight': None}. Best is trial 1 with value: 0.6654411764705882.\n",
      "[I 2024-01-11 02:36:29,679] Trial 4 finished with value: 0.47794117647058826 and parameters: {'C': 0.0015768926544699948, 'gamma': 671.6818227917473, 'kernel': 'rbf', 'degree': 6, 'shrinking': True, 'coef0': 0.5411513180177996, 'class_weight': None}. Best is trial 1 with value: 0.6654411764705882.\n",
      "[I 2024-01-11 02:36:29,720] Trial 5 finished with value: 0.47794117647058826 and parameters: {'C': 4.585470938192983, 'gamma': 0.0062235471736240494, 'kernel': 'sigmoid', 'degree': 7, 'shrinking': True, 'coef0': 8.558445530359961, 'class_weight': None}. Best is trial 1 with value: 0.6654411764705882.\n",
      "[I 2024-01-11 02:36:29,828] Trial 6 finished with value: 0.47794117647058826 and parameters: {'C': 9347.158493665947, 'gamma': 16.29497493586767, 'kernel': 'rbf', 'degree': 5, 'shrinking': False, 'coef0': 5.2024128086292105, 'class_weight': None}. Best is trial 1 with value: 0.6654411764705882.\n",
      "[I 2024-01-11 02:36:29,872] Trial 7 finished with value: 0.6323529411764706 and parameters: {'C': 326.5660922398802, 'gamma': 0.04877755862033121, 'kernel': 'rbf', 'degree': 10, 'shrinking': False, 'coef0': 3.0261730187210056, 'class_weight': None}. Best is trial 1 with value: 0.6654411764705882.\n",
      "[I 2024-01-11 02:36:29,893] Trial 8 finished with value: 0.5404411764705882 and parameters: {'C': 1075.3057393744589, 'gamma': 58.46623907304644, 'kernel': 'sigmoid', 'degree': 10, 'shrinking': True, 'coef0': 9.694070614992555, 'class_weight': None}. Best is trial 1 with value: 0.6654411764705882.\n",
      "[I 2024-01-11 02:38:04,622] Trial 9 finished with value: 0.6764705882352942 and parameters: {'C': 1834.7675684236676, 'gamma': 959.4651529733504, 'kernel': 'linear', 'degree': 5, 'shrinking': False, 'coef0': 4.011903071565719, 'class_weight': None}. Best is trial 9 with value: 0.6764705882352942.\n",
      "Best trial:\n",
      " Value:  0.6764705882352942\n",
      " Params: \n",
      "    C: 1834.7675684236676\n",
      "    gamma: 959.4651529733504\n",
      "    kernel: linear\n",
      "    degree: 5\n",
      "    shrinking: False\n",
      "    coef0: 4.011903071565719\n",
      "    class_weight: None\n",
      "              precision    recall  f1-score   support\n",
      "\n",
      "           A       0.46      0.74      0.57        23\n",
      "           B       0.78      0.72      0.75       130\n",
      "           C       0.57      0.46      0.51        67\n",
      "           D       0.69      0.81      0.74        52\n",
      "\n",
      "    accuracy                           0.68       272\n",
      "   macro avg       0.63      0.68      0.64       272\n",
      "weighted avg       0.69      0.68      0.68       272\n",
      "\n"
     ]
    }
   ],
   "source": [
    "# Crea el estudio y optimiza\n",
    "study = optuna.create_study(direction = 'maximize')\n",
    "study.optimize(objective, n_trials = 10, show_progress_bar = True)\n",
    "\n",
    "# Imprime los mejores hiperparámetros\n",
    "print('Best trial:')\n",
    "trial = study.best_trial\n",
    "print(\" Value: \", trial.value)\n",
    "print(\" Params: \")\n",
    "for key, value in trial.params.items():\n",
    "    print(\"    {}: {}\".format(key, value))\n",
    "\n",
    "# Imprime el informe de clasificación del mejor ensayo\n",
    "best_trial = study.best_trial\n",
    "best_classifier = svm.SVC(**best_trial.params)\n",
    "best_classifier.fit(X_train, y_train)\n",
    "y_pred = best_classifier.predict(X_test)\n",
    "print(classification_report(y_test, y_pred))"
   ]
  },
  {
   "cell_type": "code",
   "execution_count": 10,
   "metadata": {},
   "outputs": [],
   "source": [
    "X_final = result_df_test.drop('ID', axis=1, inplace=False)\n",
    "test_ID = result_df_test['ID'].copy()\n",
    "\n",
    "y_pred = best_classifier.predict(X_final)\n",
    "df_pred = pd.DataFrame({'ID':test_ID,'TARGET':y_pred})\n",
    "\n",
    "df_pred.to_csv('../Resultados/prediccion_optuna.csv', index=False, sep=',')"
   ]
  }
 ],
 "metadata": {
  "kernelspec": {
   "display_name": "base",
   "language": "python",
   "name": "python3"
  },
  "language_info": {
   "codemirror_mode": {
    "name": "ipython",
    "version": 3
   },
   "file_extension": ".py",
   "mimetype": "text/x-python",
   "name": "python",
   "nbconvert_exporter": "python",
   "pygments_lexer": "ipython3",
   "version": "3.9.18"
  }
 },
 "nbformat": 4,
 "nbformat_minor": 2
}
